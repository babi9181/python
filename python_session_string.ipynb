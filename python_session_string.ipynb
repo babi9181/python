{
 "cells": [
  {
   "cell_type": "code",
   "execution_count": null,
   "id": "61f5cf0d",
   "metadata": {},
   "outputs": [],
   "source": [
    "# string\n",
    "# list\n",
    "# dictionary\n",
    "# tuple\n",
    "# set"
   ]
  },
  {
   "cell_type": "markdown",
   "id": "0dae7586",
   "metadata": {},
   "source": [
    " **how to read the strings**"
   ]
  },
  {
   "cell_type": "code",
   "execution_count": 1,
   "id": "0e4445a3",
   "metadata": {},
   "outputs": [
    {
     "data": {
      "text/plain": [
       "'python'"
      ]
     },
     "execution_count": 1,
     "metadata": {},
     "output_type": "execute_result"
    }
   ],
   "source": [
    "string1='python'  # single quote\n",
    "string1"
   ]
  },
  {
   "cell_type": "code",
   "execution_count": 2,
   "id": "b0e1c661",
   "metadata": {},
   "outputs": [
    {
     "data": {
      "text/plain": [
       "'python'"
      ]
     },
     "execution_count": 2,
     "metadata": {},
     "output_type": "execute_result"
    }
   ],
   "source": [
    "string2=\"python\"  # double quote\n",
    "string2"
   ]
  },
  {
   "cell_type": "code",
   "execution_count": null,
   "id": "f7c6bc36",
   "metadata": {},
   "outputs": [],
   "source": [
    "# triple quotes\n",
    "# doc string is used to say some information about your python code"
   ]
  },
  {
   "cell_type": "code",
   "execution_count": null,
   "id": "6e86c4a8",
   "metadata": {},
   "outputs": [],
   "source": [
    "\"\"\"\n",
    "im creating a hello function\n",
    "arguments:none\n",
    "return:   none\n",
    "\"\"\"\n",
    "def hello():\n",
    "    print(\"good morning\")"
   ]
  },
  {
   "cell_type": "code",
   "execution_count": 3,
   "id": "9c01d072",
   "metadata": {},
   "outputs": [
    {
     "name": "stdout",
     "output_type": "stream",
     "text": [
      "hello 'python'\n"
     ]
    }
   ],
   "source": [
    "string3=\"hello 'python'\"\n",
    "print(string3)"
   ]
  },
  {
   "cell_type": "code",
   "execution_count": 4,
   "id": "3a313200",
   "metadata": {},
   "outputs": [
    {
     "name": "stdout",
     "output_type": "stream",
     "text": [
      "hello \"python\"\n"
     ]
    }
   ],
   "source": [
    "string4='hello \"python\"'\n",
    "print(string4)"
   ]
  },
  {
   "cell_type": "markdown",
   "id": "5b1616db",
   "metadata": {},
   "source": [
    "- type\n",
    "- len\n",
    "- max\n",
    "- min"
   ]
  },
  {
   "cell_type": "markdown",
   "id": "68bd9187",
   "metadata": {},
   "source": [
    "**type**"
   ]
  },
  {
   "cell_type": "code",
   "execution_count": 6,
   "id": "8dbd2d38",
   "metadata": {},
   "outputs": [
    {
     "data": {
      "text/plain": [
       "'python'"
      ]
     },
     "execution_count": 6,
     "metadata": {},
     "output_type": "execute_result"
    }
   ],
   "source": [
    "string1"
   ]
  },
  {
   "cell_type": "code",
   "execution_count": 7,
   "id": "14c1d973",
   "metadata": {},
   "outputs": [
    {
     "data": {
      "text/plain": [
       "str"
      ]
     },
     "execution_count": 7,
     "metadata": {},
     "output_type": "execute_result"
    }
   ],
   "source": [
    "type(string1)"
   ]
  },
  {
   "cell_type": "markdown",
   "id": "d3442a71",
   "metadata": {},
   "source": [
    "**len**"
   ]
  },
  {
   "cell_type": "code",
   "execution_count": 8,
   "id": "5454a8e5",
   "metadata": {},
   "outputs": [
    {
     "data": {
      "text/plain": [
       "6"
      ]
     },
     "execution_count": 8,
     "metadata": {},
     "output_type": "execute_result"
    }
   ],
   "source": [
    "len(string1)"
   ]
  },
  {
   "cell_type": "markdown",
   "id": "11a17822",
   "metadata": {},
   "source": [
    "**max-min**"
   ]
  },
  {
   "cell_type": "code",
   "execution_count": 9,
   "id": "d4ff4ca7",
   "metadata": {},
   "outputs": [
    {
     "data": {
      "text/plain": [
       "'y'"
      ]
     },
     "execution_count": 9,
     "metadata": {},
     "output_type": "execute_result"
    }
   ],
   "source": [
    "max(string1)"
   ]
  },
  {
   "cell_type": "code",
   "execution_count": 11,
   "id": "8005fdec",
   "metadata": {},
   "outputs": [
    {
     "data": {
      "text/plain": [
       "'p'"
      ]
     },
     "execution_count": 11,
     "metadata": {},
     "output_type": "execute_result"
    }
   ],
   "source": [
    "string1='pP'\n",
    "max(string1)"
   ]
  },
  {
   "cell_type": "markdown",
   "id": "e7f885af",
   "metadata": {},
   "source": [
    "$ord$-$chr$"
   ]
  },
  {
   "cell_type": "code",
   "execution_count": 13,
   "id": "ad7562dc",
   "metadata": {},
   "outputs": [
    {
     "data": {
      "text/plain": [
       "112"
      ]
     },
     "execution_count": 13,
     "metadata": {},
     "output_type": "execute_result"
    }
   ],
   "source": [
    "ord('p')"
   ]
  },
  {
   "cell_type": "code",
   "execution_count": 14,
   "id": "e144f83e",
   "metadata": {},
   "outputs": [
    {
     "data": {
      "text/plain": [
       "80"
      ]
     },
     "execution_count": 14,
     "metadata": {},
     "output_type": "execute_result"
    }
   ],
   "source": [
    "ord('P')"
   ]
  },
  {
   "cell_type": "code",
   "execution_count": 15,
   "id": "9b4824ff",
   "metadata": {},
   "outputs": [
    {
     "data": {
      "text/plain": [
       "(112, 121, 116, 104, 111, 110)"
      ]
     },
     "execution_count": 15,
     "metadata": {},
     "output_type": "execute_result"
    }
   ],
   "source": [
    "ord('p'),ord('y'),ord('t'),ord('h'),ord('o'),ord('n')"
   ]
  },
  {
   "cell_type": "code",
   "execution_count": 16,
   "id": "3236ed00",
   "metadata": {},
   "outputs": [
    {
     "data": {
      "text/plain": [
       "('p', 'y', 't', 'h', 'o', 'n')"
      ]
     },
     "execution_count": 16,
     "metadata": {},
     "output_type": "execute_result"
    }
   ],
   "source": [
    "chr(112),chr(121),chr(116),chr(104),chr(111),chr(110)"
   ]
  },
  {
   "cell_type": "code",
   "execution_count": 17,
   "id": "2daf9b08",
   "metadata": {},
   "outputs": [
    {
     "name": "stdout",
     "output_type": "stream",
     "text": [
      "0\n",
      "1\n",
      "2\n",
      "3\n",
      "4\n",
      "5\n"
     ]
    }
   ],
   "source": [
    "for i in range(len('python')):\n",
    "    print(i)"
   ]
  },
  {
   "cell_type": "code",
   "execution_count": 18,
   "id": "edbd74fc",
   "metadata": {},
   "outputs": [
    {
     "data": {
      "text/plain": [
       "True"
      ]
     },
     "execution_count": 18,
     "metadata": {},
     "output_type": "execute_result"
    }
   ],
   "source": [
    "string1='python'\n",
    "'p' in string1\n",
    "'y' in string1\n",
    "'t' in string1\n",
    "'h' in string1\n",
    "'o' in string1\n",
    "'n' in string1\n",
    "\n",
    "# i in string1"
   ]
  },
  {
   "cell_type": "code",
   "execution_count": 19,
   "id": "7c37e8bd",
   "metadata": {},
   "outputs": [
    {
     "name": "stdout",
     "output_type": "stream",
     "text": [
      "p\n",
      "y\n",
      "t\n",
      "h\n",
      "o\n",
      "n\n"
     ]
    }
   ],
   "source": [
    "for i in string1:\n",
    "    print(i)"
   ]
  },
  {
   "cell_type": "markdown",
   "id": "96a3c57c",
   "metadata": {},
   "source": [
    "- range() :you need to provide number inside the range\n",
    "- in: is used only for strings\n",
    "- if you want print the letters using for loop go for in operator"
   ]
  },
  {
   "cell_type": "code",
   "execution_count": 20,
   "id": "e3c9c90f",
   "metadata": {},
   "outputs": [
    {
     "name": "stdout",
     "output_type": "stream",
     "text": [
      "112\n",
      "121\n",
      "116\n",
      "104\n",
      "111\n",
      "110\n",
      "110\n"
     ]
    }
   ],
   "source": [
    "\n",
    "\n",
    "print(ord('p'))\n",
    "print(ord('y'))\n",
    "print(ord('t'))\n",
    "print(ord('h'))\n",
    "print(ord('o'))\n",
    "print(ord('n'))\n",
    "\n",
    "\n",
    "print(ord(i))"
   ]
  },
  {
   "cell_type": "code",
   "execution_count": 21,
   "id": "4fa5204b",
   "metadata": {},
   "outputs": [
    {
     "name": "stdout",
     "output_type": "stream",
     "text": [
      "112\n",
      "121\n",
      "116\n",
      "104\n",
      "111\n",
      "110\n"
     ]
    }
   ],
   "source": [
    "for i in string1:\n",
    "    print(ord(i))\n",
    "    \n",
    "    # the ascii value of p is 112"
   ]
  },
  {
   "cell_type": "code",
   "execution_count": 22,
   "id": "65792948",
   "metadata": {},
   "outputs": [
    {
     "name": "stdout",
     "output_type": "stream",
     "text": [
      "the ascii value of p is 112\n",
      "the ascii value of y is 121\n",
      "the ascii value of t is 116\n",
      "the ascii value of h is 104\n",
      "the ascii value of o is 111\n",
      "the ascii value of n is 110\n"
     ]
    }
   ],
   "source": [
    " "
   ]
  },
  {
   "cell_type": "code",
   "execution_count": null,
   "id": "6dcf5c5d",
   "metadata": {},
   "outputs": [],
   "source": [
    "# ascii value of A to Z"
   ]
  },
  {
   "cell_type": "code",
   "execution_count": 23,
   "id": "21255875",
   "metadata": {},
   "outputs": [
    {
     "name": "stdout",
     "output_type": "stream",
     "text": [
      "the ascii value of A is 65 \n",
      "the ascii value of B is 66 \n",
      "the ascii value of C is 67 \n",
      "the ascii value of D is 68 \n",
      "the ascii value of E is 69 \n",
      "the ascii value of F is 70 \n",
      "the ascii value of G is 71 \n",
      "the ascii value of H is 72 \n",
      "the ascii value of I is 73 \n",
      "the ascii value of J is 74 \n",
      "the ascii value of K is 75 \n",
      "the ascii value of L is 76 \n",
      "the ascii value of M is 77 \n",
      "the ascii value of N is 78 \n",
      "the ascii value of O is 79 \n",
      "the ascii value of P is 80 \n",
      "the ascii value of Q is 81 \n",
      "the ascii value of R is 82 \n",
      "the ascii value of S is 83 \n",
      "the ascii value of T is 84 \n",
      "the ascii value of U is 85 \n",
      "the ascii value of V is 86 \n",
      "the ascii value of W is 87 \n",
      "the ascii value of X is 88 \n",
      "the ascii value of Y is 89 \n",
      "the ascii value of Z is 90 \n"
     ]
    }
   ],
   "source": [
    "string='ABCDEFGHIJKLMNOPQRSTUVWXYZ'\n",
    "for i in string:\n",
    "    print(\"the ascii value of {} is {} \".format(i,ord(i)))"
   ]
  },
  {
   "cell_type": "code",
   "execution_count": 24,
   "id": "11ab4084",
   "metadata": {},
   "outputs": [
    {
     "data": {
      "text/plain": [
       "['Formatter',\n",
       " 'Template',\n",
       " '_ChainMap',\n",
       " '__all__',\n",
       " '__builtins__',\n",
       " '__cached__',\n",
       " '__doc__',\n",
       " '__file__',\n",
       " '__loader__',\n",
       " '__name__',\n",
       " '__package__',\n",
       " '__spec__',\n",
       " '_re',\n",
       " '_sentinel_dict',\n",
       " '_string',\n",
       " 'ascii_letters',\n",
       " 'ascii_lowercase',\n",
       " 'ascii_uppercase',\n",
       " 'capwords',\n",
       " 'digits',\n",
       " 'hexdigits',\n",
       " 'octdigits',\n",
       " 'printable',\n",
       " 'punctuation',\n",
       " 'whitespace']"
      ]
     },
     "execution_count": 24,
     "metadata": {},
     "output_type": "execute_result"
    }
   ],
   "source": [
    "import string\n",
    "dir(string)"
   ]
  },
  {
   "cell_type": "code",
   "execution_count": 25,
   "id": "ee684253",
   "metadata": {},
   "outputs": [
    {
     "name": "stdout",
     "output_type": "stream",
     "text": [
      "the ascii value of A is 65\n",
      "the ascii value of B is 66\n",
      "the ascii value of C is 67\n",
      "the ascii value of D is 68\n",
      "the ascii value of E is 69\n",
      "the ascii value of F is 70\n",
      "the ascii value of G is 71\n",
      "the ascii value of H is 72\n",
      "the ascii value of I is 73\n",
      "the ascii value of J is 74\n",
      "the ascii value of K is 75\n",
      "the ascii value of L is 76\n",
      "the ascii value of M is 77\n",
      "the ascii value of N is 78\n",
      "the ascii value of O is 79\n",
      "the ascii value of P is 80\n",
      "the ascii value of Q is 81\n",
      "the ascii value of R is 82\n",
      "the ascii value of S is 83\n",
      "the ascii value of T is 84\n",
      "the ascii value of U is 85\n",
      "the ascii value of V is 86\n",
      "the ascii value of W is 87\n",
      "the ascii value of X is 88\n",
      "the ascii value of Y is 89\n",
      "the ascii value of Z is 90\n"
     ]
    }
   ],
   "source": [
    "for i in string.ascii_uppercase:\n",
    "    print(\"the ascii value of {} is {}\".format(i,ord(i)))"
   ]
  },
  {
   "cell_type": "code",
   "execution_count": 26,
   "id": "5d571251",
   "metadata": {},
   "outputs": [
    {
     "name": "stdout",
     "output_type": "stream",
     "text": [
      "the ascii value of a is 97\n",
      "the ascii value of b is 98\n",
      "the ascii value of c is 99\n",
      "the ascii value of d is 100\n",
      "the ascii value of e is 101\n",
      "the ascii value of f is 102\n",
      "the ascii value of g is 103\n",
      "the ascii value of h is 104\n",
      "the ascii value of i is 105\n",
      "the ascii value of j is 106\n",
      "the ascii value of k is 107\n",
      "the ascii value of l is 108\n",
      "the ascii value of m is 109\n",
      "the ascii value of n is 110\n",
      "the ascii value of o is 111\n",
      "the ascii value of p is 112\n",
      "the ascii value of q is 113\n",
      "the ascii value of r is 114\n",
      "the ascii value of s is 115\n",
      "the ascii value of t is 116\n",
      "the ascii value of u is 117\n",
      "the ascii value of v is 118\n",
      "the ascii value of w is 119\n",
      "the ascii value of x is 120\n",
      "the ascii value of y is 121\n",
      "the ascii value of z is 122\n"
     ]
    }
   ],
   "source": [
    "for i in string.ascii_lowercase:\n",
    "    print(\"the ascii value of {} is {}\".format(i,ord(i)))"
   ]
  },
  {
   "cell_type": "code",
   "execution_count": 27,
   "id": "378ab08d",
   "metadata": {},
   "outputs": [
    {
     "name": "stdout",
     "output_type": "stream",
     "text": [
      "the ascii value of ! is 33\n",
      "the ascii value of \" is 34\n",
      "the ascii value of # is 35\n",
      "the ascii value of $ is 36\n",
      "the ascii value of % is 37\n",
      "the ascii value of & is 38\n",
      "the ascii value of ' is 39\n",
      "the ascii value of ( is 40\n",
      "the ascii value of ) is 41\n",
      "the ascii value of * is 42\n",
      "the ascii value of + is 43\n",
      "the ascii value of , is 44\n",
      "the ascii value of - is 45\n",
      "the ascii value of . is 46\n",
      "the ascii value of / is 47\n",
      "the ascii value of : is 58\n",
      "the ascii value of ; is 59\n",
      "the ascii value of < is 60\n",
      "the ascii value of = is 61\n",
      "the ascii value of > is 62\n",
      "the ascii value of ? is 63\n",
      "the ascii value of @ is 64\n",
      "the ascii value of [ is 91\n",
      "the ascii value of \\ is 92\n",
      "the ascii value of ] is 93\n",
      "the ascii value of ^ is 94\n",
      "the ascii value of _ is 95\n",
      "the ascii value of ` is 96\n",
      "the ascii value of { is 123\n",
      "the ascii value of | is 124\n",
      "the ascii value of } is 125\n",
      "the ascii value of ~ is 126\n"
     ]
    }
   ],
   "source": [
    "for i in string.punctuation:\n",
    "    print(\"the ascii value of {} is {}\".format(i,ord(i)))"
   ]
  },
  {
   "cell_type": "code",
   "execution_count": 28,
   "id": "97f84261",
   "metadata": {},
   "outputs": [
    {
     "data": {
      "text/plain": [
       "97"
      ]
     },
     "execution_count": 28,
     "metadata": {},
     "output_type": "execute_result"
    }
   ],
   "source": [
    "# what is the start and end of ascii numbers?\n",
    "ord('a')"
   ]
  },
  {
   "cell_type": "code",
   "execution_count": 29,
   "id": "21b6718e",
   "metadata": {},
   "outputs": [
    {
     "name": "stdout",
     "output_type": "stream",
     "text": [
      "1 \u0001\n",
      "2 \u0002\n",
      "3 \u0003\n",
      "4 \u0004\n",
      "5 \u0005\n",
      "6 \u0006\n",
      "7 \u0007\n",
      "8 \b\n",
      "9 \t\n",
      "10 \n",
      "\n",
      "11 \u000b",
      "\n",
      "12 \f",
      "\n",
      "13 \r\n",
      "14 \u000e\n",
      "15 \u000f\n",
      "16 \u0010\n",
      "17 \u0011\n",
      "18 \u0012\n",
      "19 \u0013\n",
      "20 \u0014\n",
      "21 \u0015\n",
      "22 \u0016\n",
      "23 \u0017\n",
      "24 \u0018\n",
      "25 \u0019\n",
      "26 \u001a\n",
      "27 \u001b\n",
      "28 \u001c",
      "\n",
      "29 \u001d",
      "\n",
      "30 \u001e",
      "\n",
      "31 \u001f\n",
      "32  \n",
      "33 !\n",
      "34 \"\n",
      "35 #\n",
      "36 $\n",
      "37 %\n",
      "38 &\n",
      "39 '\n",
      "40 (\n",
      "41 )\n",
      "42 *\n",
      "43 +\n",
      "44 ,\n",
      "45 -\n",
      "46 .\n",
      "47 /\n",
      "48 0\n",
      "49 1\n"
     ]
    }
   ],
   "source": [
    "for i in range (1,50):\n",
    "    print(i,chr(i))"
   ]
  },
  {
   "cell_type": "code",
   "execution_count": 30,
   "id": "e9af584d",
   "metadata": {},
   "outputs": [
    {
     "name": "stdout",
     "output_type": "stream",
     "text": [
      "100 d\n",
      "101 e\n",
      "102 f\n",
      "103 g\n",
      "104 h\n",
      "105 i\n",
      "106 j\n",
      "107 k\n",
      "108 l\n",
      "109 m\n",
      "110 n\n",
      "111 o\n",
      "112 p\n",
      "113 q\n",
      "114 r\n",
      "115 s\n",
      "116 t\n",
      "117 u\n",
      "118 v\n",
      "119 w\n",
      "120 x\n",
      "121 y\n",
      "122 z\n",
      "123 {\n",
      "124 |\n",
      "125 }\n",
      "126 ~\n",
      "127 \n",
      "128 \n",
      "129 \n",
      "130 \n",
      "131 \n",
      "132 \n",
      "133 ",
      "\n",
      "134 \n",
      "135 \n",
      "136 \n",
      "137 \n",
      "138 \n",
      "139 \n",
      "140 \n",
      "141 \n",
      "142 \n",
      "143 \n",
      "144 \n",
      "145 \n",
      "146 \n",
      "147 \n",
      "148 \n",
      "149 \n"
     ]
    }
   ],
   "source": [
    "for i in range (100,150):\n",
    "    print(i,chr(i))"
   ]
  },
  {
   "cell_type": "code",
   "execution_count": 31,
   "id": "943f82d0",
   "metadata": {},
   "outputs": [
    {
     "name": "stdout",
     "output_type": "stream",
     "text": [
      "33 !\n",
      "34 \"\n",
      "35 #\n",
      "36 $\n",
      "37 %\n",
      "38 &\n",
      "39 '\n",
      "40 (\n",
      "41 )\n",
      "42 *\n",
      "43 +\n",
      "44 ,\n",
      "45 -\n",
      "46 .\n",
      "47 /\n",
      "48 0\n",
      "49 1\n",
      "50 2\n",
      "51 3\n",
      "52 4\n",
      "53 5\n",
      "54 6\n",
      "55 7\n",
      "56 8\n",
      "57 9\n",
      "58 :\n",
      "59 ;\n",
      "60 <\n",
      "61 =\n",
      "62 >\n",
      "63 ?\n",
      "64 @\n",
      "65 A\n",
      "66 B\n",
      "67 C\n",
      "68 D\n",
      "69 E\n",
      "70 F\n",
      "71 G\n",
      "72 H\n",
      "73 I\n",
      "74 J\n",
      "75 K\n",
      "76 L\n",
      "77 M\n",
      "78 N\n",
      "79 O\n",
      "80 P\n",
      "81 Q\n",
      "82 R\n",
      "83 S\n",
      "84 T\n",
      "85 U\n",
      "86 V\n",
      "87 W\n",
      "88 X\n",
      "89 Y\n",
      "90 Z\n",
      "91 [\n",
      "92 \\\n",
      "93 ]\n",
      "94 ^\n",
      "95 _\n",
      "96 `\n",
      "97 a\n",
      "98 b\n",
      "99 c\n",
      "100 d\n",
      "101 e\n",
      "102 f\n",
      "103 g\n",
      "104 h\n",
      "105 i\n",
      "106 j\n",
      "107 k\n",
      "108 l\n",
      "109 m\n",
      "110 n\n",
      "111 o\n",
      "112 p\n",
      "113 q\n",
      "114 r\n",
      "115 s\n",
      "116 t\n",
      "117 u\n",
      "118 v\n",
      "119 w\n",
      "120 x\n",
      "121 y\n",
      "122 z\n",
      "123 {\n",
      "124 |\n",
      "125 }\n"
     ]
    }
   ],
   "source": [
    "for i in range (33,126):\n",
    "    print(i,chr(i))\n",
    "    \n",
    "    # start with 33\n",
    "    # end with 126"
   ]
  },
  {
   "cell_type": "code",
   "execution_count": 32,
   "id": "2ad3e99e",
   "metadata": {},
   "outputs": [
    {
     "data": {
      "text/plain": [
       "'abcdefghijklmnopqrstuvwxyzABCDEFGHIJKLMNOPQRSTUVWXYZ'"
      ]
     },
     "execution_count": 32,
     "metadata": {},
     "output_type": "execute_result"
    }
   ],
   "source": [
    "string.ascii_letters"
   ]
  },
  {
   "cell_type": "code",
   "execution_count": 33,
   "id": "15ec026f",
   "metadata": {},
   "outputs": [
    {
     "data": {
      "text/plain": [
       "'0123456789abcdefghijklmnopqrstuvwxyzABCDEFGHIJKLMNOPQRSTUVWXYZ!\"#$%&\\'()*+,-./:;<=>?@[\\\\]^_`{|}~ \\t\\n\\r\\x0b\\x0c'"
      ]
     },
     "execution_count": 33,
     "metadata": {},
     "output_type": "execute_result"
    }
   ],
   "source": [
    "string.printable\n",
    "\n",
    "# digts\n",
    "# lower\n",
    "# upp\n",
    "# punt"
   ]
  },
  {
   "cell_type": "code",
   "execution_count": 1,
   "id": "c6241974",
   "metadata": {},
   "outputs": [
    {
     "name": "stdout",
     "output_type": "stream",
     "text": [
      "3\n"
     ]
    }
   ],
   "source": [
    "# wap ask the user find number of 'a' letters in a given string\n",
    "# string='hai how are you and how do you do'\n",
    "\n",
    "string='hai how are you and how do you do'\n",
    "count=0\n",
    "for i in string:\n",
    "    if i=='a':\n",
    "        count=count+1\n",
    "        \n",
    "print(count)        \n",
    "    "
   ]
  },
  {
   "cell_type": "code",
   "execution_count": 40,
   "id": "565da175",
   "metadata": {},
   "outputs": [
    {
     "name": "stdout",
     "output_type": "stream",
     "text": [
      "7\n"
     ]
    }
   ],
   "source": [
    "# wap count the number of vowels in a given string\n",
    "# string='hai how are you'\n",
    "\n",
    "string='hai how are you'\n",
    "count=0\n",
    "for i in string:\n",
    "    if i=='a'or i=='e'or i=='i'or i=='o'or i=='u':\n",
    "        count=count+1\n",
    "        \n",
    "print(count)        "
   ]
  },
  {
   "cell_type": "code",
   "execution_count": 44,
   "id": "04bff283",
   "metadata": {},
   "outputs": [
    {
     "name": "stdout",
     "output_type": "stream",
     "text": [
      "7\n"
     ]
    }
   ],
   "source": [
    "# or  Q\n",
    "string='hai how are you'\n",
    "count=0\n",
    "for i in string:\n",
    "    if i in'aeiou':\n",
    "        count=count+1\n",
    "        \n",
    "print(count)        "
   ]
  },
  {
   "cell_type": "code",
   "execution_count": 46,
   "id": "51bb2d40",
   "metadata": {},
   "outputs": [
    {
     "name": "stdout",
     "output_type": "stream",
     "text": [
      "python\n"
     ]
    }
   ],
   "source": [
    "# wap count the number of unique vowels in a given string\n",
    "# string='hai how are you'\n",
    "\n",
    "string1=''\n",
    "for i in 'python':\n",
    "    string1=string1+i\n",
    "    \n",
    "print(string1)    "
   ]
  },
  {
   "cell_type": "code",
   "execution_count": 47,
   "id": "af5bb4f5",
   "metadata": {},
   "outputs": [
    {
     "name": "stdout",
     "output_type": "stream",
     "text": [
      "7\n"
     ]
    }
   ],
   "source": [
    "string='hai how are you'\n",
    "str1=''\n",
    "count=0\n",
    "for i in string:\n",
    "    if i in'aeiou':\n",
    "        count=count+1\n",
    "        \n",
    "print(count)        "
   ]
  },
  {
   "cell_type": "markdown",
   "id": "cf29bb2c",
   "metadata": {},
   "source": [
    "$concatenation$"
   ]
  },
  {
   "cell_type": "code",
   "execution_count": 49,
   "id": "fe05951f",
   "metadata": {},
   "outputs": [
    {
     "data": {
      "text/plain": [
       "'haihow'"
      ]
     },
     "execution_count": 49,
     "metadata": {},
     "output_type": "execute_result"
    }
   ],
   "source": [
    "str1='hai'\n",
    "str2='how'\n",
    "str1+str2"
   ]
  },
  {
   "cell_type": "code",
   "execution_count": 50,
   "id": "85228192",
   "metadata": {},
   "outputs": [
    {
     "ename": "TypeError",
     "evalue": "unsupported operand type(s) for -: 'str' and 'str'",
     "output_type": "error",
     "traceback": [
      "\u001b[1;31m---------------------------------------------------------------------------\u001b[0m",
      "\u001b[1;31mTypeError\u001b[0m                                 Traceback (most recent call last)",
      "Cell \u001b[1;32mIn[50], line 1\u001b[0m\n\u001b[1;32m----> 1\u001b[0m str1\u001b[38;5;241m-\u001b[39mstr2\n\u001b[0;32m      2\u001b[0m str1\u001b[38;5;241m*\u001b[39mstr2\n\u001b[0;32m      3\u001b[0m str1\u001b[38;5;241m/\u001b[39mstr2\n",
      "\u001b[1;31mTypeError\u001b[0m: unsupported operand type(s) for -: 'str' and 'str'"
     ]
    }
   ],
   "source": [
    "str1-str2\n",
    "str1*str2\n",
    "str1/str2\n"
   ]
  },
  {
   "cell_type": "code",
   "execution_count": 51,
   "id": "99dea3a7",
   "metadata": {},
   "outputs": [
    {
     "data": {
      "text/plain": [
       "'howhowhow'"
      ]
     },
     "execution_count": 51,
     "metadata": {},
     "output_type": "execute_result"
    }
   ],
   "source": [
    "3*str2"
   ]
  },
  {
   "cell_type": "markdown",
   "id": "722eeda0",
   "metadata": {},
   "source": [
    "- how to red\n",
    "- single/double/triple\n",
    "- tyoe\n",
    "- len\n",
    "- in(how to operate through for loop)\n",
    "- max\n",
    "- min\n",
    "- concatenation"
   ]
  },
  {
   "cell_type": "markdown",
   "id": "082b8205",
   "metadata": {},
   "source": [
    "$Index$"
   ]
  },
  {
   "cell_type": "code",
   "execution_count": 55,
   "id": "3939325f",
   "metadata": {},
   "outputs": [
    {
     "data": {
      "text/plain": [
       "'python'"
      ]
     },
     "execution_count": 55,
     "metadata": {},
     "output_type": "execute_result"
    }
   ],
   "source": [
    "string1='python'\n",
    "string1"
   ]
  },
  {
   "cell_type": "code",
   "execution_count": 57,
   "id": "1153285d",
   "metadata": {},
   "outputs": [
    {
     "ename": "TypeError",
     "evalue": "string indices must be integers, not 'str'",
     "output_type": "error",
     "traceback": [
      "\u001b[1;31m---------------------------------------------------------------------------\u001b[0m",
      "\u001b[1;31mTypeError\u001b[0m                                 Traceback (most recent call last)",
      "Cell \u001b[1;32mIn[57], line 3\u001b[0m\n\u001b[0;32m      1\u001b[0m string1[\u001b[38;5;241m0\u001b[39m],string1[\u001b[38;5;241m1\u001b[39m],string1[\u001b[38;5;241m2\u001b[39m],string1[\u001b[38;5;241m3\u001b[39m],string1[\u001b[38;5;241m4\u001b[39m],string1[\u001b[38;5;241m5\u001b[39m]\n\u001b[1;32m----> 3\u001b[0m string1[i]\n",
      "\u001b[1;31mTypeError\u001b[0m: string indices must be integers, not 'str'"
     ]
    }
   ],
   "source": [
    "string1[0],string1[1],string1[2],string1[3],string1[4],string1[5]\n",
    "\n",
    "string1[i]"
   ]
  },
  {
   "cell_type": "code",
   "execution_count": 58,
   "id": "ae603dc6",
   "metadata": {},
   "outputs": [
    {
     "name": "stdout",
     "output_type": "stream",
     "text": [
      "p y t h o n "
     ]
    }
   ],
   "source": [
    "for i in range(6):\n",
    "    print(string1[i],end=' ')"
   ]
  },
  {
   "cell_type": "code",
   "execution_count": 59,
   "id": "4ea58e57",
   "metadata": {},
   "outputs": [
    {
     "name": "stdout",
     "output_type": "stream",
     "text": [
      "p\n",
      "y\n",
      "t\n",
      "h\n",
      "o\n",
      "n\n",
      "0 p\n",
      "1 y\n",
      "2 t\n",
      "3 h\n",
      "4 o\n",
      "5 n\n"
     ]
    }
   ],
   "source": [
    "string1='python'\n",
    "for i in string1:\n",
    "    print(i)\n",
    "    \n",
    "for i in range(len(string1)):\n",
    "    print(i,string1[i])\n"
   ]
  },
  {
   "cell_type": "code",
   "execution_count": 61,
   "id": "8466b5f5",
   "metadata": {},
   "outputs": [
    {
     "ename": "TypeError",
     "evalue": "string indices must be integers, not 'str'",
     "output_type": "error",
     "traceback": [
      "\u001b[1;31m---------------------------------------------------------------------------\u001b[0m",
      "\u001b[1;31mTypeError\u001b[0m                                 Traceback (most recent call last)",
      "Cell \u001b[1;32mIn[61], line 3\u001b[0m\n\u001b[0;32m      1\u001b[0m name\u001b[38;5;241m=\u001b[39m\u001b[38;5;124m'\u001b[39m\u001b[38;5;124mpython class\u001b[39m\u001b[38;5;124m'\u001b[39m\n\u001b[0;32m      2\u001b[0m \u001b[38;5;28;01mfor\u001b[39;00m i \u001b[38;5;129;01min\u001b[39;00m name:\n\u001b[1;32m----> 3\u001b[0m     \u001b[38;5;28mprint\u001b[39m(\u001b[38;5;124m\"\u001b[39m\u001b[38;5;124mthe index no of \u001b[39m\u001b[38;5;124m'\u001b[39m\u001b[38;5;132;01m{}\u001b[39;00m\u001b[38;5;124m'\u001b[39m\u001b[38;5;124m is \u001b[39m\u001b[38;5;132;01m{}\u001b[39;00m\u001b[38;5;124m\"\u001b[39m\u001b[38;5;241m.\u001b[39mformat(name[i],i))\n",
      "\u001b[1;31mTypeError\u001b[0m: string indices must be integers, not 'str'"
     ]
    }
   ],
   "source": [
    "name='python class'\n",
    "for i in name:\n",
    "    print(\"the index no of '{}' is {}\".format(name[i],i))"
   ]
  },
  {
   "cell_type": "code",
   "execution_count": null,
   "id": "8cbb19e0",
   "metadata": {},
   "outputs": [],
   "source": [
    "-6 -5 -4 -3 -2 -1\n",
    "p  y  t   h  o  n\n",
    "0  1  2   3  4  5"
   ]
  },
  {
   "cell_type": "code",
   "execution_count": 6,
   "id": "c9e988e0",
   "metadata": {},
   "outputs": [
    {
     "data": {
      "text/plain": [
       "'t'"
      ]
     },
     "execution_count": 6,
     "metadata": {},
     "output_type": "execute_result"
    }
   ],
   "source": [
    "string1='python'\n",
    "string1[2]"
   ]
  },
  {
   "cell_type": "code",
   "execution_count": 6,
   "id": "397a32d5",
   "metadata": {},
   "outputs": [
    {
     "data": {
      "text/plain": [
       "('p', 'y', 't', 'h', 'o', 'n')"
      ]
     },
     "execution_count": 6,
     "metadata": {},
     "output_type": "execute_result"
    }
   ],
   "source": [
    "string1[-6],string1[-5],string1[-4],string1[-3],string1[-2],string1[-1]"
   ]
  },
  {
   "cell_type": "code",
   "execution_count": 7,
   "id": "82169ae9",
   "metadata": {},
   "outputs": [
    {
     "name": "stdout",
     "output_type": "stream",
     "text": [
      "the negative index of p is -6\n",
      "the negative index of y is -5\n",
      "the negative index of t is -4\n",
      "the negative index of h is -3\n",
      "the negative index of o is -2\n",
      "the negative index of n is -1\n"
     ]
    }
   ],
   "source": [
    "# iterate the for loop in string1\n",
    "# print the letters using negative index\n",
    "# the idea is first you need to print the numbers between -6 to -1 using for loop\n",
    "\n",
    "\n",
    "string1='python'\n",
    "for i in range(-len(string),0):\n",
    "    print(\"the negative index of {} is {}\".format(string[i],i))"
   ]
  },
  {
   "cell_type": "code",
   "execution_count": 8,
   "id": "d1ea04a8",
   "metadata": {},
   "outputs": [
    {
     "name": "stdout",
     "output_type": "stream",
     "text": [
      "the negative index of p is -6\n",
      "the negative index of y is -5\n",
      "the negative index of t is -4\n",
      "the negative index of h is -3\n",
      "the negative index of o is -2\n",
      "the negative index of n is -1\n"
     ]
    }
   ],
   "source": [
    "string1='python'\n",
    "for i in range(len(string1)):\n",
    "    print(\"the negative index of {} is {}\".format(string[i],i-6))"
   ]
  },
  {
   "cell_type": "code",
   "execution_count": 9,
   "id": "01a79c59",
   "metadata": {},
   "outputs": [
    {
     "name": "stdout",
     "output_type": "stream",
     "text": [
      "the positive index is 0 and negative index is p for -6\n",
      "the positive index is 1 and negative index is y for -5\n",
      "the positive index is 2 and negative index is t for -4\n",
      "the positive index is 3 and negative index is h for -3\n",
      "the positive index is 4 and negative index is o for -2\n",
      "the positive index is 5 and negative index is n for -1\n"
     ]
    }
   ],
   "source": [
    "string1='python'\n",
    "for i in range(len(string1)):\n",
    "    print(\"the positive index is {} and negative index is {} for {}\".format(i,string[i],i-6))"
   ]
  },
  {
   "cell_type": "code",
   "execution_count": 12,
   "id": "bd1d2611",
   "metadata": {},
   "outputs": [
    {
     "name": "stdout",
     "output_type": "stream",
     "text": [
      "the positive index of p is 0\n",
      "the positive index of y is 1\n",
      "the positive index of t is 2\n",
      "the positive index of h is 3\n",
      "the positive index of o is 4\n",
      "the positive index of n is 5\n",
      "the negative index of p is -6\n",
      "the negative index of y is -5\n",
      "the negative index of t is -4\n",
      "the negative index of h is -3\n",
      "the negative index of o is -2\n",
      "the negative index of n is -1\n",
      "the positive index is -12 and negative index is p for -6\n",
      "the positive index is -11 and negative index is y for -5\n",
      "the positive index is -10 and negative index is t for -4\n",
      "the positive index is -9 and negative index is h for -3\n",
      "the positive index is -8 and negative index is o for -2\n",
      "the positive index is -7 and negative index is n for -1\n"
     ]
    }
   ],
   "source": [
    "string1='python'\n",
    "for i in range(-len(string1),0):\n",
    "    print(\"the positive index of {} is {}\".format(string[i],i+6))\n",
    "    \n",
    "    \n",
    "string1='python'\n",
    "for i in range(-len(string1),0):\n",
    "    print(\"the negative index of {} is {}\".format(string[i],i))  \n",
    "    \n",
    "    \n",
    "string1='python'\n",
    "for i in range(-len(string1),0):\n",
    "    print(\"the positive index is {} and negative index is {} for {}\".format(i-6,string[i],i))    "
   ]
  },
  {
   "cell_type": "code",
   "execution_count": 11,
   "id": "47f35fd6",
   "metadata": {},
   "outputs": [
    {
     "name": "stdout",
     "output_type": "stream",
     "text": [
      "the positive index of p is 0\n",
      "the positive index of y is 1\n",
      "the positive index of t is 2\n",
      "the positive index of h is 3\n",
      "the positive index of o is 4\n",
      "the positive index of n is 5\n"
     ]
    }
   ],
   "source": [
    "i=0\n",
    "while i<(len(string1)):\n",
    "    for i in range(len(string1)):\n",
    "        print(\"the positive index of {} is {}\".format(string1[i],i))\n",
    "        i=i+1"
   ]
  },
  {
   "cell_type": "code",
   "execution_count": 14,
   "id": "0127a8d3",
   "metadata": {},
   "outputs": [
    {
     "name": "stdout",
     "output_type": "stream",
     "text": [
      "the positive index is 0 and negative index is -6 for p\n",
      "the positive index is 1 and negative index is -5 for y\n",
      "the positive index is 2 and negative index is -4 for t\n",
      "the positive index is 3 and negative index is -3 for h\n",
      "the positive index is 4 and negative index is -2 for o\n",
      "the positive index is 5 and negative index is -1 for n\n"
     ]
    }
   ],
   "source": [
    "i=0\n",
    "while i<len(string1):\n",
    "    print(\"the positive index is {} and negative index is {} for {}\".format(i,i-6,string[i]))    \n",
    "    i=i+1\n",
    "    "
   ]
  },
  {
   "cell_type": "code",
   "execution_count": 15,
   "id": "8de2a4a9",
   "metadata": {},
   "outputs": [
    {
     "name": "stdout",
     "output_type": "stream",
     "text": [
      "3\n"
     ]
    }
   ],
   "source": [
    "string1='hai how are you'\n",
    "count=1\n",
    "for i in string1:\n",
    "    if i=='a':\n",
    "        count+=1\n",
    "        \n",
    "print(count)        "
   ]
  },
  {
   "cell_type": "code",
   "execution_count": 17,
   "id": "2dcd288b",
   "metadata": {},
   "outputs": [
    {
     "name": "stdout",
     "output_type": "stream",
     "text": [
      "2\n"
     ]
    }
   ],
   "source": [
    "string1='hai how are you'\n",
    "count=0\n",
    "for i in range(len(string1)):\n",
    "    if string1[i]=='a':\n",
    "        count+=1\n",
    "        \n",
    "print(count)         "
   ]
  },
  {
   "cell_type": "markdown",
   "id": "123fc48f",
   "metadata": {},
   "source": [
    "# Mutable and immutable concepy"
   ]
  },
  {
   "cell_type": "markdown",
   "id": "28f3b717",
   "metadata": {},
   "source": [
    "- mutable======== we can change\n",
    "- immutable======= we can not change the value by using index operation\n",
    "- strings are immutablae"
   ]
  },
  {
   "cell_type": "code",
   "execution_count": 18,
   "id": "d337bca9",
   "metadata": {},
   "outputs": [
    {
     "ename": "TypeError",
     "evalue": "'str' object does not support item assignment",
     "output_type": "error",
     "traceback": [
      "\u001b[1;31m---------------------------------------------------------------------------\u001b[0m",
      "\u001b[1;31mTypeError\u001b[0m                                 Traceback (most recent call last)",
      "Cell \u001b[1;32mIn[18], line 4\u001b[0m\n\u001b[0;32m      1\u001b[0m string1\u001b[38;5;241m=\u001b[39m\u001b[38;5;124m'\u001b[39m\u001b[38;5;124mpython\u001b[39m\u001b[38;5;124m'\u001b[39m\n\u001b[0;32m      2\u001b[0m \u001b[38;5;66;03m# i want change 'p'  ==== 'p'\u001b[39;00m\n\u001b[0;32m      3\u001b[0m \u001b[38;5;66;03m# o/p: 'python'\u001b[39;00m\n\u001b[1;32m----> 4\u001b[0m string1[\u001b[38;5;241m0\u001b[39m]\u001b[38;5;241m=\u001b[39m\u001b[38;5;124m'\u001b[39m\u001b[38;5;124mp\u001b[39m\u001b[38;5;124m'\u001b[39m\n",
      "\u001b[1;31mTypeError\u001b[0m: 'str' object does not support item assignment"
     ]
    }
   ],
   "source": [
    "string1='python'\n",
    "# i want change 'p'  ==== 'p'\n",
    "# o/p: 'python'\n",
    "string1[0]='p'"
   ]
  },
  {
   "cell_type": "code",
   "execution_count": 19,
   "id": "ba873065",
   "metadata": {},
   "outputs": [
    {
     "data": {
      "text/plain": [
       "[1000, 200, 2000]"
      ]
     },
     "execution_count": 19,
     "metadata": {},
     "output_type": "execute_result"
    }
   ],
   "source": [
    "list1=[100,200,2000]\n",
    "list1[0]=1000\n",
    "list1"
   ]
  },
  {
   "cell_type": "markdown",
   "id": "e456972b",
   "metadata": {},
   "source": [
    "$Slice$"
   ]
  },
  {
   "cell_type": "code",
   "execution_count": null,
   "id": "eb5eac73",
   "metadata": {},
   "outputs": [],
   "source": [
    "h  a  i     h  o  w     a  r  e      y  o  u\n",
    "0  1  2  3  4  5  6  7  8  9  10  11 12 13 14"
   ]
  },
  {
   "cell_type": "code",
   "execution_count": 20,
   "id": "4ecde0fb",
   "metadata": {},
   "outputs": [
    {
     "data": {
      "text/plain": [
       "'i how ar'"
      ]
     },
     "execution_count": 20,
     "metadata": {},
     "output_type": "execute_result"
    }
   ],
   "source": [
    "string1='hai how are you'\n",
    "string1[2:10]"
   ]
  },
  {
   "cell_type": "code",
   "execution_count": 21,
   "id": "71fa8513",
   "metadata": {},
   "outputs": [
    {
     "data": {
      "text/plain": [
       "'ioa'"
      ]
     },
     "execution_count": 21,
     "metadata": {},
     "output_type": "execute_result"
    }
   ],
   "source": [
    "string1='hai how are you'\n",
    "string1[2:10:3]"
   ]
  },
  {
   "cell_type": "code",
   "execution_count": 22,
   "id": "9c242758",
   "metadata": {},
   "outputs": [
    {
     "data": {
      "text/plain": [
       "'hai how are you'"
      ]
     },
     "execution_count": 22,
     "metadata": {},
     "output_type": "execute_result"
    }
   ],
   "source": [
    "string1[:]\n",
    "# nothing mentioned means take start and last letter"
   ]
  },
  {
   "cell_type": "code",
   "execution_count": 23,
   "id": "025c0383",
   "metadata": {},
   "outputs": [
    {
     "data": {
      "text/plain": [
       "'hai how are you'"
      ]
     },
     "execution_count": 23,
     "metadata": {},
     "output_type": "execute_result"
    }
   ],
   "source": [
    "string1[::]\n",
    "# start=0\n",
    "# stop =last letter len(string1)\n",
    "# step=+1"
   ]
  },
  {
   "cell_type": "code",
   "execution_count": 24,
   "id": "67e3b910",
   "metadata": {},
   "outputs": [
    {
     "data": {
      "text/plain": [
       "'hai how are you'"
      ]
     },
     "execution_count": 24,
     "metadata": {},
     "output_type": "execute_result"
    }
   ],
   "source": [
    "string1='hai how are you'\n",
    "string1[2:10]\n",
    "string1[2:10:3]\n",
    "string1[:]\n",
    "string1[::]"
   ]
  },
  {
   "cell_type": "code",
   "execution_count": 25,
   "id": "0e009a58",
   "metadata": {},
   "outputs": [
    {
     "data": {
      "text/plain": [
       "''"
      ]
     },
     "execution_count": 25,
     "metadata": {},
     "output_type": "execute_result"
    }
   ],
   "source": [
    "string1[2:10:-3]"
   ]
  },
  {
   "cell_type": "code",
   "execution_count": 26,
   "id": "e7c5b889",
   "metadata": {},
   "outputs": [],
   "source": [
    "for i in range(2,10,-3):print(i)"
   ]
  },
  {
   "cell_type": "code",
   "execution_count": null,
   "id": "61394b96",
   "metadata": {},
   "outputs": [],
   "source": [
    "-15-14-13-12-11-10-9 -8  -7-6 -5   -4 -3-2-1  \n",
    "h   a  i     h  o  w     a  r  e      y  o  u\n",
    "0   1  2  3  4  5  6  7  8  9  10  11 12 13 14"
   ]
  },
  {
   "cell_type": "code",
   "execution_count": 27,
   "id": "b2fcd942",
   "metadata": {},
   "outputs": [
    {
     "name": "stdout",
     "output_type": "stream",
     "text": [
      "2 0 -2 -4 -6 -8 -10 -12 "
     ]
    }
   ],
   "source": [
    "for i in range(2,-14,-2):print(i,end=' ')"
   ]
  },
  {
   "cell_type": "code",
   "execution_count": 28,
   "id": "279bb230",
   "metadata": {},
   "outputs": [
    {
     "data": {
      "text/plain": [
       "'awhi'"
      ]
     },
     "execution_count": 28,
     "metadata": {},
     "output_type": "execute_result"
    }
   ],
   "source": [
    "string1[8:-15:-2]  # start=8   # stop=-15+1=-14 # step =2"
   ]
  },
  {
   "cell_type": "code",
   "execution_count": 29,
   "id": "1a2aa7b0",
   "metadata": {},
   "outputs": [
    {
     "data": {
      "text/plain": [
       "'i'"
      ]
     },
     "execution_count": 29,
     "metadata": {},
     "output_type": "execute_result"
    }
   ],
   "source": [
    "string1[2:-14:-2]"
   ]
  },
  {
   "cell_type": "code",
   "execution_count": 30,
   "id": "40b8d00c",
   "metadata": {},
   "outputs": [
    {
     "data": {
      "text/plain": [
       "' '"
      ]
     },
     "execution_count": 30,
     "metadata": {},
     "output_type": "execute_result"
    }
   ],
   "source": [
    "string1[3:-14:-2]"
   ]
  },
  {
   "cell_type": "code",
   "execution_count": 31,
   "id": "60127cd3",
   "metadata": {},
   "outputs": [
    {
     "data": {
      "text/plain": [
       "'o'"
      ]
     },
     "execution_count": 31,
     "metadata": {},
     "output_type": "execute_result"
    }
   ],
   "source": [
    "string1[-2:14:2]"
   ]
  },
  {
   "cell_type": "code",
   "execution_count": 32,
   "id": "2362c10f",
   "metadata": {},
   "outputs": [
    {
     "data": {
      "text/plain": [
       "'o r o '"
      ]
     },
     "execution_count": 32,
     "metadata": {},
     "output_type": "execute_result"
    }
   ],
   "source": [
    "string1[-2:-14:-2]"
   ]
  },
  {
   "cell_type": "code",
   "execution_count": 8,
   "id": "2811e24b",
   "metadata": {},
   "outputs": [
    {
     "data": {
      "text/plain": [
       "' r o '"
      ]
     },
     "execution_count": 8,
     "metadata": {},
     "output_type": "execute_result"
    }
   ],
   "source": [
    "string1='hai how are you' # \n",
    "string1[11:-14:-2]"
   ]
  },
  {
   "cell_type": "code",
   "execution_count": 13,
   "id": "9d2268eb",
   "metadata": {},
   "outputs": [],
   "source": [
    "# -15-14-13-12-11-10-9 -8  -7-6 -5   -4 -3-2-1  \n",
    "string1='hai how are you'\n",
    "# 0   1  2  3  4  5  6  7  8  9  10  11 12 13 14"
   ]
  },
  {
   "cell_type": "code",
   "execution_count": 14,
   "id": "615e8433",
   "metadata": {},
   "outputs": [
    {
     "data": {
      "text/plain": [
       "' r o '"
      ]
     },
     "execution_count": 14,
     "metadata": {},
     "output_type": "execute_result"
    }
   ],
   "source": [
    "string1[11:-14:-2]"
   ]
  },
  {
   "cell_type": "markdown",
   "id": "cb98d2c3",
   "metadata": {},
   "source": [
    "# String Methods"
   ]
  },
  {
   "cell_type": "code",
   "execution_count": 34,
   "id": "dfe672ea",
   "metadata": {},
   "outputs": [
    {
     "ename": "SyntaxError",
     "evalue": "invalid syntax (2473570362.py, line 1)",
     "output_type": "error",
     "traceback": [
      "\u001b[1;36m  Cell \u001b[1;32mIn[34], line 1\u001b[1;36m\u001b[0m\n\u001b[1;33m    import <package_name>\u001b[0m\n\u001b[1;37m           ^\u001b[0m\n\u001b[1;31mSyntaxError\u001b[0m\u001b[1;31m:\u001b[0m invalid syntax\n"
     ]
    }
   ],
   "source": [
    "import <package_name>\n",
    "dir(<package_name>)\n",
    "help(<package_name>.<method_name>)"
   ]
  },
  {
   "cell_type": "code",
   "execution_count": 47,
   "id": "d5bcf45f",
   "metadata": {},
   "outputs": [
    {
     "data": {
      "text/plain": [
       "['__add__',\n",
       " '__class__',\n",
       " '__contains__',\n",
       " '__delattr__',\n",
       " '__dir__',\n",
       " '__doc__',\n",
       " '__eq__',\n",
       " '__format__',\n",
       " '__ge__',\n",
       " '__getattribute__',\n",
       " '__getitem__',\n",
       " '__getnewargs__',\n",
       " '__getstate__',\n",
       " '__gt__',\n",
       " '__hash__',\n",
       " '__init__',\n",
       " '__init_subclass__',\n",
       " '__iter__',\n",
       " '__le__',\n",
       " '__len__',\n",
       " '__lt__',\n",
       " '__mod__',\n",
       " '__mul__',\n",
       " '__ne__',\n",
       " '__new__',\n",
       " '__reduce__',\n",
       " '__reduce_ex__',\n",
       " '__repr__',\n",
       " '__rmod__',\n",
       " '__rmul__',\n",
       " '__setattr__',\n",
       " '__sizeof__',\n",
       " '__str__',\n",
       " '__subclasshook__',\n",
       " 'capitalize',\n",
       " 'casefold',\n",
       " 'center',\n",
       " 'count',\n",
       " 'encode',\n",
       " 'endswith',\n",
       " 'expandtabs',\n",
       " 'find',\n",
       " 'format',\n",
       " 'format_map',\n",
       " 'index',\n",
       " 'isalnum',\n",
       " 'isalpha',\n",
       " 'isascii',\n",
       " 'isdecimal',\n",
       " 'isdigit',\n",
       " 'isidentifier',\n",
       " 'islower',\n",
       " 'isnumeric',\n",
       " 'isprintable',\n",
       " 'isspace',\n",
       " 'istitle',\n",
       " 'isupper',\n",
       " 'join',\n",
       " 'ljust',\n",
       " 'lower',\n",
       " 'lstrip',\n",
       " 'maketrans',\n",
       " 'partition',\n",
       " 'removeprefix',\n",
       " 'removesuffix',\n",
       " 'replace',\n",
       " 'rfind',\n",
       " 'rindex',\n",
       " 'rjust',\n",
       " 'rpartition',\n",
       " 'rsplit',\n",
       " 'rstrip',\n",
       " 'split',\n",
       " 'splitlines',\n",
       " 'startswith',\n",
       " 'strip',\n",
       " 'swapcase',\n",
       " 'title',\n",
       " 'translate',\n",
       " 'upper',\n",
       " 'zfill']"
      ]
     },
     "execution_count": 47,
     "metadata": {},
     "output_type": "execute_result"
    }
   ],
   "source": [
    "dir(string)"
   ]
  },
  {
   "cell_type": "markdown",
   "id": "aed18017",
   "metadata": {},
   "source": [
    "$Capitalize$"
   ]
  },
  {
   "cell_type": "code",
   "execution_count": 35,
   "id": "8004bc0f",
   "metadata": {},
   "outputs": [
    {
     "name": "stdout",
     "output_type": "stream",
     "text": [
      "Help on built-in function capitalize:\n",
      "\n",
      "capitalize() method of builtins.str instance\n",
      "    Return a capitalized version of the string.\n",
      "    \n",
      "    More specifically, make the first character have upper case and the rest lower\n",
      "    case.\n",
      "\n"
     ]
    }
   ],
   "source": [
    "string1='welcome'\n",
    "help(string1.capitalize)"
   ]
  },
  {
   "cell_type": "code",
   "execution_count": 36,
   "id": "c57dba1c",
   "metadata": {},
   "outputs": [
    {
     "data": {
      "text/plain": [
       "'Welcome'"
      ]
     },
     "execution_count": 36,
     "metadata": {},
     "output_type": "execute_result"
    }
   ],
   "source": [
    "string1='welcome'\n",
    "string1.capitalize()"
   ]
  },
  {
   "cell_type": "markdown",
   "id": "2a990a16",
   "metadata": {},
   "source": [
    "$Upper$"
   ]
  },
  {
   "cell_type": "code",
   "execution_count": 37,
   "id": "31588623",
   "metadata": {},
   "outputs": [
    {
     "data": {
      "text/plain": [
       "'WELCOME'"
      ]
     },
     "execution_count": 37,
     "metadata": {},
     "output_type": "execute_result"
    }
   ],
   "source": [
    "string1='welcome'\n",
    "string1.upper()"
   ]
  },
  {
   "cell_type": "markdown",
   "id": "973020df",
   "metadata": {},
   "source": [
    "$Lower$"
   ]
  },
  {
   "cell_type": "code",
   "execution_count": 38,
   "id": "14f767c7",
   "metadata": {},
   "outputs": [
    {
     "data": {
      "text/plain": [
       "'welcome'"
      ]
     },
     "execution_count": 38,
     "metadata": {},
     "output_type": "execute_result"
    }
   ],
   "source": [
    "string1='welcome'\n",
    "string1.lower()"
   ]
  },
  {
   "cell_type": "code",
   "execution_count": 42,
   "id": "eff228f8",
   "metadata": {},
   "outputs": [
    {
     "name": "stdout",
     "output_type": "stream",
     "text": [
      "Welcome\n",
      "WELCOME\n",
      "welcome\n"
     ]
    }
   ],
   "source": [
    "string1='welcome'\n",
    "print(string1.capitalize())\n",
    "print(string1.upper())\n",
    "print(string1.lower())"
   ]
  },
  {
   "cell_type": "code",
   "execution_count": 43,
   "id": "79f3c373",
   "metadata": {},
   "outputs": [
    {
     "data": {
      "text/plain": [
       "0"
      ]
     },
     "execution_count": 43,
     "metadata": {},
     "output_type": "execute_result"
    }
   ],
   "source": [
    "string1.count('a')"
   ]
  },
  {
   "cell_type": "code",
   "execution_count": null,
   "id": "4570b568",
   "metadata": {},
   "outputs": [],
   "source": [
    "count=0\n",
    "for i in string1:\n",
    "    if i=='a':\n",
    "        count+=1"
   ]
  },
  {
   "cell_type": "code",
   "execution_count": null,
   "id": "04be7ad8",
   "metadata": {},
   "outputs": [],
   "source": [
    "string1='welcome'\n",
    "# output: 'welcome'\n",
    "# idea:\n",
    "# str1=we\n",
    "# str2=come\n",
    "# index\n",
    "# slice\n",
    "# concatenation= str1+'L'+ str2"
   ]
  },
  {
   "cell_type": "code",
   "execution_count": 45,
   "id": "d8dce314",
   "metadata": {},
   "outputs": [
    {
     "data": {
      "text/plain": [
       "'weLcome'"
      ]
     },
     "execution_count": 45,
     "metadata": {},
     "output_type": "execute_result"
    }
   ],
   "source": [
    "string1='welcome'\n",
    "str1=string1[:2]\n",
    "str2=string1[3:]\n",
    "str1+'L'+str2"
   ]
  },
  {
   "cell_type": "code",
   "execution_count": 46,
   "id": "aaefc2e4",
   "metadata": {},
   "outputs": [
    {
     "data": {
      "text/plain": [
       "'weLcome'"
      ]
     },
     "execution_count": 46,
     "metadata": {},
     "output_type": "execute_result"
    }
   ],
   "source": [
    "string1.replace('l','L')"
   ]
  },
  {
   "cell_type": "markdown",
   "id": "fd39d530",
   "metadata": {},
   "source": [
    "**casefold**"
   ]
  },
  {
   "cell_type": "code",
   "execution_count": 1,
   "id": "2b19aeb0",
   "metadata": {},
   "outputs": [
    {
     "data": {
      "text/plain": [
       "'welcome'"
      ]
     },
     "execution_count": 1,
     "metadata": {},
     "output_type": "execute_result"
    }
   ],
   "source": [
    "string2='welcome'\n",
    "string2.casefold()"
   ]
  },
  {
   "cell_type": "markdown",
   "id": "ccedf2e3",
   "metadata": {},
   "source": [
    "- capitalize: first letter as capital\n",
    "- upper: all letters are upper case\n",
    "- lower: all lerrers are in lower case\n",
    "- casefold: case less comparision(lower case)    "
   ]
  },
  {
   "cell_type": "code",
   "execution_count": 2,
   "id": "5f07f6ff",
   "metadata": {},
   "outputs": [
    {
     "data": {
      "text/plain": [
       "2"
      ]
     },
     "execution_count": 2,
     "metadata": {},
     "output_type": "execute_result"
    }
   ],
   "source": [
    "string1='hai how are you'\n",
    "string1.count('a')"
   ]
  },
  {
   "cell_type": "code",
   "execution_count": 3,
   "id": "35097290",
   "metadata": {},
   "outputs": [
    {
     "data": {
      "text/plain": [
       "1"
      ]
     },
     "execution_count": 3,
     "metadata": {},
     "output_type": "execute_result"
    }
   ],
   "source": [
    "string1.count('hai')"
   ]
  },
  {
   "cell_type": "code",
   "execution_count": 4,
   "id": "455ee872",
   "metadata": {},
   "outputs": [
    {
     "name": "stdout",
     "output_type": "stream",
     "text": [
      "2\n"
     ]
    }
   ],
   "source": [
    "string1='ola ola ola'\n",
    "print(string1.count('ola '))"
   ]
  },
  {
   "cell_type": "code",
   "execution_count": 10,
   "id": "8466176b",
   "metadata": {},
   "outputs": [
    {
     "name": "stdout",
     "output_type": "stream",
     "text": [
      "2\n",
      "2\n",
      "0\n",
      "1\n",
      "2\n",
      "0\n"
     ]
    }
   ],
   "source": [
    "string1='ola ola ola'\n",
    "# ola   ola   ola\n",
    "# 012 3 456 7 8910\n",
    "# we are counting the number of 'a' from idex 4\n",
    "print(string1.count('a',4))\n",
    "print(string1.count('a',6))\n",
    "print(string1.count('a',4,6))\n",
    "print(string1.count('a',4,7))\n",
    "print(string1.count('A'.lower(),4))\n",
    "print(string1.count('a'.upper(),4))"
   ]
  },
  {
   "cell_type": "code",
   "execution_count": 11,
   "id": "422b366d",
   "metadata": {},
   "outputs": [
    {
     "data": {
      "text/plain": [
       "3"
      ]
     },
     "execution_count": 11,
     "metadata": {},
     "output_type": "execute_result"
    }
   ],
   "source": [
    "'ola ola ola'.count('a')"
   ]
  },
  {
   "cell_type": "code",
   "execution_count": 12,
   "id": "f221aff1",
   "metadata": {},
   "outputs": [
    {
     "name": "stdout",
     "output_type": "stream",
     "text": [
      "3\n"
     ]
    }
   ],
   "source": [
    "string1='ola ola ola '\n",
    "count=0\n",
    "for i in string1:\n",
    "    if i=='a':\n",
    "        count+=1\n",
    "        \n",
    "print(count)        "
   ]
  },
  {
   "cell_type": "code",
   "execution_count": 13,
   "id": "266a7018",
   "metadata": {},
   "outputs": [
    {
     "name": "stdout",
     "output_type": "stream",
     "text": [
      "3\n"
     ]
    }
   ],
   "source": [
    "string1='ola ola ola '\n",
    "count=0\n",
    "for i in range (len(string1)):\n",
    "    if string1[i:i+3]=='ola':\n",
    "        count+=1\n",
    "        \n",
    "print(count)\n",
    "# i=0  string[0:3]: 0 1 2 :ola\n",
    "# i=1  string[1:4]: 1 2 3 :la"
   ]
  },
  {
   "cell_type": "code",
   "execution_count": 14,
   "id": "b4a201bc",
   "metadata": {},
   "outputs": [
    {
     "data": {
      "text/plain": [
       "3"
      ]
     },
     "execution_count": 14,
     "metadata": {},
     "output_type": "execute_result"
    }
   ],
   "source": [
    "string1.count('a')  # this as developer\n",
    "string1.count('ola')# as developer mode"
   ]
  },
  {
   "cell_type": "markdown",
   "id": "05a38a60",
   "metadata": {},
   "source": [
    "$replace$"
   ]
  },
  {
   "cell_type": "code",
   "execution_count": 17,
   "id": "cb96d9db",
   "metadata": {},
   "outputs": [
    {
     "data": {
      "text/plain": [
       "'weLcome'"
      ]
     },
     "execution_count": 17,
     "metadata": {},
     "output_type": "execute_result"
    }
   ],
   "source": [
    "string1='welcome'\n",
    "# relace 'l' with 'L'\n",
    "string1.replace('l','L')"
   ]
  },
  {
   "cell_type": "code",
   "execution_count": 18,
   "id": "f7980966",
   "metadata": {},
   "outputs": [
    {
     "data": {
      "text/plain": [
       "'$esta$t'"
      ]
     },
     "execution_count": 18,
     "metadata": {},
     "output_type": "execute_result"
    }
   ],
   "source": [
    "string1='restart'\n",
    "string1.replace('r','$')"
   ]
  },
  {
   "cell_type": "code",
   "execution_count": 19,
   "id": "d707b903",
   "metadata": {},
   "outputs": [
    {
     "data": {
      "text/plain": [
       "'$estart'"
      ]
     },
     "execution_count": 19,
     "metadata": {},
     "output_type": "execute_result"
    }
   ],
   "source": [
    "string1='restart'\n",
    "string1.replace('r','$',1)"
   ]
  },
  {
   "cell_type": "code",
   "execution_count": 20,
   "id": "0df7d7c9",
   "metadata": {},
   "outputs": [
    {
     "data": {
      "text/plain": [
       "'t'"
      ]
     },
     "execution_count": 20,
     "metadata": {},
     "output_type": "execute_result"
    }
   ],
   "source": [
    "len(string1)\n",
    "max(string1)"
   ]
  },
  {
   "cell_type": "code",
   "execution_count": 22,
   "id": "49ce9c8b",
   "metadata": {},
   "outputs": [
    {
     "data": {
      "text/plain": [
       "'$esta$t'"
      ]
     },
     "execution_count": 22,
     "metadata": {},
     "output_type": "execute_result"
    }
   ],
   "source": [
    "string1='restart'\n",
    "string1.replace('r','$',2)"
   ]
  },
  {
   "cell_type": "code",
   "execution_count": 27,
   "id": "ba855ceb",
   "metadata": {},
   "outputs": [
    {
     "data": {
      "text/plain": [
       "'resta$t'"
      ]
     },
     "execution_count": 27,
     "metadata": {},
     "output_type": "execute_result"
    }
   ],
   "source": [
    "string1='restart'\n",
    "s1=string1[0]\n",
    "s2=string1[1:].replace('r','$')\n",
    "s1+s2"
   ]
  },
  {
   "cell_type": "code",
   "execution_count": 28,
   "id": "676b7f31",
   "metadata": {},
   "outputs": [
    {
     "data": {
      "text/plain": [
       "'resta$t'"
      ]
     },
     "execution_count": 28,
     "metadata": {},
     "output_type": "execute_result"
    }
   ],
   "source": [
    "string1[::-1].replace('r','$',1)[::-1]"
   ]
  },
  {
   "cell_type": "markdown",
   "id": "13220f8a",
   "metadata": {},
   "source": [
    "$index$"
   ]
  },
  {
   "cell_type": "code",
   "execution_count": 29,
   "id": "39e2d2b9",
   "metadata": {},
   "outputs": [
    {
     "data": {
      "text/plain": [
       "3"
      ]
     },
     "execution_count": 29,
     "metadata": {},
     "output_type": "execute_result"
    }
   ],
   "source": [
    "string1='welcome python'\n",
    "# index of 'c'\n",
    "string1.index('c')"
   ]
  },
  {
   "cell_type": "code",
   "execution_count": 30,
   "id": "7f002231",
   "metadata": {},
   "outputs": [
    {
     "ename": "ValueError",
     "evalue": "substring not found",
     "output_type": "error",
     "traceback": [
      "\u001b[1;31m---------------------------------------------------------------------------\u001b[0m",
      "\u001b[1;31mValueError\u001b[0m                                Traceback (most recent call last)",
      "Cell \u001b[1;32mIn[30], line 2\u001b[0m\n\u001b[0;32m      1\u001b[0m string1\u001b[38;5;241m=\u001b[39m\u001b[38;5;124m'\u001b[39m\u001b[38;5;124mwelcome python\u001b[39m\u001b[38;5;124m'\u001b[39m\n\u001b[1;32m----> 2\u001b[0m string1\u001b[38;5;241m.\u001b[39mindex(\u001b[38;5;124m'\u001b[39m\u001b[38;5;124mz\u001b[39m\u001b[38;5;124m'\u001b[39m)\n",
      "\u001b[1;31mValueError\u001b[0m: substring not found"
     ]
    }
   ],
   "source": [
    "string1='welcome python'\n",
    "string1.index('z') # sub string not found"
   ]
  },
  {
   "cell_type": "code",
   "execution_count": 34,
   "id": "e9f2c730",
   "metadata": {},
   "outputs": [
    {
     "name": "stdout",
     "output_type": "stream",
     "text": [
      "2\n"
     ]
    }
   ],
   "source": [
    "string1='hai how are you'\n",
    "# how many 'a' are there\n",
    "# what are the indexes of 'a'\n",
    "\n",
    "count=0\n",
    "for i in string1:\n",
    "    if i=='a':\n",
    "        count+=1\n",
    "        \n",
    "print(count)        "
   ]
  },
  {
   "cell_type": "code",
   "execution_count": 36,
   "id": "c53df4e4",
   "metadata": {},
   "outputs": [
    {
     "name": "stdout",
     "output_type": "stream",
     "text": [
      "1\n",
      "8\n"
     ]
    }
   ],
   "source": [
    "for i in range(len(string1)):\n",
    "    if string1[i]=='a':\n",
    "        print(i)"
   ]
  },
  {
   "cell_type": "code",
   "execution_count": 37,
   "id": "1702476f",
   "metadata": {},
   "outputs": [
    {
     "data": {
      "text/plain": [
       "1"
      ]
     },
     "execution_count": 37,
     "metadata": {},
     "output_type": "execute_result"
    }
   ],
   "source": [
    "string1.index('a') # only first occurance"
   ]
  },
  {
   "cell_type": "code",
   "execution_count": 38,
   "id": "55a89cfb",
   "metadata": {},
   "outputs": [
    {
     "name": "stdout",
     "output_type": "stream",
     "text": [
      "1\n",
      "5\n",
      "9\n"
     ]
    }
   ],
   "source": [
    "string1='hai hai hai'\n",
    "print(string1.index('a'))\n",
    "print(string1.index('a',2))\n",
    "print(string1.index('a',6))"
   ]
  },
  {
   "cell_type": "code",
   "execution_count": null,
   "id": "501ee952",
   "metadata": {},
   "outputs": [],
   "source": [
    "string1='hai hai hai hai'\n",
    "print(string1.index('a'))\n",
    "print(string1.index('a',1+1))# 1+1=====>2\n",
    "print(string1.index('a',5+1))# 5+1=====>6\n",
    "print(string1.index('a',9+1))# 9+1=====>10\n",
    "print(string1.index('a',13+1))"
   ]
  },
  {
   "cell_type": "code",
   "execution_count": 42,
   "id": "806c424a",
   "metadata": {},
   "outputs": [
    {
     "name": "stdout",
     "output_type": "stream",
     "text": [
      "1 5 9 13 17\n"
     ]
    }
   ],
   "source": [
    "string1='hai hai hai hai hai'\n",
    "i1=(string1.index('a'))\n",
    "i2=(string1.index('a',i1+1))# 1+1=====>2\n",
    "i3=(string1.index('a',i2+1))# 5+1=====>6\n",
    "i4=(string1.index('a',i3+1))# 9+1=====>10\n",
    "i5=(string1.index('a',i4+1))\n",
    "print(i1,i2,i3,i4,i5)"
   ]
  },
  {
   "cell_type": "code",
   "execution_count": 43,
   "id": "63a47777",
   "metadata": {},
   "outputs": [
    {
     "data": {
      "text/plain": [
       "6"
      ]
     },
     "execution_count": 43,
     "metadata": {},
     "output_type": "execute_result"
    }
   ],
   "source": [
    "string1.index('a',string1.index('a',string1.index('a'))+1)+1"
   ]
  },
  {
   "cell_type": "code",
   "execution_count": 46,
   "id": "84ef823d",
   "metadata": {},
   "outputs": [
    {
     "name": "stdout",
     "output_type": "stream",
     "text": [
      "5\n",
      "5\n",
      "5\n",
      "5\n",
      "5\n"
     ]
    }
   ],
   "source": [
    "for i in string1:\n",
    "    if i=='a':\n",
    "        index=string1.index(i)\n",
    "        print(string1.index(i,index+1))"
   ]
  },
  {
   "cell_type": "code",
   "execution_count": 48,
   "id": "27432d0a",
   "metadata": {},
   "outputs": [
    {
     "name": "stdout",
     "output_type": "stream",
     "text": [
      "2\n",
      "10\n",
      "15\n"
     ]
    }
   ],
   "source": [
    "string1='welcome helo hello'\n",
    "print(string1.index('l'))\n",
    "print(string1.index('l',string1.index('l')+1))\n",
    "print(string1.index('l',string1.index('l',string1.index('l')+1)+1))"
   ]
  },
  {
   "cell_type": "markdown",
   "id": "1390eb66",
   "metadata": {},
   "source": [
    "# Find"
   ]
  },
  {
   "cell_type": "code",
   "execution_count": null,
   "id": "d5a3eb3f",
   "metadata": {},
   "outputs": [],
   "source": [
    "# take one string\n",
    "# string1.find()\n",
    "# apply shift+tab\n",
    "# read what it is says\n",
    "# implement that"
   ]
  },
  {
   "cell_type": "code",
   "execution_count": 49,
   "id": "08bbb3dd",
   "metadata": {},
   "outputs": [
    {
     "data": {
      "text/plain": [
       "7"
      ]
     },
     "execution_count": 49,
     "metadata": {},
     "output_type": "execute_result"
    }
   ],
   "source": [
    "string1='hello hai how are you'\n",
    "string1.find('a')"
   ]
  },
  {
   "cell_type": "code",
   "execution_count": null,
   "id": "bec989e9",
   "metadata": {},
   "outputs": [],
   "source": [
    "string1='hello hai how are you'\n",
    "string1.find('z')  # no error\n",
    "\n",
    "# if substring not found it returns -1\n",
    "\n",
    "string1.found('z')\n",
    "# return zero\n",
    "\n",
    "string1.index('z')\n",
    "# value error: substring not found"
   ]
  },
  {
   "cell_type": "code",
   "execution_count": null,
   "id": "2e8bfe31",
   "metadata": {},
   "outputs": [],
   "source": [
    "- capitalize\n",
    "- upper\n",
    "- lower \n",
    "- casefold\n",
    "\n",
    "- index/find\n",
    "- count\n",
    "- replace"
   ]
  },
  {
   "cell_type": "code",
   "execution_count": 1,
   "id": "c2233350",
   "metadata": {},
   "outputs": [
    {
     "data": {
      "text/plain": [
       "2"
      ]
     },
     "execution_count": 1,
     "metadata": {},
     "output_type": "execute_result"
    }
   ],
   "source": [
    "str1='hai how are you,im good'\n",
    "str1.index('i') # first occurance"
   ]
  },
  {
   "cell_type": "markdown",
   "id": "51fe969b",
   "metadata": {},
   "source": [
    "$strip$-$lstrip$-$rstrip$"
   ]
  },
  {
   "cell_type": "code",
   "execution_count": 5,
   "id": "7c9c827a",
   "metadata": {},
   "outputs": [
    {
     "name": "stdout",
     "output_type": "stream",
     "text": [
      "hello how are you\n",
      "hello how are you\n",
      "hello how are you\n"
     ]
    }
   ],
   "source": [
    "str1=' hello how are you '\n",
    "str2=\" hello how are you\"\n",
    "str3=\"hello how are you \"\n",
    "\n",
    "print(str1.strip())   # remove space\n",
    "print(str2.lstrip())  # left side\n",
    "print(str3.rstrip())  # right side"
   ]
  },
  {
   "cell_type": "code",
   "execution_count": 6,
   "id": "b51681e5",
   "metadata": {},
   "outputs": [
    {
     "name": "stdout",
     "output_type": "stream",
     "text": [
      "first name: hello\n",
      "second name:how are \n",
      "company name:how are you\n"
     ]
    }
   ],
   "source": [
    "# wap to extract\n",
    "str2='python.anaconda@nareshit.com'\n",
    "# extract first name:python\n",
    "# extract second name: anaconda\n",
    "# extract company name: nareshit\n",
    "fir=str1.index('.')\n",
    "sec=str1.index('@')\n",
    "thir=str1.index('.',fir+1)\n",
    "print(f\"first name:{str2[:fir]}\")\n",
    "print(f\"second name:{str2[fir+1:sec]}\")\n",
    "print(f\"company name:{str2[fir+1:thir]}\")\n",
    "\n"
   ]
  },
  {
   "cell_type": "code",
   "execution_count": 11,
   "id": "4c524f02",
   "metadata": {},
   "outputs": [
    {
     "name": "stdout",
     "output_type": "stream",
     "text": [
      "first name:python\n",
      "second name:anaconda\n",
      "company name:nareshit\n"
     ]
    }
   ],
   "source": [
    "str2='python.anaconda@nareshit.com'\n",
    "fir=str2.find('.')\n",
    "sec=str2.find('@')\n",
    "thir=str2.find('.',fir+1)\n",
    "print(f\"first name:{str2[:fir]}\")\n",
    "print(f\"second name:{str2[fir+1:sec]}\")\n",
    "print(f\"company name:{str2[sec+1:thir]}\")\n",
    "\n"
   ]
  },
  {
   "cell_type": "code",
   "execution_count": 13,
   "id": "9be3db00",
   "metadata": {},
   "outputs": [
    {
     "name": "stdout",
     "output_type": "stream",
     "text": [
      "{'omkar'}\n",
      "{'nallagoni'}\n",
      "{'congnizant'}\n"
     ]
    }
   ],
   "source": [
    "str1='omkar.nallagoni@congnizant.com'\n",
    "fir=str1.find('.')\n",
    "sec=str1.find('@')\n",
    "thir=str1.find('.',fir+1)\n",
    "print({str1[:fir]})\n",
    "print({str1[fir+1:sec]})\n",
    "print({str1[sec+1:thir]})\n",
    "\n"
   ]
  },
  {
   "cell_type": "code",
   "execution_count": 15,
   "id": "45fbd3be",
   "metadata": {},
   "outputs": [
    {
     "name": "stdout",
     "output_type": "stream",
     "text": [
      "3\n",
      "1489\n"
     ]
    }
   ],
   "source": [
    "str1='3.1489'\n",
    "# extract 3\n",
    "# extract 1489\n",
    "print(str1[str1.find('.')-1])\n",
    "print(str1[str1.find('.')+1:])\n",
    "\n"
   ]
  },
  {
   "cell_type": "code",
   "execution_count": 23,
   "id": "dd78b6f6",
   "metadata": {},
   "outputs": [
    {
     "data": {
      "text/plain": [
       "True"
      ]
     },
     "execution_count": 23,
     "metadata": {},
     "output_type": "execute_result"
    }
   ],
   "source": [
    "str1='hai how are you'\n",
    "str1.startswith('hai')\n",
    "str1.startswith('h')"
   ]
  },
  {
   "cell_type": "code",
   "execution_count": 22,
   "id": "6dcddbc8",
   "metadata": {},
   "outputs": [
    {
     "data": {
      "text/plain": [
       "True"
      ]
     },
     "execution_count": 22,
     "metadata": {},
     "output_type": "execute_result"
    }
   ],
   "source": [
    "str1.startswith('hai')"
   ]
  },
  {
   "cell_type": "code",
   "execution_count": 24,
   "id": "bcda255c",
   "metadata": {},
   "outputs": [
    {
     "data": {
      "text/plain": [
       "False"
      ]
     },
     "execution_count": 24,
     "metadata": {},
     "output_type": "execute_result"
    }
   ],
   "source": [
    "str1.endswith('hai')"
   ]
  },
  {
   "cell_type": "code",
   "execution_count": 29,
   "id": "d036ebd2",
   "metadata": {},
   "outputs": [
    {
     "data": {
      "text/plain": [
       "False"
      ]
     },
     "execution_count": 29,
     "metadata": {},
     "output_type": "execute_result"
    }
   ],
   "source": [
    "string1='abc123'\n",
    "string2='123'\n",
    "string3='abc123'\n",
    "string4='ABC'\n",
    "string1.isnumeric()"
   ]
  },
  {
   "cell_type": "markdown",
   "id": "7ed6dd2b",
   "metadata": {},
   "source": [
    "$Split$"
   ]
  },
  {
   "cell_type": "code",
   "execution_count": 32,
   "id": "c889803a",
   "metadata": {},
   "outputs": [
    {
     "data": {
      "text/plain": [
       "['hai', 'how', 'are', 'you']"
      ]
     },
     "execution_count": 32,
     "metadata": {},
     "output_type": "execute_result"
    }
   ],
   "source": [
    "str1='hai how are you'\n",
    "str1.split()\n",
    "# if i not provide anything inside bracket\n",
    "# output is list format"
   ]
  },
  {
   "cell_type": "code",
   "execution_count": 33,
   "id": "1f06b239",
   "metadata": {},
   "outputs": [
    {
     "data": {
      "text/plain": [
       "['hai how are you']"
      ]
     },
     "execution_count": 33,
     "metadata": {},
     "output_type": "execute_result"
    }
   ],
   "source": [
    "str1.split(',')"
   ]
  },
  {
   "cell_type": "code",
   "execution_count": 34,
   "id": "d5d9cae5",
   "metadata": {},
   "outputs": [
    {
     "ename": "ValueError",
     "evalue": "empty separator",
     "output_type": "error",
     "traceback": [
      "\u001b[1;31m---------------------------------------------------------------------------\u001b[0m",
      "\u001b[1;31mValueError\u001b[0m                                Traceback (most recent call last)",
      "Cell \u001b[1;32mIn[34], line 1\u001b[0m\n\u001b[1;32m----> 1\u001b[0m str1\u001b[38;5;241m.\u001b[39msplit(\u001b[38;5;124m'\u001b[39m\u001b[38;5;124m'\u001b[39m)\n",
      "\u001b[1;31mValueError\u001b[0m: empty separator"
     ]
    }
   ],
   "source": [
    "str1.split('')"
   ]
  },
  {
   "cell_type": "code",
   "execution_count": 35,
   "id": "637ebcb0",
   "metadata": {},
   "outputs": [
    {
     "data": {
      "text/plain": [
       "'hello'"
      ]
     },
     "execution_count": 35,
     "metadata": {},
     "output_type": "execute_result"
    }
   ],
   "source": [
    "str1='%%%hello%%%'\n",
    "str1.strip('%')"
   ]
  },
  {
   "cell_type": "code",
   "execution_count": null,
   "id": "02f6a6ae",
   "metadata": {},
   "outputs": [],
   "source": [
    "# wap to identify the longest word abd shortest word in a given sentence\n",
    "# wap to identify the most repated word in given sentence\n",
    "# wap out of 3 string 'hyd','blr','mumbai'which is greater and which lower"
   ]
  },
  {
   "cell_type": "markdown",
   "id": "1fcdd859",
   "metadata": {},
   "source": [
    "- how to read the string\n",
    "- single quotes/double quotes/triple quotes\n",
    "- docstring\n",
    "- type\n",
    "- max\n",
    "- min\n",
    "- len\n",
    "- addition of string\n",
    "- multiplication\n",
    "- substraction\n",
    "- division\n",
    "- in oparator(for loop)\n",
    "- index\n",
    "- mutable condition\n",
    "- slice\n",
    "- string methods:\n",
    "    - count\n",
    "    - replace"
   ]
  },
  {
   "cell_type": "code",
   "execution_count": null,
   "id": "11aaa595",
   "metadata": {},
   "outputs": [],
   "source": []
  }
 ],
 "metadata": {
  "kernelspec": {
   "display_name": "Python 3 (ipykernel)",
   "language": "python",
   "name": "python3"
  },
  "language_info": {
   "codemirror_mode": {
    "name": "ipython",
    "version": 3
   },
   "file_extension": ".py",
   "mimetype": "text/x-python",
   "name": "python",
   "nbconvert_exporter": "python",
   "pygments_lexer": "ipython3",
   "version": "3.11.5"
  }
 },
 "nbformat": 4,
 "nbformat_minor": 5
}
