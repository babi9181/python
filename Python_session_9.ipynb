{
 "cells": [
  {
   "cell_type": "code",
   "execution_count": null,
   "id": "11003764",
   "metadata": {},
   "outputs": [],
   "source": [
    "# wap ask the user enter distance in km\n",
    "#    if distance is more than 10km : print charge is 100rs\n",
    "#    if distance is betwwen 7 to 10 : print chrage is 70rs\n",
    "#    if distance is between 4 to 7  : print charge is 40rs\n",
    "#    otherwise print chage is 30rs\n",
    "#total 4: if-elif-elif-else"
   ]
  },
  {
   "cell_type": "code",
   "execution_count": 3,
   "id": "e7fa08c7",
   "metadata": {},
   "outputs": [
    {
     "name": "stdout",
     "output_type": "stream",
     "text": [
      "enter the distance in km7\n",
      "the charge is 70rs\n"
     ]
    }
   ],
   "source": [
    "try:\n",
    "    distance=eval(input(\"enter the distance in km\"))\n",
    "    if distance>=10:\n",
    "        print(\"the charge is 100rs\")\n",
    "    elif distance>=7:\n",
    "        print(\"the charge is 70rs\")\n",
    "    elif distance>=4:\n",
    "        print(\"the charge is 40rs\")\n",
    "    else:\n",
    "        print(\"the charge is 30rs\")\n",
    "except Exception as error:\n",
    "    print(error)"
   ]
  },
  {
   "cell_type": "code",
   "execution_count": null,
   "id": "a6dfc9d6",
   "metadata": {},
   "outputs": [],
   "source": [
    "# wap ask the user enter the sallery\n",
    "# if the sallery >10laks :ask the user enter the the percentage :  10%\n",
    "# print: the amount os tax paid: (sallery*tax_percentage)\n"
   ]
  },
  {
   "cell_type": "code",
   "execution_count": 3,
   "id": "71da98e8",
   "metadata": {},
   "outputs": [
    {
     "name": "stdout",
     "output_type": "stream",
     "text": [
      "enter the salary of the user:100000\n",
      "enter the tax persantage10\n",
      "amount of tax paid: 10000000.0\n"
     ]
    }
   ],
   "source": [
    "try:\n",
    "    salary=eval(input(\"enter the salary of the user:\"))\n",
    "    if salary>=50000:\n",
    "        tax_percent=eval(input(\"enter the tax persantage\"))\n",
    "        tax_per=(tax_percent*salary)/100\n",
    "        print(\"amount of tax paid:\",(salary*tax_per/100))\n",
    "    elif salary>=30000:\n",
    "        tax_percent=eval(input(\"enter the tax percentage\"))\n",
    "        print(\"amount of tax paid:\",(salary*tax_per/100))\n",
    "    elif salary>=20000:\n",
    "        tax_percent=eval(input(\"enter the tax percentage\"))\n",
    "        print(\"amount of tsx paid:\",(salary*tax_per/100))\n",
    "    else:\n",
    "        print\n",
    "        (\"no tax required\")\n",
    "        \n",
    "except Exception as error:\n",
    "    print(error)"
   ]
  },
  {
   "cell_type": "code",
   "execution_count": 1,
   "id": "b6a59772",
   "metadata": {},
   "outputs": [],
   "source": [
    "# wap ask the user enter which operation you need to perform\n",
    "# operation are : addition/mul/sub/div\n",
    "# ask the user enter a number 1\n",
    "# ask the user enter a number 2\n",
    "# if the operation equal to addition\n",
    "# print(\"we are doing addition operation\")\n",
    "#print(\"the addition of num1 and num2\")\n",
    "#"
   ]
  },
  {
   "cell_type": "code",
   "execution_count": 9,
   "id": "a59f38b5",
   "metadata": {},
   "outputs": [
    {
     "name": "stdout",
     "output_type": "stream",
     "text": [
      "enter the operation:add\n",
      "enter the value of number1:30\n",
      "enter the value of number2:40\n",
      "we are doing addition operation\n",
      "the addition of 30 and 40 is 70\n"
     ]
    }
   ],
   "source": [
    "try:\n",
    "    operation=input(\"enter the operation:\")\n",
    "    number1=eval(input(\"enter the value of number1:\"))\n",
    "    number2=eval(input(\"enter the value of number2:\"))\n",
    "    if operation=='add':\n",
    "        print(\"we are doing addition operation\")\n",
    "        add=number1+number2\n",
    "        print(\"the addition of {} and {} is {}\".format(number1,number2,add))\n",
    "    elif operation=='mul':\n",
    "        print(\"we are doing multiplication operation\")\n",
    "        mul=number1*number2\n",
    "        print(\"the multiplication of {} and {} is {}\",(number1,number2,mul))\n",
    "    elif operation=='sub':\n",
    "        print(\"we are doing substaction operation\")\n",
    "        sub=number1-number2\n",
    "        print(\"the substaction of {} and {} is {}\",(number1,number2,sub))\n",
    "    elif operation=='div':\n",
    "        print(\"we are doing division operation\")\n",
    "        div=number1/number2\n",
    "        print(\"the division of {} and {} is {}\",(number1,number2,div) )\n",
    "    else:\n",
    "        print(\"provide suitable operation\")\n",
    "except Exception as error:\n",
    "    print(error)"
   ]
  },
  {
   "cell_type": "markdown",
   "id": "e45139eb",
   "metadata": {},
   "source": [
    "# Nested if else"
   ]
  },
  {
   "cell_type": "code",
   "execution_count": null,
   "id": "16caa209",
   "metadata": {},
   "outputs": [],
   "source": [
    "# wap ask the user enter the number\n",
    "# if the number grater then zero:\n",
    "# if the number ==0:\n",
    "# print('it is zero number')\n",
    "# else: print('it is pos number')\n",
    "# else: print('it is a negative number')"
   ]
  },
  {
   "cell_type": "code",
   "execution_count": 18,
   "id": "cd2132e7",
   "metadata": {},
   "outputs": [
    {
     "name": "stdout",
     "output_type": "stream",
     "text": [
      "enter a number0\n",
      "it is a negative number\n"
     ]
    }
   ],
   "source": [
    "try:\n",
    "    number=eval(input(\"enter a number\"))\n",
    "    if number>0:\n",
    "        if number==0:\n",
    "            print(\"it is a zero number\")\n",
    "        else:\n",
    "            print(\"it is a postive number\")\n",
    "        \n",
    "        \n",
    "    else:\n",
    "        print(\"it is a negative number\")\n",
    "except Exception as error:\n",
    "    print(error)\n",
    "        "
   ]
  },
  {
   "cell_type": "code",
   "execution_count": 27,
   "id": "4be61436",
   "metadata": {},
   "outputs": [
    {
     "name": "stdout",
     "output_type": "stream",
     "text": [
      "enter the genderfemale\n",
      "enter the age:25\n",
      "young girl\n"
     ]
    }
   ],
   "source": [
    "try:\n",
    "    gender=input(\"enter the gender\")\n",
    "    if gender=='male':\n",
    "        age=eval(input(\"enter the age:\"))\n",
    "        if age>=60:\n",
    "            print(\"senior citizen\")\n",
    "        elif age>=30:\n",
    "            print(\"middile aged man\")\n",
    "        elif age>=20:\n",
    "            print(\"young girl\")\n",
    "        elif age>=13:\n",
    "            print(\"teenage boy\")\n",
    "        else:\n",
    "            print(\"boy\")\n",
    "    else:\n",
    "        age=eval(input(\"enter the age:\"))\n",
    "        if age>=60:\n",
    "            print(\"senior citizen\")\n",
    "        elif age>=30:\n",
    "            print(\"middile aged man\")\n",
    "        elif age>=20:\n",
    "            print(\"young girl\")\n",
    "        elif age>=13:\n",
    "            print(\"teenage boy\")\n",
    "        else:\n",
    "            print(\"girl\")  \n",
    "            \n",
    "except Exception as error:\n",
    "    print(error)\n",
    "\n"
   ]
  },
  {
   "cell_type": "code",
   "execution_count": null,
   "id": "1503f08b",
   "metadata": {},
   "outputs": [],
   "source": []
  },
  {
   "cell_type": "code",
   "execution_count": null,
   "id": "543b97aa",
   "metadata": {},
   "outputs": [],
   "source": []
  },
  {
   "cell_type": "code",
   "execution_count": null,
   "id": "d3cdced9",
   "metadata": {},
   "outputs": [],
   "source": []
  },
  {
   "cell_type": "code",
   "execution_count": null,
   "id": "6497141c",
   "metadata": {},
   "outputs": [],
   "source": []
  }
 ],
 "metadata": {
  "kernelspec": {
   "display_name": "Python 3 (ipykernel)",
   "language": "python",
   "name": "python3"
  },
  "language_info": {
   "codemirror_mode": {
    "name": "ipython",
    "version": 3
   },
   "file_extension": ".py",
   "mimetype": "text/x-python",
   "name": "python",
   "nbconvert_exporter": "python",
   "pygments_lexer": "ipython3",
   "version": "3.11.5"
  }
 },
 "nbformat": 4,
 "nbformat_minor": 5
}
