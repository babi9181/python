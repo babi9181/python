{
 "cells": [
  {
   "cell_type": "code",
   "execution_count": 11,
   "id": "1bef332b",
   "metadata": {},
   "outputs": [
    {
     "name": "stdout",
     "output_type": "stream",
     "text": [
      "Enter the basic sallery of the user:70000\n",
      "Enter the DA amount:10000\n",
      "Enter the HRA amount:15000\n",
      "The total sallery of the user is 95000\n"
     ]
    }
   ],
   "source": [
    "# WAP ask the user enter a basik_sallery\n",
    "#     ask the user enter DA amount\n",
    "#     ask the user enter HRA amount\n",
    "#calculate total pay = basic_sallery+DA+hra\n",
    "# step-1\n",
    "basic_sallery=eval(input(\"Enter the basic sallery of the user:\"))\n",
    "DA=eval(input(\"Enter the DA amount:\"))\n",
    "HRA=eval(input(\"Enter the HRA amount:\"))\n",
    "total_sallery=basic_sallery+DA+HRA\n",
    "print(\"The total sallery of the user is\",total_sallery)"
   ]
  },
  {
   "cell_type": "code",
   "execution_count": null,
   "id": "932018c5",
   "metadata": {},
   "outputs": [],
   "source": [
    "# WAP ask the  user enter salary\n",
    "#     ask the user tax percentage\n",
    "#calculate how much tax user need to pay"
   ]
  },
  {
   "cell_type": "code",
   "execution_count": 7,
   "id": "554dbc52",
   "metadata": {},
   "outputs": [
    {
     "name": "stdout",
     "output_type": "stream",
     "text": [
      "enter the salary of the user:50000\n",
      "enter the tax percente pay by the user12\n",
      "the tax by the user is 6000.0\n"
     ]
    }
   ],
   "source": [
    "salary= eval(input(\"enter the salary of the user:\"))\n",
    "tax_percente=eval(input(\"enter the tax percente pay by the user\"))\n",
    "tax_pay=salary*(tax_percente/100)\n",
    "print(\"the tax by the user is\",tax_pay)"
   ]
  },
  {
   "cell_type": "code",
   "execution_count": null,
   "id": "e52b7d41",
   "metadata": {},
   "outputs": [],
   "source": [
    "# WAP ask the user get a value between 1 and 100\n",
    "# perform the squre of the number\n"
   ]
  },
  {
   "cell_type": "code",
   "execution_count": 9,
   "id": "1299b589",
   "metadata": {},
   "outputs": [
    {
     "data": {
      "text/plain": [
       "61"
      ]
     },
     "execution_count": 9,
     "metadata": {},
     "output_type": "execute_result"
    }
   ],
   "source": [
    "import random\n",
    "random.randint(1,100)"
   ]
  },
  {
   "cell_type": "code",
   "execution_count": 15,
   "id": "d558fa1a",
   "metadata": {},
   "outputs": [
    {
     "name": "stdout",
     "output_type": "stream",
     "text": [
      "the square of  6 is 36\n"
     ]
    }
   ],
   "source": [
    "value=random.randint(1,100)\n",
    "square=value*value\n",
    "print(\"the square of  {} is {}\".format(value,square))\n"
   ]
  },
  {
   "cell_type": "code",
   "execution_count": 16,
   "id": "d0f33c26",
   "metadata": {},
   "outputs": [
    {
     "name": "stdout",
     "output_type": "stream",
     "text": [
      "the square of 199 is 39601\n"
     ]
    }
   ],
   "source": [
    "import random\n",
    "number=random.randint(1,400)\n",
    "square=number*number\n",
    "print(\"the square of {} is {}\".format(number,square) )"
   ]
  },
  {
   "cell_type": "code",
   "execution_count": 17,
   "id": "95bc7345",
   "metadata": {},
   "outputs": [
    {
     "name": "stdout",
     "output_type": "stream",
     "text": [
      "5\n"
     ]
    },
    {
     "data": {
      "text/plain": [
       "5"
      ]
     },
     "execution_count": 17,
     "metadata": {},
     "output_type": "execute_result"
    }
   ],
   "source": [
    "eval(input())"
   ]
  },
  {
   "cell_type": "code",
   "execution_count": null,
   "id": "e9ba3c82",
   "metadata": {},
   "outputs": [],
   "source": [
    "# WAP ask the user enter a distance\n",
    "# ask the user enter a rate per distance\n",
    "# calculate total charge"
   ]
  },
  {
   "cell_type": "code",
   "execution_count": 20,
   "id": "13d16124",
   "metadata": {},
   "outputs": [
    {
     "name": "stdout",
     "output_type": "stream",
     "text": [
      "enter the distance cover by the user:40\n",
      "enter the rate per distance:10\n",
      "the total charge is 400\n"
     ]
    }
   ],
   "source": [
    "distance=eval(input(\"enter the distance cover by the user:\"))\n",
    "rate_per_distance=eval(input(\"enter the rate per distance:\"))\n",
    "total_charge=distance*rate_per_distance\n",
    "print(\"the total charge is\",total_charge)"
   ]
  },
  {
   "cell_type": "code",
   "execution_count": null,
   "id": "e122035e",
   "metadata": {},
   "outputs": [],
   "source": [
    "# ask the user enter total bill in dollars\n",
    "# manger:the dollars are not accepted\n",
    "# user:what will accepted\n",
    "# manager:only indian rupees\n",
    "# ask the user enter one dollar is equal to how many rupees\n",
    "# total bill=100*80\n",
    "# manager:thankyou"
   ]
  },
  {
   "cell_type": "code",
   "execution_count": null,
   "id": "87b7edf5",
   "metadata": {},
   "outputs": [],
   "source": [
    "bill=eval(input(\"enter total bill in dollars\"))\n",
    "conversion_rate=eval(input(\"one dollar equal to:\"))\n",
    "total_amount=bill*conversion_rate\n",
    "print(\"total amount in rs is {}\",foramat(c))"
   ]
  },
  {
   "cell_type": "code",
   "execution_count": 3,
   "id": "07c1c1ce",
   "metadata": {},
   "outputs": [
    {
     "name": "stdout",
     "output_type": "stream",
     "text": [
      "user:what is my total bill in dollars\n",
      "manager:sir the dollar is not accepted\n",
      "user:if dollar is not accepted the what will accepted\n",
      "manager:only indian rupees\n",
      "user:so what is the total amount in indian rupees\n",
      "enter total bill in dollars80\n",
      "enter the value of 1 dollar in rupees:100\n",
      "for your bill of 80 dollars you have to pay 8000 rupees\n"
     ]
    }
   ],
   "source": [
    "print(\"user:what is my total bill in dollars\")\n",
    "print(\"manager:sir the dollar is not accepted\")\n",
    "print(\"user:if dollar is not accepted the what will accepted\")\n",
    "print(\"manager:only indian rupees\")\n",
    "print(\"user:so what is the total amount in indian rupees\")\n",
    "bill=eval(input(\"enter total bill in dollars\"))\n",
    "conversion_rate=eval(input(\"enter the value of 1 dollar in rupees:\"))\n",
    "total_amount=bill*conversion_rate\n",
    "print(\"for your bill of {} dollars you have to pay {} rupees\".format(bill,total_amount))"
   ]
  },
  {
   "cell_type": "code",
   "execution_count": null,
   "id": "af0fca55",
   "metadata": {},
   "outputs": [],
   "source": [
    "# father and son\n",
    "# father: which course you wants to do\n",
    "# son: i want to purse DS course\n",
    "# father: oh! that is very nice !\n",
    "# father: may i know your JEE rank\n",
    "#son: 2000\n",
    "#father: then how can you purse\n",
    "#son: payment seat\n",
    "#father:whicn college is offer\n",
    "#son:naresh it\n",
    "#father:how much is the fee\n",
    "#son:20000\n",
    "#father:how many sem\n",
    "#son:4=============================user input\n",
    "#father:how much the total cost\n",
    "#son:4*20000========================calculation"
   ]
  },
  {
   "cell_type": "code",
   "execution_count": 2,
   "id": "3c9846c3",
   "metadata": {},
   "outputs": [
    {
     "name": "stdout",
     "output_type": "stream",
     "text": [
      "father:which course you wante to do\n",
      "son:i want to do DS course\n",
      "father:oh!thst is nice\n",
      "father:may i know your JEE rank\n",
      "enter the jee rank200000\n",
      "then how can you pursue\n",
      "son:payment seat\n",
      "father:which college is offer\n",
      "enter the college nameNaresh IT\n",
      "father:how much the fee\n",
      "enter the fee course20000\n",
      "father:how many sem\n",
      "enter the total sem4\n",
      "father:how much the total cost \n",
      "the total fee is 80000\n"
     ]
    }
   ],
   "source": [
    "print(\"father:which course you wante to do\")\n",
    "print(\"son:i want to do DS course\")\n",
    "print(\"father:oh!thst is nice\")\n",
    "print(\"father:may i know your JEE rank\")\n",
    "jee_rank=eval(input(\"enter the jee rank\"))\n",
    "print(\"then how can you pursue\")\n",
    "print(\"son:payment seat\")\n",
    "print(\"father:which college is offer\")\n",
    "college_name=input(\"enter the college name\")\n",
    "print(\"father:how much the fee\")\n",
    "fee=eval(input(\"enter the fee course\"))\n",
    "print(\"father:how many sem\")\n",
    "sem=input(\"enter the total sem\")\n",
    "print(\"father:how much the total cost \")\n",
    "total_cost=fee*4\n",
    "print(\"the total fee is\",total_cost)"
   ]
  },
  {
   "cell_type": "code",
   "execution_count": null,
   "id": "5c6d3984",
   "metadata": {},
   "outputs": [],
   "source": []
  },
  {
   "cell_type": "code",
   "execution_count": null,
   "id": "6781fc86",
   "metadata": {},
   "outputs": [],
   "source": []
  },
  {
   "cell_type": "code",
   "execution_count": null,
   "id": "a2cea5a2",
   "metadata": {},
   "outputs": [],
   "source": []
  },
  {
   "cell_type": "code",
   "execution_count": null,
   "id": "29daa566",
   "metadata": {},
   "outputs": [],
   "source": []
  },
  {
   "cell_type": "code",
   "execution_count": null,
   "id": "1603a73d",
   "metadata": {},
   "outputs": [],
   "source": []
  },
  {
   "cell_type": "code",
   "execution_count": null,
   "id": "37946055",
   "metadata": {},
   "outputs": [],
   "source": []
  },
  {
   "cell_type": "code",
   "execution_count": null,
   "id": "142a1e30",
   "metadata": {},
   "outputs": [],
   "source": []
  },
  {
   "cell_type": "code",
   "execution_count": null,
   "id": "09d864fc",
   "metadata": {},
   "outputs": [],
   "source": []
  }
 ],
 "metadata": {
  "kernelspec": {
   "display_name": "Python 3 (ipykernel)",
   "language": "python",
   "name": "python3"
  },
  "language_info": {
   "codemirror_mode": {
    "name": "ipython",
    "version": 3
   },
   "file_extension": ".py",
   "mimetype": "text/x-python",
   "name": "python",
   "nbconvert_exporter": "python",
   "pygments_lexer": "ipython3",
   "version": "3.11.5"
  }
 },
 "nbformat": 4,
 "nbformat_minor": 5
}
