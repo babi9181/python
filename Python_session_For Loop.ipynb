{
 "cells": [
  {
   "cell_type": "markdown",
   "id": "39bfdda5",
   "metadata": {},
   "source": [
    "- Basic syntex\n",
    "- conditional statement\n",
    "- try-exception\n",
    "- function\n",
    "- loop\n",
    "  - for\n",
    "  - while  "
   ]
  },
  {
   "cell_type": "markdown",
   "id": "eac15569",
   "metadata": {},
   "source": [
    "# Foor loop"
   ]
  },
  {
   "cell_type": "markdown",
   "id": "21606cd7",
   "metadata": {},
   "source": [
    "- you will in the loop\n",
    "- when you will enter into the loop\n",
    "- how much time you will stay in loop\n",
    "- how you wiil come out of the from the loop\n",
    "\n",
    "\n",
    "- intialization\n",
    "- increament/decrement\n",
    "- condition to stop the loop"
   ]
  },
  {
   "cell_type": "markdown",
   "id": "217ee8fe",
   "metadata": {},
   "source": [
    "**pattern-1**"
   ]
  },
  {
   "cell_type": "markdown",
   "id": "099b9b84",
   "metadata": {},
   "source": [
    "for 1 in range(stop):\n",
    "- in the bracket if we have only single value that is consider as stop value\n",
    "- the defult strat value is =0\n",
    "- python index always strat with :0\n",
    "- if direction sign is not mentioned increament(+)sign\n",
    "- if direction is positive side then end=stop 1"
   ]
  },
  {
   "cell_type": "code",
   "execution_count": 1,
   "id": "7338d384",
   "metadata": {},
   "outputs": [
    {
     "ename": "SyntaxError",
     "evalue": "invalid syntax (764443995.py, line 1)",
     "output_type": "error",
     "traceback": [
      "\u001b[1;36m  Cell \u001b[1;32mIn[1], line 1\u001b[1;36m\u001b[0m\n\u001b[1;33m    for i range(10):\u001b[0m\n\u001b[1;37m          ^\u001b[0m\n\u001b[1;31mSyntaxError\u001b[0m\u001b[1;31m:\u001b[0m invalid syntax\n"
     ]
    }
   ],
   "source": [
    "for i range(10):\n",
    "    print(i)"
   ]
  },
  {
   "cell_type": "code",
   "execution_count": null,
   "id": "5dfdeea8",
   "metadata": {},
   "outputs": [],
   "source": [
    "print(0)\n",
    "print(1)\n",
    "print(2)"
   ]
  },
  {
   "cell_type": "code",
   "execution_count": 2,
   "id": "f9d1f1a6",
   "metadata": {},
   "outputs": [
    {
     "name": "stdout",
     "output_type": "stream",
     "text": [
      "0 1 2\n"
     ]
    },
    {
     "ename": "NameError",
     "evalue": "name 'i' is not defined",
     "output_type": "error",
     "traceback": [
      "\u001b[1;31m---------------------------------------------------------------------------\u001b[0m",
      "\u001b[1;31mNameError\u001b[0m                                 Traceback (most recent call last)",
      "Cell \u001b[1;32mIn[2], line 4\u001b[0m\n\u001b[0;32m      2\u001b[0m \u001b[38;5;28mprint\u001b[39m(\u001b[38;5;241m1\u001b[39m,end\u001b[38;5;241m=\u001b[39m\u001b[38;5;124m'\u001b[39m\u001b[38;5;124m \u001b[39m\u001b[38;5;124m'\u001b[39m)\n\u001b[0;32m      3\u001b[0m \u001b[38;5;28mprint\u001b[39m(\u001b[38;5;241m2\u001b[39m)\n\u001b[1;32m----> 4\u001b[0m \u001b[38;5;28mprint\u001b[39m(i,end\u001b[38;5;241m=\u001b[39m\u001b[38;5;124m'\u001b[39m\u001b[38;5;124m \u001b[39m\u001b[38;5;124m'\u001b[39m)\n",
      "\u001b[1;31mNameError\u001b[0m: name 'i' is not defined"
     ]
    }
   ],
   "source": [
    "print(0,end=' ')\n",
    "print(1,end=' ')\n",
    "print(2)\n",
    "print(i,end=' ')"
   ]
  },
  {
   "cell_type": "markdown",
   "id": "0e2891ea",
   "metadata": {},
   "source": [
    "*pattern-2*\n",
    "for i in range (start,stop)\n",
    "- start: start of the loop,initial point\n",
    "- direction sign not mentioned :+ve direction i.e inceament\n",
    "- end=stop-1    "
   ]
  },
  {
   "cell_type": "code",
   "execution_count": 4,
   "id": "b723d33d",
   "metadata": {},
   "outputs": [
    {
     "name": "stdout",
     "output_type": "stream",
     "text": [
      "2 3 4 5 6 "
     ]
    }
   ],
   "source": [
    "for i in range (2,7):\n",
    "    print(i,end=' ')\n",
    "    # start=10  # end= 20-1"
   ]
  },
  {
   "cell_type": "markdown",
   "id": "6e4ee3e9",
   "metadata": {},
   "source": [
    "*pattern-3*\n",
    "for i in range (start,stop,step)\n",
    "- start: start of the loop,initial point\n",
    "- direction : what is sign of step value ,that is the direction\n",
    "- direction will not decide by start and stop value\n",
    "- end=stop-1"
   ]
  },
  {
   "cell_type": "code",
   "execution_count": 5,
   "id": "69a3b30a",
   "metadata": {},
   "outputs": [
    {
     "name": "stdout",
     "output_type": "stream",
     "text": [
      "2 4 6 8 10 12 14 16 18 "
     ]
    }
   ],
   "source": [
    "for i in range(2,20,2): # (start,stop,step)\n",
    "    print(i,end=' ')\n",
    "    # start=2\n",
    "    # direction:step size=2\n",
    "    # end=stop-1=20-1=19"
   ]
  },
  {
   "cell_type": "code",
   "execution_count": 6,
   "id": "ddd83da4",
   "metadata": {},
   "outputs": [
    {
     "name": "stdout",
     "output_type": "stream",
     "text": [
      "-1 -2 -3 -4 -5 -6 -7 -8 -9 "
     ]
    }
   ],
   "source": [
    "for i in range(-1,-10,-1):\n",
    "    print(i,end=' ')\n"
   ]
  },
  {
   "cell_type": "code",
   "execution_count": null,
   "id": "ebcfec23",
   "metadata": {},
   "outputs": [],
   "source": [
    "for i in range (-1,-10,3):\n",
    "    print(i,end=' ')"
   ]
  },
  {
   "cell_type": "code",
   "execution_count": 1,
   "id": "c6382b48",
   "metadata": {},
   "outputs": [
    {
     "name": "stdout",
     "output_type": "stream",
     "text": [
      "hello\n",
      "hello\n",
      "hello\n"
     ]
    }
   ],
   "source": [
    "for i in range(3):\n",
    "    print('hello')\n",
    "    "
   ]
  },
  {
   "cell_type": "code",
   "execution_count": 2,
   "id": "502ba6cb",
   "metadata": {},
   "outputs": [
    {
     "name": "stdout",
     "output_type": "stream",
     "text": [
      "hai\n",
      "hello\n",
      "hello\n",
      "hello\n",
      "how do you do\n"
     ]
    }
   ],
   "source": [
    "print('hai')\n",
    "for i in range(3):\n",
    "    print('hello')\n",
    "print('how do you do')    "
   ]
  },
  {
   "cell_type": "code",
   "execution_count": 10,
   "id": "c4f6d0d3",
   "metadata": {},
   "outputs": [
    {
     "name": "stdout",
     "output_type": "stream",
     "text": [
      "A\n",
      "A\n",
      "A\n",
      "B\n",
      "B\n",
      "C\n",
      "C\n",
      "C\n"
     ]
    }
   ],
   "source": [
    "for i in range (3):\n",
    "    print('A')\n",
    "for i in range (2):\n",
    "    print('B')\n",
    "for i in range (3):\n",
    "    print('C')    \n",
    "    "
   ]
  },
  {
   "cell_type": "code",
   "execution_count": 9,
   "id": "64745ff5",
   "metadata": {},
   "outputs": [
    {
     "name": "stdout",
     "output_type": "stream",
     "text": [
      "A\n",
      "B\n",
      "A\n",
      "B\n",
      "C\n",
      "C\n",
      "C\n"
     ]
    }
   ],
   "source": [
    "for i in range (2):\n",
    "    print('A')\n",
    "    print('B')\n",
    "for i in range (3):\n",
    "    print('C')\n",
    "  \n",
    "    "
   ]
  },
  {
   "cell_type": "code",
   "execution_count": 7,
   "id": "131fa3c0",
   "metadata": {},
   "outputs": [
    {
     "name": "stdout",
     "output_type": "stream",
     "text": [
      "the square of 10 is 100\n",
      "the square of 11 is 121\n",
      "the square of 12 is 144\n",
      "the square of 13 is 169\n",
      "the square of 14 is 196\n"
     ]
    }
   ],
   "source": [
    "# wap ask the user to get the squre of the numbers\n",
    "# between 10 to 15\n",
    "# square 0f 10to 100\n",
    "# square of 11 to 121\n",
    "# square of 12 to 144\n",
    "\n",
    "# first get the number from 10 to 15\n",
    "for i in range(10,15):\n",
    "    print(\"the square of {} is {}\".format (i,i*i))"
   ]
  },
  {
   "cell_type": "code",
   "execution_count": 8,
   "id": "09b161f2",
   "metadata": {},
   "outputs": [
    {
     "name": "stdout",
     "output_type": "stream",
     "text": [
      "enter the start number:10\n",
      "enter the stop number:16\n",
      "the square of 10 is 100\n",
      "the square of 11 is 121\n",
      "the square of 12 is 144\n",
      "the square of 13 is 169\n",
      "the square of 14 is 196\n",
      "the square of 15 is 225\n"
     ]
    }
   ],
   "source": [
    "# the same above question\n",
    "# take the number form keyboard\n",
    "# num1=eval(input())\n",
    "# num2=eval(input())\n",
    "# replace 10,16 in for loop with variables num1,num2\n",
    "num1=eval(input(\"enter the start number:\"))\n",
    "num2=eval(input(\"enter the stop number:\"))\n",
    "for i in range(num1,num2):\n",
    "    print(\"the square of {} is {}\".format(i,i*i))"
   ]
  },
  {
   "cell_type": "code",
   "execution_count": 11,
   "id": "2603bf5b",
   "metadata": {},
   "outputs": [
    {
     "name": "stdout",
     "output_type": "stream",
     "text": [
      "enter the start number:10\n",
      "enter the stop number:16\n",
      "the square of 10 is 100\n",
      "the square of 11 is 121\n",
      "the square of 12 is 144\n",
      "the square of 13 is 169\n",
      "the square of 14 is 196\n",
      "the square of 15 is 225\n"
     ]
    }
   ],
   "source": [
    "# Function with arguments\n",
    "def square():\n",
    "    num1=eval(input(\"enter the start number:\"))\n",
    "    num2=eval(input(\"enter the stop number:\"))\n",
    "    for i in range(num1,num2):\n",
    "        print(\"the square of {} is {}\".format(i,i*i))\n",
    "        \n",
    "square()        \n",
    "\n",
    "    \n",
    "    "
   ]
  },
  {
   "cell_type": "code",
   "execution_count": 12,
   "id": "25e37f02",
   "metadata": {},
   "outputs": [
    {
     "name": "stdout",
     "output_type": "stream",
     "text": [
      "the square of 10 is 100\n",
      "the square of 11 is 121\n",
      "the square of 12 is 144\n",
      "the square of 13 is 169\n",
      "the square of 14 is 196\n",
      "the square of 15 is 225\n"
     ]
    }
   ],
   "source": [
    "def square(num11,num22):\n",
    "    \n",
    "    for i in range(num1,num2):\n",
    "        print(\"the square of {} is {}\".format(i,i*i))\n",
    "        \n",
    "square(10,16)        \n"
   ]
  },
  {
   "cell_type": "code",
   "execution_count": 13,
   "id": "53c8a933",
   "metadata": {},
   "outputs": [
    {
     "name": "stdout",
     "output_type": "stream",
     "text": [
      "enter a number:10\n",
      "the square of 10 is 100\n",
      "enter a number:16\n",
      "the square of 16 is 256\n",
      "enter a number:10\n",
      "the square of 10 is 100\n",
      "enter a number:16\n",
      "the square of 16 is 256\n",
      "enter a number:10\n",
      "the square of 10 is 100\n"
     ]
    }
   ],
   "source": [
    "# wap ask the user to print square of the five number\n",
    "# and these five number you need ask user every timr\n",
    "for i in range(5):\n",
    "    num=eval(input(\"enter a number:\"))\n",
    "    print(\"the square of {} is {}\".format(num,num*num))"
   ]
  },
  {
   "cell_type": "code",
   "execution_count": 15,
   "id": "170f595a",
   "metadata": {},
   "outputs": [
    {
     "name": "stdout",
     "output_type": "stream",
     "text": [
      "enter a number:10\n",
      "the square of 10 is 100\n",
      "the square of 10 is 100\n",
      "the square of 10 is 100\n",
      "the square of 10 is 100\n",
      "the square of 10 is 100\n",
      "enter a number:16\n",
      "the square of 16 is 256\n",
      "the square of 16 is 256\n",
      "the square of 16 is 256\n",
      "the square of 16 is 256\n",
      "the square of 16 is 256\n"
     ]
    }
   ],
   "source": [
    "num=eval(input(\"enter a number:\"))\n",
    "for i in range(5):\n",
    "    print(\"the square of {} is {}\".format(num,num*num))\n",
    "    \n",
    "    \n",
    "num=eval(input(\"enter a number:\"))\n",
    "for i in range(5):\n",
    "    print(\"the square of {} is {}\".format(num,num*num))    "
   ]
  },
  {
   "cell_type": "code",
   "execution_count": 17,
   "id": "9e6cad25",
   "metadata": {},
   "outputs": [
    {
     "name": "stdout",
     "output_type": "stream",
     "text": [
      "the square of 5 is 25\n",
      "the square of 8 is 64\n",
      "the square of 18 is 324\n",
      "the square of 16 is 256\n",
      "the square of 16 is 256\n",
      "the square of 15 is 225\n"
     ]
    }
   ],
   "source": [
    "# wap ask the user to print five times square of a number\n",
    "# this time you need to take every time a random number\n",
    "\n",
    "import random\n",
    "for i in range(6):\n",
    "    num=random.randint(1,20)\n",
    "    print(\"the square of {} is {}\".format(num,num*num))\n",
    "    "
   ]
  },
  {
   "cell_type": "code",
   "execution_count": 16,
   "id": "8012c1ab",
   "metadata": {},
   "outputs": [
    {
     "name": "stdout",
     "output_type": "stream",
     "text": [
      "the given 10 is even number\n",
      "the given 11 is odd number\n",
      "the given 12 is even number\n",
      "the given 13 is odd number\n",
      "the given 14 is even number\n",
      "the given 15 is odd number\n",
      "the given 16 is even number\n",
      "the given 17 is odd number\n",
      "the given 18 is even number\n",
      "the given 19 is odd number\n",
      "the given 20 is even number\n",
      "the given 21 is odd number\n",
      "the given 22 is even number\n",
      "the given 23 is odd number\n",
      "the given 24 is even number\n",
      "the given 25 is odd number\n",
      "the given 26 is even number\n",
      "the given 27 is odd number\n",
      "the given 28 is even number\n",
      "the given 29 is odd number\n",
      "the given 30 is even number\n"
     ]
    }
   ],
   "source": [
    "# wap ask the user print the given number is even or odd\n",
    "# you need to take the number between 10 to 30\n",
    "\n",
    "for num in range(10,31):\n",
    "    if num%2==0:\n",
    "        print(\"the given {} is even number\".format(num))\n",
    "    else:\n",
    "        print(\"the given {} is odd number\".format(num))"
   ]
  },
  {
   "cell_type": "code",
   "execution_count": 24,
   "id": "3bad78ce",
   "metadata": {},
   "outputs": [
    {
     "name": "stdout",
     "output_type": "stream",
     "text": [
      "17  is an odd number\n",
      "19  is an odd number\n",
      "23  is an odd number\n",
      "14  is an even number\n",
      "27  is an odd number\n"
     ]
    }
   ],
   "source": [
    "# wap ask the user print the given number is even or odd\n",
    "# you need to take the number between randomly between 10 and 30\n",
    "import random\n",
    "for i in range(5):\n",
    "    num=random.randint(10,30)\n",
    "    if num%2==0:\n",
    "        print(\"{}  is an even number\".format(num))\n",
    "    else:\n",
    "        print(\"{}  is an odd number\".format(num))"
   ]
  },
  {
   "cell_type": "code",
   "execution_count": 12,
   "id": "3520ad82",
   "metadata": {},
   "outputs": [
    {
     "name": "stdout",
     "output_type": "stream",
     "text": [
      "the given 28 is even number\n",
      "the given 26 is even number\n",
      "the given 14 is even number\n",
      "the given 24 is even number\n",
      "the given 21 is odd number\n"
     ]
    }
   ],
   "source": [
    "def even_odd(num):\n",
    "    if num%2==0:\n",
    "        print(\"the given {} is even number\".format(num))\n",
    "    else:\n",
    "        print(\"the given {} is odd number\".format(num))\n",
    "        \n",
    "import random\n",
    "for i in range(5):\n",
    "    num=random.randint(10,30)\n",
    "    even_odd(num)\n",
    "    "
   ]
  },
  {
   "cell_type": "code",
   "execution_count": 31,
   "id": "1cbceafa",
   "metadata": {},
   "outputs": [
    {
     "name": "stdout",
     "output_type": "stream",
     "text": [
      "enter a number:7\n",
      "you lost\n",
      "enter a number:6\n",
      "you lost\n",
      "enter a number:3\n",
      "you lost\n",
      "enter a number:8\n",
      "you lost\n"
     ]
    }
   ],
   "source": [
    "# 5 lines\n",
    "# take a random number from random package between 1 to 10\n",
    "# ask the user enter a number between 1 to 10\n",
    "# if the number == rendom number:\n",
    "# print you won\n",
    "# print you lost\n",
    "\n",
    "import random\n",
    "for i in range(1,5):\n",
    "    num1=random.randint(1,10)\n",
    "    num2=eval(input(\"enter a number:\"))\n",
    "    if num==num2:\n",
    "        print(\"you won\")\n",
    "    else:\n",
    "        print(\"you lost\")\n"
   ]
  },
  {
   "cell_type": "code",
   "execution_count": 34,
   "id": "2df61c15",
   "metadata": {},
   "outputs": [
    {
     "name": "stdout",
     "output_type": "stream",
     "text": [
      "3\n",
      "enter a number:3\n",
      "you won\n"
     ]
    }
   ],
   "source": [
    "import random\n",
    "num1=random.randint(1,10)\n",
    "print(num1)\n",
    "for i in range(3):\n",
    "    num2=eval(input(\"enter a number:\"))\n",
    "    if num1==num2:\n",
    "        print(\"you won\")\n",
    "        break\n",
    "    else:\n",
    "        print(\"you lost\")\n",
    "        print(\"the number of chances left is:\",2-i)\n"
   ]
  },
  {
   "cell_type": "code",
   "execution_count": null,
   "id": "288cdc5c",
   "metadata": {},
   "outputs": [],
   "source": [
    "# improvise above code\n",
    "# you need to mention number of chances left\n",
    "# the user need whenever he fails/true"
   ]
  },
  {
   "cell_type": "code",
   "execution_count": 17,
   "id": "c9d5115b",
   "metadata": {},
   "outputs": [
    {
     "name": "stdout",
     "output_type": "stream",
     "text": [
      "enter how many chances you want:3\n",
      "enter a number between 1 to 10:5\n",
      "you lost\n",
      "the number of chances left is: 2\n",
      "enter a number between 1 to 10:6\n",
      "you won\n"
     ]
    }
   ],
   "source": [
    "import random\n",
    "num1=random.randint(1,10)\n",
    "chances=eval(input(\"enter how many chances you want:\"))\n",
    "for i in range(chances):\n",
    "    num2=eval(input(\"enter a number between 1 to 10:\"))\n",
    "    if num1==num2:\n",
    "        print(\"you won\")\n",
    "        break\n",
    "        \n",
    "    else:\n",
    "        print(\"you lost\")\n",
    "        print(\"the number of chances left is:\",chances-1-i)\n"
   ]
  },
  {
   "cell_type": "code",
   "execution_count": 38,
   "id": "8591c797",
   "metadata": {},
   "outputs": [
    {
     "name": "stdout",
     "output_type": "stream",
     "text": [
      "enter how many chances you want:3\n",
      "enter a number between 1 to 10:5\n",
      "you lost\n",
      "the number of chances left is: 2\n",
      "-------------------------------\n",
      "enter a number between 1 to 10:7\n",
      "you lost\n",
      "the number of chances left is: 1\n",
      "-------------------------------\n",
      "enter a number between 1 to 10:4\n",
      "ps try again your all chances are over\n",
      "you lost\n",
      "pls try again\n"
     ]
    }
   ],
   "source": [
    "# improvise above code\n",
    "# whenever the user lost all the chances\n",
    "# it should print all the chances are over\n",
    "# print('pls try again after 10 mins')\n",
    "\n",
    "import random\n",
    "num1=random.randint(1,10)\n",
    "chances=eval(input(\"enter how many chances you want:\"))\n",
    "for i in range(chances):\n",
    "    num2=eval(input(\"enter a number between 1 to 10:\"))\n",
    "    if num1==num2:\n",
    "        print(\"you won\")\n",
    "        break\n",
    "    elif chances-1-i==0:\n",
    "        print(\"ps try again your all chances are over\")\n",
    "        print(\"you lost\")\n",
    "        print(\"pls try again\")\n",
    "    else:\n",
    "        print(\"you lost\")\n",
    "        print(\"the number of chances left is:\",chances-1-i)\n",
    "        print(\"-------------------------------\")\n",
    "        \n",
    "# chances=3\n",
    "# i=0  2  10   if 2==10 f====> elif 3-1-0: 2==0 F ===> else: 2\n",
    "# i=1  2  10   if 2==10 f====> elif 3-1-1: 2==0 F ===> else: 1\n",
    "    \n",
    "# i=2  2  10   if 2==10 f====> elif 3-1-2: 0==0 T\n",
    "    \n",
    "\n",
    "    \n"
   ]
  },
  {
   "cell_type": "code",
   "execution_count": 3,
   "id": "c8eb669a",
   "metadata": {},
   "outputs": [
    {
     "name": "stdout",
     "output_type": "stream",
     "text": [
      "1\n",
      "3\n",
      "6\n",
      "10\n",
      "15\n",
      "21\n",
      "28\n",
      "36\n",
      "45\n",
      "55\n"
     ]
    }
   ],
   "source": [
    "# wap ask the user get the sum of 10 natural numbers\n",
    "summ=0\n",
    "for i in range(1,11):\n",
    "    summ=summ+i     # i=2  summ=1  summ=1+2=3\n",
    "    print(summ)\n",
    "    \n",
    "# 0+1=1\n",
    "# 1+2=3\n",
    "# 3+3=6\n",
    "# 6+4=10\n",
    "# 10+5=15\n",
    "# 15+6=21"
   ]
  },
  {
   "cell_type": "code",
   "execution_count": 6,
   "id": "b3cd8986",
   "metadata": {},
   "outputs": [
    {
     "name": "stdout",
     "output_type": "stream",
     "text": [
      "0 + 1 is:\n",
      "1\n",
      "1 + 2 is:\n",
      "3\n",
      "3 + 3 is:\n",
      "6\n",
      "6 + 4 is:\n",
      "10\n",
      "10 + 5 is:\n",
      "15\n",
      "15 + 6 is:\n",
      "21\n",
      "21 + 7 is:\n",
      "28\n",
      "28 + 8 is:\n",
      "36\n",
      "36 + 9 is:\n",
      "45\n",
      "45 + 10 is:\n",
      "55\n",
      "the sum of first natural numbers is:  55\n"
     ]
    }
   ],
   "source": [
    "summ=0\n",
    "for i in range(1,11):\n",
    "    print(\"{} + {} is:\".format(summ,i))\n",
    "    summ=summ+i     # i=2  summ=1  summ=1+2=3\n",
    "    print(summ)\n",
    "print(\"the sum of first natural numbers is: \",summ)    "
   ]
  },
  {
   "cell_type": "code",
   "execution_count": 7,
   "id": "93cfcd0c",
   "metadata": {},
   "outputs": [
    {
     "name": "stdout",
     "output_type": "stream",
     "text": [
      "0\n",
      "1\n",
      "2\n",
      "3\n",
      "4\n",
      "5\n",
      "6\n",
      "7\n",
      "8\n",
      "9\n"
     ]
    }
   ],
   "source": [
    "\n",
    "for i in range(10):\n",
    "    print(i)"
   ]
  },
  {
   "cell_type": "code",
   "execution_count": null,
   "id": "b5e63661",
   "metadata": {},
   "outputs": [],
   "source": [
    "- whenever if you want implement counter programe\n",
    "- summ programe\n",
    "- intialize the variables with zero\n",
    "- like: summ=0 or count=0\n",
    "- inside the loop based on problem update the variables\n",
    "- like: summ=summ+i or count=count+i\n",
    "-     "
   ]
  },
  {
   "cell_type": "code",
   "execution_count": 9,
   "id": "241cfbc7",
   "metadata": {},
   "outputs": [
    {
     "name": "stdout",
     "output_type": "stream",
     "text": [
      "when is even: 0\n",
      "14  is an even number\n",
      "when is odd: 1\n",
      "13  is an odd number\n",
      "when is odd: 2\n",
      "13  is an odd number\n",
      "when is even: 3\n",
      "28  is an even number\n",
      "when is even: 4\n",
      "20  is an even number\n",
      "3 2\n"
     ]
    }
   ],
   "source": [
    "# wap ask the user print the given number is even or odd\n",
    "# you need to take the number between randomly between 10 and 30\n",
    "# improvis this problem\n",
    "# by count the number of even and odds you are getting\n",
    "even_count=0\n",
    "odd_count=0\n",
    "import random\n",
    "for i in range(5):\n",
    "    num=random.randint(10,30)\n",
    "    if num%2==0:\n",
    "        print(\"when is even:\",i)\n",
    "        print(\"{}  is an even number\".format(num))\n",
    "        even_count=even_count+1\n",
    "        \n",
    "    else:\n",
    "        print(\"when is odd:\",i)\n",
    "        print(\"{}  is an odd number\".format(num))\n",
    "        odd_count=odd_count+1\n",
    "print(even_count,odd_count)        "
   ]
  },
  {
   "cell_type": "code",
   "execution_count": 13,
   "id": "cefdf624",
   "metadata": {},
   "outputs": [
    {
     "name": "stdout",
     "output_type": "stream",
     "text": [
      "97\n",
      "52\n",
      "79\n",
      "74\n",
      "88\n",
      "the number of values more then 50 is: 5\n"
     ]
    }
   ],
   "source": [
    "# wap ask the user take a random number between 1 to 99\n",
    "# iterate the loop 10 times\n",
    "# count how many times a number is coming and greater then 50\n",
    "\n",
    "import random\n",
    "count=0\n",
    "for i in range(10):\n",
    "    num=random.randint(1,99)\n",
    "    if num>50:\n",
    "        print(num)\n",
    "        count+=1\n",
    "        \n",
    "print(\"the number of values more then 50 is:\",count)        \n"
   ]
  },
  {
   "cell_type": "code",
   "execution_count": 17,
   "id": "8d6be2db",
   "metadata": {},
   "outputs": [
    {
     "name": "stdout",
     "output_type": "stream",
     "text": [
      "enter which number divisiors want to know:40\n",
      "40 is divisible by 1\n",
      "40 is divisible by 2\n",
      "40 is divisible by 4\n",
      "40 is divisible by 5\n",
      "40 is divisible by 8\n",
      "40 is divisible by 10\n",
      "40 is divisible by 20\n",
      "40 is divisible by 40\n",
      "the number of divisiors are: 17\n"
     ]
    }
   ],
   "source": [
    "# number of divisiors programe\n",
    "# 10 is divisible by what numbers\n",
    "# 10/1 10/2 10/3 10/4 10/5\n",
    "num=eval(input(\"enter which number divisiors want to know:\"))\n",
    "for i in range(1,1+num):\n",
    "    if num%i==0:\n",
    "        print(\"{} is divisible by {}\".format(num,i))\n",
    "        count=count+1\n",
    "        \n",
    "print(\"the number of divisiors are:\",count)        "
   ]
  },
  {
   "cell_type": "code",
   "execution_count": 20,
   "id": "2c879790",
   "metadata": {},
   "outputs": [
    {
     "name": "stdout",
     "output_type": "stream",
     "text": [
      "enter which number divisiors want to know:45\n",
      "45 is divisible by 1\n",
      "45 is divisible by 3\n",
      "45 is divisible by 5\n",
      "45 is divisible by 9\n",
      "45 is divisible by 15\n",
      "45 is divisible by 45\n",
      "the number of divisiors are: 6\n",
      "the number of non divisiors count is: 39\n"
     ]
    }
   ],
   "source": [
    "d_count=0\n",
    "nd_count=0\n",
    "num=eval(input(\"enter which number divisiors want to know:\"))\n",
    "for i in range(1,1+num):\n",
    "    if num%i==0:\n",
    "        print(\"{} is divisible by {}\".format(num,i))\n",
    "        d_count=d_count+1\n",
    "    else:\n",
    "        nd_count=nd_count+1\n",
    "        \n",
    "print(\"the number of divisiors are:\",d_count) \n",
    "print(\"the number of non divisiors count is:\",(nd_count))"
   ]
  },
  {
   "cell_type": "code",
   "execution_count": 1,
   "id": "d6e786c7",
   "metadata": {},
   "outputs": [
    {
     "name": "stdout",
     "output_type": "stream",
     "text": [
      "enter which number divisiors want to know:10\n",
      "10 is divisible by 1\n",
      "10 is divisible by 2\n",
      "10 is divisible by 5\n",
      "10 is divisible by 10\n",
      "4 6\n"
     ]
    }
   ],
   "source": [
    "\n",
    "num=eval(input(\"enter which number divisiors want to know:\"))\n",
    "\n",
    "def counter():\n",
    "    d_count=0\n",
    "    nd_count=0\n",
    "    for i in range(1,1+num):\n",
    "        if num%i==0:\n",
    "            print(\"{} is divisible by {}\".format(num,i))\n",
    "            d_count=d_count+1\n",
    "        else:\n",
    "            nd_count=nd_count+1\n",
    "    return(d_count,nd_count)\n",
    "val1,val2=counter() \n",
    "print(val1,val2)"
   ]
  },
  {
   "cell_type": "code",
   "execution_count": 23,
   "id": "64ece5d6",
   "metadata": {},
   "outputs": [
    {
     "name": "stdout",
     "output_type": "stream",
     "text": [
      "enter which number divisiors want to know:45\n",
      "45 is divisible by 1\n",
      "1 1\n"
     ]
    }
   ],
   "source": [
    "\n",
    "num=eval(input(\"enter which number divisiors want to know:\"))\n",
    "\n",
    "\n",
    "def counter():\n",
    "    d_count=0\n",
    "    nd_count=0\n",
    "    for i in range(1,1+num):\n",
    "        if num%i==0:\n",
    "            print(\"{} is divisible by {}\".format(num,i))\n",
    "            d_count=d_count+1\n",
    "        else:\n",
    "            nd_count=nd_count+1\n",
    "            return(d_count,nd_count)\n",
    "val1,val2=counter() \n",
    "print(val1,val2)"
   ]
  },
  {
   "cell_type": "code",
   "execution_count": 24,
   "id": "787e8a23",
   "metadata": {},
   "outputs": [
    {
     "name": "stdout",
     "output_type": "stream",
     "text": [
      "enter which number divisiors want to know:35\n",
      "35 is divisible by 1\n",
      "1 1\n"
     ]
    }
   ],
   "source": [
    "def counter():\n",
    "    d_count=0\n",
    "    nd_count=0\n",
    "    num=eval(input(\"enter which number divisiors want to know:\"))\n",
    "    for i in range(1,1+num):\n",
    "        if num%i==0:\n",
    "            print(\"{} is divisible by {}\".format(num,i))\n",
    "            d_count=d_count+1\n",
    "        else:\n",
    "            nd_count=nd_count+1\n",
    "            return(d_count,nd_count)\n",
    "val1,val2=counter() \n",
    "print(val1,val2)"
   ]
  },
  {
   "cell_type": "code",
   "execution_count": 3,
   "id": "e4fcbbb5",
   "metadata": {},
   "outputs": [],
   "source": [
    "def condition(num,i,d_count,nd_count):\n",
    "    if num%i==0:\n",
    "            print(\"{} is divisible by {}\".format(num,i))\n",
    "            d_count=d_count+1\n",
    "    else:\n",
    "        nd_count=nd_count+1\n",
    "    return(d_count,nd_count)\n",
    "\n",
    "\n",
    "def counter2():\n",
    "    d_count=0\n",
    "    nd_count=0\n",
    "    num=eval(input(\"enter which number divisiors wants to know:\"))\n",
    "    for i in range(1,num+1):\n",
    "        d_count,nd_count=condition(num,d_count,nd_count,i)\n",
    "        \n",
    "    return(d_count,nd_count)    \n",
    "val1,val2=counter()\n",
    "print(val1,val2)\n",
    "\n"
   ]
  },
  {
   "cell_type": "code",
   "execution_count": null,
   "id": "2469435b",
   "metadata": {},
   "outputs": [],
   "source": []
  },
  {
   "cell_type": "code",
   "execution_count": null,
   "id": "30730f40",
   "metadata": {},
   "outputs": [],
   "source": []
  }
 ],
 "metadata": {
  "kernelspec": {
   "display_name": "Python 3 (ipykernel)",
   "language": "python",
   "name": "python3"
  },
  "language_info": {
   "codemirror_mode": {
    "name": "ipython",
    "version": 3
   },
   "file_extension": ".py",
   "mimetype": "text/x-python",
   "name": "python",
   "nbconvert_exporter": "python",
   "pygments_lexer": "ipython3",
   "version": "3.11.5"
  }
 },
 "nbformat": 4,
 "nbformat_minor": 5
}
