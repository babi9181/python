{
 "cells": [
  {
   "cell_type": "code",
   "execution_count": 1,
   "id": "9fd3af21",
   "metadata": {},
   "outputs": [
    {
     "data": {
      "text/plain": [
       "200"
      ]
     },
     "execution_count": 1,
     "metadata": {},
     "output_type": "execute_result"
    }
   ],
   "source": [
    "number1=100\n",
    "number2=200\n",
    "number1   # 100 is not coming\n",
    "number2   # 200 is latest so it is coming\n"
   ]
  },
  {
   "cell_type": "code",
   "execution_count": 2,
   "id": "024a4dee",
   "metadata": {},
   "outputs": [],
   "source": [
    "# in order to if you want to see both answer\n",
    "# print"
   ]
  },
  {
   "cell_type": "code",
   "execution_count": 3,
   "id": "b44d123a",
   "metadata": {},
   "outputs": [
    {
     "name": "stdout",
     "output_type": "stream",
     "text": [
      "100\n",
      "200\n"
     ]
    }
   ],
   "source": [
    "number1=100 #100 is saved in a variable number1\n",
    "number2=200 #200 is saved in a variable number2\n",
    "print(number1) #print the volume1=100\n",
    "print(number2) #print the volume2=200\n"
   ]
  },
  {
   "cell_type": "code",
   "execution_count": 4,
   "id": "13fb2c4e",
   "metadata": {},
   "outputs": [
    {
     "name": "stdout",
     "output_type": "stream",
     "text": [
      "100 200\n"
     ]
    }
   ],
   "source": [
    "print(number1,number2)"
   ]
  },
  {
   "cell_type": "code",
   "execution_count": 5,
   "id": "4c99d6dc",
   "metadata": {},
   "outputs": [
    {
     "name": "stdout",
     "output_type": "stream",
     "text": [
      "100\n",
      "------\n",
      "200\n",
      "*******\n"
     ]
    }
   ],
   "source": [
    "print(number1)\n",
    "print('------')\n",
    "print(200)\n",
    "print('*******')"
   ]
  },
  {
   "cell_type": "code",
   "execution_count": 6,
   "id": "f7e37a72",
   "metadata": {},
   "outputs": [
    {
     "name": "stdout",
     "output_type": "stream",
     "text": [
      "hai$how\n"
     ]
    }
   ],
   "source": [
    "print('hai',end='$')\n",
    "print('how')\n"
   ]
  },
  {
   "cell_type": "code",
   "execution_count": 7,
   "id": "1c6db6d5",
   "metadata": {},
   "outputs": [
    {
     "name": "stdout",
     "output_type": "stream",
     "text": [
      "1  2  3\n"
     ]
    }
   ],
   "source": [
    "print('1',end='  ')\n",
    "print('2',end='  ')\n",
    "print('3')"
   ]
  },
  {
   "cell_type": "code",
   "execution_count": 8,
   "id": "022f01c9",
   "metadata": {},
   "outputs": [
    {
     "name": "stdout",
     "output_type": "stream",
     "text": [
      "the addition of number1 and number2 is 300\n"
     ]
    }
   ],
   "source": [
    "number1=100\n",
    "number2=200\n",
    "add=number1+number2\n",
    "print('the addition of number1 and number2 is',add)\n"
   ]
  },
  {
   "cell_type": "code",
   "execution_count": 9,
   "id": "d28153a5",
   "metadata": {},
   "outputs": [
    {
     "name": "stdout",
     "output_type": "stream",
     "text": [
      "the adddition of number1 and number2 is 60\n"
     ]
    }
   ],
   "source": [
    "number1=20\n",
    "number2=40\n",
    "add=number1+number2\n",
    "print('the adddition of number1 and number2 is',add)"
   ]
  },
  {
   "cell_type": "code",
   "execution_count": null,
   "id": "2b22dc6e",
   "metadata": {},
   "outputs": [],
   "source": [
    "# the addition of 20 and 40 is 60"
   ]
  },
  {
   "cell_type": "code",
   "execution_count": 10,
   "id": "a05750f1",
   "metadata": {},
   "outputs": [
    {
     "name": "stdout",
     "output_type": "stream",
     "text": [
      "the addition of 2000 and 4000 is 6000\n"
     ]
    }
   ],
   "source": [
    "num1=2000\n",
    "num2=4000\n",
    "add=num1+num2\n",
    "print(\"the addition of\",num1,\"and\",num2,\"is\",add)"
   ]
  },
  {
   "cell_type": "code",
   "execution_count": null,
   "id": "c04537cd",
   "metadata": {},
   "outputs": [],
   "source": [
    "# step-1: variable name ='python'\n",
    "# step-2:          city ='hyd'\n",
    "# step-3:          age =10"
   ]
  },
  {
   "cell_type": "code",
   "execution_count": 11,
   "id": "a18b376f",
   "metadata": {},
   "outputs": [
    {
     "name": "stdout",
     "output_type": "stream",
     "text": [
      "my name is python im from hyd\n",
      "im 10 years old\n"
     ]
    }
   ],
   "source": [
    "name=\"python\"\n",
    "city=\"hyd\"\n",
    "age=10\n",
    "print(\"my name is\",name,'im from',city,)\n",
    "print(\"im\",age,\"years old\")"
   ]
  },
  {
   "cell_type": "code",
   "execution_count": 12,
   "id": "595ee3d7",
   "metadata": {},
   "outputs": [
    {
     "name": "stdout",
     "output_type": "stream",
     "text": [
      "the addition of 200  and 400 is 600\n"
     ]
    }
   ],
   "source": [
    "num1=200\n",
    "num2=400\n",
    "add=num1+num2\n",
    "print(\"the addition of {}  and {} is {}\".format(num1,num2,add))"
   ]
  },
  {
   "cell_type": "code",
   "execution_count": 15,
   "id": "1bff1a59",
   "metadata": {},
   "outputs": [
    {
     "name": "stdout",
     "output_type": "stream",
     "text": [
      "my name is python, im from hyd and my age is 10 year old\n"
     ]
    }
   ],
   "source": [
    "name='python'\n",
    "city='hyd'\n",
    "age=10\n",
    "print(\"my name is {}, im from {} and my age is {} year old\".format(name,city,age))"
   ]
  },
  {
   "cell_type": "code",
   "execution_count": null,
   "id": "a77350df",
   "metadata": {},
   "outputs": [],
   "source": [
    "# step-1:  value=200\n",
    "# step-2:  value=30\n",
    "# step-3:  add=value1+value2\n",
    "# step-4:  sub=value1-value2\n",
    "# step-5:  mul=value1*value2\n",
    "# step-6:  div=value1/value2\n",
    "#the addition of 20 and 30 is :-50\n",
    "#the substraction of 20 and 30 is :-10\n",
    "# the multiplication of 20 and 30 is :-600\n",
    "#the division of 20 and 30 is\n"
   ]
  },
  {
   "cell_type": "code",
   "execution_count": null,
   "id": "78cc5bef",
   "metadata": {},
   "outputs": [],
   "source": [
    "value1=20\n",
    "value=30\n",
    "add=value1+value2\n",
    "sub=value1-value2\n",
    "mul=value1*value2\n",
    "div=round(value1/value2,2)\n",
    "print(\"the addition of {} and {}  is {}\".)\n"
   ]
  },
  {
   "cell_type": "code",
   "execution_count": 17,
   "id": "292b7325",
   "metadata": {},
   "outputs": [
    {
     "name": "stdout",
     "output_type": "stream",
     "text": [
      "enter some name:python\n"
     ]
    },
    {
     "data": {
      "text/plain": [
       "'python'"
      ]
     },
     "execution_count": 17,
     "metadata": {},
     "output_type": "execute_result"
    }
   ],
   "source": [
    "input(\"enter some name:\")"
   ]
  },
  {
   "cell_type": "code",
   "execution_count": 18,
   "id": "37075597",
   "metadata": {},
   "outputs": [
    {
     "name": "stdout",
     "output_type": "stream",
     "text": [
      "what is A for:Apple\n",
      "what is B for:Ball\n",
      "Apple Ball\n"
     ]
    }
   ],
   "source": [
    "name1=input(\"what is A for:\")\n",
    "name2=input(\"what is B for:\")\n",
    "print(name1,name2)\n"
   ]
  },
  {
   "cell_type": "code",
   "execution_count": 20,
   "id": "b90ac48d",
   "metadata": {},
   "outputs": [
    {
     "name": "stdout",
     "output_type": "stream",
     "text": [
      "Apple Ball\n"
     ]
    }
   ],
   "source": [
    "print(name1,name2)"
   ]
  },
  {
   "cell_type": "code",
   "execution_count": 21,
   "id": "fed4a5ca",
   "metadata": {},
   "outputs": [
    {
     "name": "stdout",
     "output_type": "stream",
     "text": [
      "enter val1:20\n",
      "enter val2:30\n",
      "the addition of 20 and 30 is 2030\n"
     ]
    }
   ],
   "source": [
    "val1 = input(\"enter val1:\")\n",
    "val2 = input(\"enter val2:\")\n",
    "add =val1+val2\n",
    "print(\"the addition of {} and {} is {}\".format(val1,val2,add))"
   ]
  },
  {
   "cell_type": "code",
   "execution_count": null,
   "id": "b5ecd0d5",
   "metadata": {},
   "outputs": [],
   "source": []
  },
  {
   "cell_type": "code",
   "execution_count": 22,
   "id": "9902daad",
   "metadata": {},
   "outputs": [
    {
     "name": "stdout",
     "output_type": "stream",
     "text": [
      "enter val1:20\n",
      "enter val2:30\n",
      "the addition of 20 and 30 is 50\n"
     ]
    }
   ],
   "source": [
    "val1 =int(input(\"enter val1:\"))\n",
    "val2 =int(input(\"enter val2:\"))\n",
    "add =val1+val2\n",
    "print(\"the addition of {} and {} is {}\".format(val1,val2,add))"
   ]
  },
  {
   "cell_type": "code",
   "execution_count": 23,
   "id": "1a737786",
   "metadata": {},
   "outputs": [
    {
     "name": "stdout",
     "output_type": "stream",
     "text": [
      "enter val1:20\n",
      "enter val2:30\n",
      "the addition of 20 and 30 is 50\n"
     ]
    }
   ],
   "source": [
    "val1 = input(\"enter val1:\")\n",
    "val2 = input(\"enter val2:\")\n",
    "add =int(val1)+int(val2)\n",
    "print(\"the addition of {} and {} is {}\".format(val1,val2,add))"
   ]
  },
  {
   "cell_type": "code",
   "execution_count": 24,
   "id": "1d721360",
   "metadata": {},
   "outputs": [
    {
     "name": "stdout",
     "output_type": "stream",
     "text": [
      "enter a number1:200\n"
     ]
    },
    {
     "ename": "NameError",
     "evalue": "name 'flooat' is not defined",
     "output_type": "error",
     "traceback": [
      "\u001b[1;31m---------------------------------------------------------------------------\u001b[0m",
      "\u001b[1;31mNameError\u001b[0m                                 Traceback (most recent call last)",
      "Cell \u001b[1;32mIn[24], line 2\u001b[0m\n\u001b[0;32m      1\u001b[0m num1 \u001b[38;5;241m=\u001b[39m\u001b[38;5;28mint\u001b[39m(\u001b[38;5;28minput\u001b[39m(\u001b[38;5;124m\"\u001b[39m\u001b[38;5;124menter a number1:\u001b[39m\u001b[38;5;124m\"\u001b[39m))\n\u001b[1;32m----> 2\u001b[0m num2 \u001b[38;5;241m=\u001b[39mflooat(\u001b[38;5;28minput\u001b[39m(\u001b[38;5;124m\"\u001b[39m\u001b[38;5;124menter a number2\u001b[39m\u001b[38;5;124m\"\u001b[39m))\n\u001b[0;32m      3\u001b[0m \u001b[38;5;28mprint\u001b[39m(num1\u001b[38;5;241m+\u001b[39mnum2)\n",
      "\u001b[1;31mNameError\u001b[0m: name 'flooat' is not defined"
     ]
    }
   ],
   "source": [
    "num1 =int(input(\"enter a number1:\"))\n",
    "num2 =flooat(input(\"enter a number2\"))\n",
    "print(num1+num2)"
   ]
  },
  {
   "cell_type": "code",
   "execution_count": 25,
   "id": "56cc4621",
   "metadata": {},
   "outputs": [
    {
     "ename": "SyntaxError",
     "evalue": "invalid syntax (85938395.py, line 1)",
     "output_type": "error",
     "traceback": [
      "\u001b[1;36m  Cell \u001b[1;32mIn[25], line 1\u001b[1;36m\u001b[0m\n\u001b[1;33m    int('200')----works     int('200.5')---fails\u001b[0m\n\u001b[1;37m                            ^\u001b[0m\n\u001b[1;31mSyntaxError\u001b[0m\u001b[1;31m:\u001b[0m invalid syntax\n"
     ]
    }
   ],
   "source": [
    "int('200')----works     int('200.5')---fails\n",
    "float('200')----works    float('200.5')---works"
   ]
  },
  {
   "cell_type": "code",
   "execution_count": null,
   "id": "e4f21046",
   "metadata": {},
   "outputs": [],
   "source": [
    "int('200')----works     int('200.5')---fails\n",
    "float('200')----works    float('200.5')---works"
   ]
  },
  {
   "cell_type": "code",
   "execution_count": null,
   "id": "c3f20c9f",
   "metadata": {},
   "outputs": [],
   "source": []
  },
  {
   "cell_type": "code",
   "execution_count": null,
   "id": "e0e47fe7",
   "metadata": {},
   "outputs": [],
   "source": []
  },
  {
   "cell_type": "code",
   "execution_count": null,
   "id": "1f462734",
   "metadata": {},
   "outputs": [],
   "source": []
  },
  {
   "cell_type": "code",
   "execution_count": null,
   "id": "3def76f5",
   "metadata": {},
   "outputs": [],
   "source": []
  }
 ],
 "metadata": {
  "kernelspec": {
   "display_name": "Python 3 (ipykernel)",
   "language": "python",
   "name": "python3"
  },
  "language_info": {
   "codemirror_mode": {
    "name": "ipython",
    "version": 3
   },
   "file_extension": ".py",
   "mimetype": "text/x-python",
   "name": "python",
   "nbconvert_exporter": "python",
   "pygments_lexer": "ipython3",
   "version": "3.11.5"
  }
 },
 "nbformat": 4,
 "nbformat_minor": 5
}
