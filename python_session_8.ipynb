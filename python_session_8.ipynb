{
 "cells": [
  {
   "cell_type": "markdown",
   "id": "f36b54b7",
   "metadata": {},
   "source": [
    "# Conditional Statements"
   ]
  },
  {
   "cell_type": "code",
   "execution_count": null,
   "id": "4fc40a10",
   "metadata": {},
   "outputs": [],
   "source": [
    "if - else\n",
    "\n",
    "if pak won the match they have more chance to go to sf\n",
    "else they have more chance to go home\n",
    "\n",
    "if i study i will pass\n",
    "else will fail"
   ]
  },
  {
   "cell_type": "code",
   "execution_count": null,
   "id": "285ad438",
   "metadata": {},
   "outputs": [],
   "source": [
    "name='paython'\n",
    "# i want to make some condition\n",
    "# whenever the name == python===>succes\n",
    "#         otherwise ============>fail"
   ]
  },
  {
   "cell_type": "code",
   "execution_count": null,
   "id": "ed959c0b",
   "metadata": {},
   "outputs": [],
   "source": [
    "name='paython'\n",
    "if <condition>:\n",
    "    #sta-1\n",
    "    #code\n",
    "    \n",
    "else:\n",
    "    #code"
   ]
  },
  {
   "cell_type": "code",
   "execution_count": null,
   "id": "59dd38f6",
   "metadata": {},
   "outputs": [],
   "source": [
    "name='paython'  #name\n",
    "if name=='paython' # is the name really eqal to python\n",
    "print('won')"
   ]
  },
  {
   "cell_type": "code",
   "execution_count": null,
   "id": "3f8d1948",
   "metadata": {},
   "outputs": [],
   "source": [
    "a=10 # value 10 is stored in the variable 'a'\n",
    "a==10 # the value of really equal to 10"
   ]
  },
  {
   "cell_type": "code",
   "execution_count": 4,
   "id": "0517fc0f",
   "metadata": {},
   "outputs": [
    {
     "name": "stdout",
     "output_type": "stream",
     "text": [
      "won\n"
     ]
    }
   ],
   "source": [
    "name='paython'  # 'python' is saved in a variable 'name'\n",
    "if name=='paython': # is the name really eqal to python if true    # true case\n",
    "    print('won')"
   ]
  },
  {
   "cell_type": "code",
   "execution_count": null,
   "id": "0a36b00c",
   "metadata": {},
   "outputs": [],
   "source": [
    "'=' ======> assign\n",
    "'=='======> condition"
   ]
  },
  {
   "cell_type": "code",
   "execution_count": null,
   "id": "5f9a4a40",
   "metadata": {},
   "outputs": [],
   "source": [
    "name='paython'  #name\n",
    "if name=='py' # is the name really eqal to python  # false case\n",
    "    a=10\n",
    "    b=20\n",
    "    print(a+b)"
   ]
  },
  {
   "cell_type": "code",
   "execution_count": 5,
   "id": "9f32cd2f",
   "metadata": {},
   "outputs": [
    {
     "name": "stdout",
     "output_type": "stream",
     "text": [
      "won\n"
     ]
    }
   ],
   "source": [
    "name='paython'  #name\n",
    "if name=='paython': # is the name really eqal to python\n",
    "    print('won')\n",
    "else:\n",
    "    print('lost')"
   ]
  },
  {
   "cell_type": "code",
   "execution_count": 6,
   "id": "4f8bf670",
   "metadata": {},
   "outputs": [
    {
     "name": "stdout",
     "output_type": "stream",
     "text": [
      "lost\n"
     ]
    }
   ],
   "source": [
    "name='python'  #name\n",
    "if name=='py': # is the name really eqal to python\n",
    "    print('won')\n",
    "else:\n",
    "    print('lost')"
   ]
  },
  {
   "cell_type": "code",
   "execution_count": 10,
   "id": "e631cbd1",
   "metadata": {},
   "outputs": [
    {
     "name": "stdout",
     "output_type": "stream",
     "text": [
      "hello\n",
      "10\n",
      "enter a number1:50\n",
      "enter a number2:60\n",
      "this is fale case\n",
      "we are doing multiplication\n",
      "the multiplication of 50 and 60 is: 3000\n",
      "substraction: -10\n",
      "great!\n"
     ]
    }
   ],
   "source": [
    "print('hello')\n",
    "print(10)\n",
    "num1=eval(input(\"enter a number1:\"))\n",
    "num2=eval(input(\"enter a number2:\"))\n",
    "if num1==num2:\n",
    "    print(\"this is true case\")\n",
    "    print(\"we are doing addition operation\")\n",
    "    print(\"the addition of {} and {} is: {}\".format(num1,num2,num1+num2))\n",
    "    print(\"happy ending\")\n",
    "    \n",
    "else:\n",
    "    print(\"this is fale case\")\n",
    "    print(\"we are doing multiplication\")\n",
    "    print(\"the multiplication of {} and {} is: {}\".format(num1,num2,num1*num2))\n",
    "    \n",
    "substraction=num1-num2\n",
    "print('substraction:',substraction)\n",
    "print(\"great!\")"
   ]
  },
  {
   "cell_type": "code",
   "execution_count": null,
   "id": "1e3a7068",
   "metadata": {},
   "outputs": [],
   "source": [
    "# wap ask the user enter a number\n",
    "# find the number is even or odd\n",
    "# eve number: if you divide with 2 the reminder is zero\n",
    "# odd number\n",
    "# in python modulus operator give reminder"
   ]
  },
  {
   "cell_type": "code",
   "execution_count": 3,
   "id": "94dc9449",
   "metadata": {},
   "outputs": [
    {
     "ename": "SyntaxError",
     "evalue": "invalid syntax (1248541013.py, line 8)",
     "output_type": "error",
     "traceback": [
      "\u001b[1;36m  Cell \u001b[1;32mIn[3], line 8\u001b[1;36m\u001b[0m\n\u001b[1;33m    except Exception as error:\u001b[0m\n\u001b[1;37m    ^\u001b[0m\n\u001b[1;31mSyntaxError\u001b[0m\u001b[1;31m:\u001b[0m invalid syntax\n"
     ]
    }
   ],
   "source": [
    "num1=eval(input(\"enter a number:\"))\n",
    "if(num1%2==0): # 55%2==0 false : no p\n",
    "    print(\"the {} is even number\".format(num1))\n",
    "else:\n",
    "    print(\"the {} is odd number\".format(num1))\n",
    "    \n",
    "    \n",
    "except Exception as error:\n",
    "    print(error)\n",
    "    "
   ]
  },
  {
   "cell_type": "code",
   "execution_count": null,
   "id": "814577a9",
   "metadata": {},
   "outputs": [],
   "source": [
    "# wap get a rendom number between 1 to 50\n",
    "# and check it is an even number or odd number"
   ]
  },
  {
   "cell_type": "code",
   "execution_count": 15,
   "id": "a08b7cd6",
   "metadata": {},
   "outputs": [
    {
     "name": "stdout",
     "output_type": "stream",
     "text": [
      "the 18 is even number\n"
     ]
    }
   ],
   "source": [
    "import random\n",
    "num1=random.randint(1,50)\n",
    "\n",
    "if(num1%2!=0): \n",
    "    print(\"the {} is odd number\".format(num1))\n",
    "else:\n",
    "    print(\"the {} is even number\".format(num1))\n",
    "    "
   ]
  },
  {
   "cell_type": "code",
   "execution_count": null,
   "id": "d3037e9a",
   "metadata": {},
   "outputs": [],
   "source": [
    "#wap get random number between 1 to 200\n",
    "# print you won ,if number between 10 to 99: num>=10 and num<99\n",
    "# otherwise print you lost"
   ]
  },
  {
   "cell_type": "code",
   "execution_count": 16,
   "id": "da7441ed",
   "metadata": {},
   "outputs": [
    {
     "name": "stdout",
     "output_type": "stream",
     "text": [
      "you lost because 195 is between 10 and 99.\n"
     ]
    }
   ],
   "source": [
    "try:\n",
    "    num=random.randint(1,200)\n",
    "    if(num>10 and num<99):\n",
    "        print(\"you won because {} is between 10 and 99.\".format(num))\n",
    "    else:\n",
    "        print(\"you lost because {} is between 10 and 99.\".format(num))\n",
    "        \n",
    "except Exception as e:\n",
    "    print(e)\n",
    "            "
   ]
  },
  {
   "cell_type": "code",
   "execution_count": null,
   "id": "9a0fe057",
   "metadata": {},
   "outputs": [],
   "source": [
    "# wap ask the user enter a number\n",
    "# if the number >= print it is a positive number\n",
    "# otherwise print it is a negative number"
   ]
  },
  {
   "cell_type": "code",
   "execution_count": 17,
   "id": "655d64ff",
   "metadata": {},
   "outputs": [
    {
     "name": "stdout",
     "output_type": "stream",
     "text": [
      "enter a number:99\n",
      "it is a pos number\n"
     ]
    }
   ],
   "source": [
    "num=eval(input(\"enter a number:\"))\n",
    "if num>=0:\n",
    "    print(\"it is a pos number\")\n",
    "else:\n",
    "    print(\"it is a neg number\")"
   ]
  },
  {
   "cell_type": "code",
   "execution_count": 4,
   "id": "7e62c571",
   "metadata": {},
   "outputs": [
    {
     "ename": "SyntaxError",
     "evalue": "expected 'except' or 'finally' block (2096445194.py, line 3)",
     "output_type": "error",
     "traceback": [
      "\u001b[1;36m  Cell \u001b[1;32mIn[4], line 3\u001b[1;36m\u001b[0m\n\u001b[1;33m    if (num2>=0):\u001b[0m\n\u001b[1;37m    ^\u001b[0m\n\u001b[1;31mSyntaxError\u001b[0m\u001b[1;31m:\u001b[0m expected 'except' or 'finally' block\n"
     ]
    }
   ],
   "source": [
    "try:\n",
    "    num=eval(input(\"enter a number:\"))\n",
    "if (num2>=0):    \n",
    "    print(\"the given number {} is positive\".format(num2))\n",
    "elif(num2<=0):\n",
    "    print(\"the given number {} is negative\".format(num2))\n",
    "else:\n",
    "    print(\"the given number {} is zero\".format(num2))\n",
    "except Exception as error:\n",
    "    print(error)"
   ]
  },
  {
   "cell_type": "code",
   "execution_count": 22,
   "id": "93b0b2af",
   "metadata": {},
   "outputs": [
    {
     "name": "stdout",
     "output_type": "stream",
     "text": [
      "enter your percentage:60\n",
      "c grade\n"
     ]
    }
   ],
   "source": [
    "per=eval(input(\"enter your percentage:\"))\n",
    "if per>=90:\n",
    "    print(\"a grade\")\n",
    "elif per>=70:\n",
    "    print(\"b grade\")\n",
    "elif per>=50:\n",
    "    print(\"c grade\")\n",
    "else:\n",
    "    print(\"d grade\")"
   ]
  },
  {
   "cell_type": "code",
   "execution_count": null,
   "id": "711266e7",
   "metadata": {},
   "outputs": [],
   "source": [
    "# wap ask the user enter age\n",
    "# if age > 60 print (sc)\n",
    "# if age between 45 to 60 (aged)\n",
    "# if age between 30 to 45 (ma)\n",
    "# if age between 20 to 30 (young)\n",
    "# if age between 13 to 20 (teenage)\n",
    "# otherwise child"
   ]
  },
  {
   "cell_type": "code",
   "execution_count": 24,
   "id": "1828e697",
   "metadata": {},
   "outputs": [
    {
     "name": "stdout",
     "output_type": "stream",
     "text": [
      "enter a age:10\n",
      "child\n"
     ]
    }
   ],
   "source": [
    "try:\n",
    "    age=eval(input(\"enter a age:\"))\n",
    "    if (age>=60):    \n",
    "        print(\"seniour citizen\")\n",
    "    elif(age>=45):\n",
    "        print(\"aged\")\n",
    "    elif(age>=30):\n",
    "        print(\"middle age\")\n",
    "    elif(age>=20):\n",
    "        print(\"young\")\n",
    "    elif(age>=13):\n",
    "        print(\"teenage\")\n",
    "    else:\n",
    "        print(\"child\")\n",
    "except Exception as error:\n",
    "    print(error)"
   ]
  },
  {
   "cell_type": "code",
   "execution_count": null,
   "id": "6f82e257",
   "metadata": {},
   "outputs": [],
   "source": []
  },
  {
   "cell_type": "code",
   "execution_count": null,
   "id": "3a8f1cf4",
   "metadata": {},
   "outputs": [],
   "source": []
  },
  {
   "cell_type": "code",
   "execution_count": null,
   "id": "cca5318f",
   "metadata": {},
   "outputs": [],
   "source": []
  },
  {
   "cell_type": "code",
   "execution_count": null,
   "id": "8497972e",
   "metadata": {},
   "outputs": [],
   "source": []
  },
  {
   "cell_type": "code",
   "execution_count": null,
   "id": "e939356f",
   "metadata": {},
   "outputs": [],
   "source": []
  },
  {
   "cell_type": "code",
   "execution_count": null,
   "id": "da7df647",
   "metadata": {},
   "outputs": [],
   "source": []
  }
 ],
 "metadata": {
  "kernelspec": {
   "display_name": "Python 3 (ipykernel)",
   "language": "python",
   "name": "python3"
  },
  "language_info": {
   "codemirror_mode": {
    "name": "ipython",
    "version": 3
   },
   "file_extension": ".py",
   "mimetype": "text/x-python",
   "name": "python",
   "nbconvert_exporter": "python",
   "pygments_lexer": "ipython3",
   "version": "3.11.5"
  }
 },
 "nbformat": 4,
 "nbformat_minor": 5
}
