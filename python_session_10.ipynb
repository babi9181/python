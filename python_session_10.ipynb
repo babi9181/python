{
 "cells": [
  {
   "cell_type": "code",
   "execution_count": 1,
   "id": "3b777b4e",
   "metadata": {},
   "outputs": [
    {
     "name": "stdout",
     "output_type": "stream",
     "text": [
      "python\n"
     ]
    },
    {
     "ename": "NameError",
     "evalue": "name 'python' is not defined",
     "output_type": "error",
     "traceback": [
      "\u001b[1;31m---------------------------------------------------------------------------\u001b[0m",
      "\u001b[1;31mNameError\u001b[0m                                 Traceback (most recent call last)",
      "Cell \u001b[1;32mIn[1], line 1\u001b[0m\n\u001b[1;32m----> 1\u001b[0m n\u001b[38;5;241m=\u001b[39m\u001b[38;5;28meval\u001b[39m(\u001b[38;5;28minput\u001b[39m())\n",
      "File \u001b[1;32m<string>:1\u001b[0m\n",
      "\u001b[1;31mNameError\u001b[0m: name 'python' is not defined"
     ]
    }
   ],
   "source": [
    "n=eval(input())"
   ]
  },
  {
   "cell_type": "code",
   "execution_count": null,
   "id": "298ca29f",
   "metadata": {},
   "outputs": [],
   "source": [
    "if<condition>\n",
    "elif <condition>\n",
    "else # No condition"
   ]
  },
  {
   "cell_type": "code",
   "execution_count": 3,
   "id": "d1bbca5f",
   "metadata": {},
   "outputs": [
    {
     "ename": "IndentationError",
     "evalue": "expected an indented block after 'if' statement on line 1 (3504685833.py, line 2)",
     "output_type": "error",
     "traceback": [
      "\u001b[1;36m  Cell \u001b[1;32mIn[3], line 2\u001b[1;36m\u001b[0m\n\u001b[1;33m    print('hello')\u001b[0m\n\u001b[1;37m    ^\u001b[0m\n\u001b[1;31mIndentationError\u001b[0m\u001b[1;31m:\u001b[0m expected an indented block after 'if' statement on line 1\n"
     ]
    }
   ],
   "source": [
    "if a==10:\n",
    "print('hello')"
   ]
  },
  {
   "cell_type": "code",
   "execution_count": null,
   "id": "8202ad47",
   "metadata": {},
   "outputs": [],
   "source": [
    "summ=10  # right\n",
    "max=10   # wrong"
   ]
  },
  {
   "cell_type": "markdown",
   "id": "4e2905fc",
   "metadata": {},
   "source": [
    "# Function"
   ]
  },
  {
   "cell_type": "code",
   "execution_count": 4,
   "id": "878d693b",
   "metadata": {},
   "outputs": [
    {
     "name": "stdout",
     "output_type": "stream",
     "text": [
      "the addition of 10 and 20 is 30\n"
     ]
    }
   ],
   "source": [
    "n1=10\n",
    "n2=20\n",
    "add=n1+n2\n",
    "print(\"the addition of {} and {} is {}\".format(n1,n2,add))"
   ]
  },
  {
   "cell_type": "code",
   "execution_count": null,
   "id": "e4e4ec27",
   "metadata": {},
   "outputs": [],
   "source": [
    "def <funtion_name>():\n",
    "    # write your code here"
   ]
  },
  {
   "cell_type": "code",
   "execution_count": null,
   "id": "aac38584",
   "metadata": {},
   "outputs": [],
   "source": [
    "def addition():\n",
    "    n1=10\n",
    "    n2=20\n",
    "    add=n1+n2\n",
    "    print(\"the addition of {} and {} is {}\".format(n1,n2,add))\n",
    "    "
   ]
  },
  {
   "cell_type": "code",
   "execution_count": null,
   "id": "a68c0316",
   "metadata": {},
   "outputs": [],
   "source": [
    "# the output will not display untill unless you call the funtion"
   ]
  },
  {
   "cell_type": "code",
   "execution_count": 6,
   "id": "1989fe37",
   "metadata": {},
   "outputs": [
    {
     "name": "stdout",
     "output_type": "stream",
     "text": [
      "enter the number56\n",
      "hello\n",
      "im writing funtion\n"
     ]
    }
   ],
   "source": [
    "def addition():\n",
    "    n1=eval(input(\"enter the number\"))\n",
    "    print('hello')\n",
    "    print('im writing funtion')\n",
    "addition()    "
   ]
  },
  {
   "cell_type": "code",
   "execution_count": 7,
   "id": "378a6ba2",
   "metadata": {},
   "outputs": [
    {
     "name": "stdout",
     "output_type": "stream",
     "text": [
      "enter the number34\n",
      "hello\n",
      "im writing funtion\n"
     ]
    }
   ],
   "source": [
    "def hello():\n",
    "    n1=eval(input(\"enter the number\"))\n",
    "    print('hello')\n",
    "    print('im writing funtion')\n",
    "hello()   \n",
    "    "
   ]
  },
  {
   "cell_type": "code",
   "execution_count": 8,
   "id": "d286037b",
   "metadata": {},
   "outputs": [
    {
     "name": "stdout",
     "output_type": "stream",
     "text": [
      "hello good morning\n"
     ]
    }
   ],
   "source": [
    "def hello_world():\n",
    "    print('hello good morning')\n",
    "    \n",
    "hello_world()    "
   ]
  },
  {
   "cell_type": "code",
   "execution_count": null,
   "id": "df7dacd9",
   "metadata": {},
   "outputs": [],
   "source": [
    "# take three number find the average\n",
    "# wap ask the user enter 3 number\n",
    "# n1=eval(input())\n",
    "# n2=eval(input())\n",
    "# n3=eval(input())\n",
    "# avg=(n1+n2+n3)/3\n",
    "# first write normal code\n",
    "# then implemnt the function"
   ]
  },
  {
   "cell_type": "code",
   "execution_count": 9,
   "id": "bbdfd5f2",
   "metadata": {},
   "outputs": [
    {
     "name": "stdout",
     "output_type": "stream",
     "text": [
      "enter the number1:34\n",
      "enter the number2:56\n",
      "enter the number3:87\n"
     ]
    },
    {
     "ename": "NameError",
     "evalue": "name 'num1' is not defined",
     "output_type": "error",
     "traceback": [
      "\u001b[1;31m---------------------------------------------------------------------------\u001b[0m",
      "\u001b[1;31mNameError\u001b[0m                                 Traceback (most recent call last)",
      "Cell \u001b[1;32mIn[9], line 4\u001b[0m\n\u001b[0;32m      2\u001b[0m n2\u001b[38;5;241m=\u001b[39m\u001b[38;5;28meval\u001b[39m(\u001b[38;5;28minput\u001b[39m(\u001b[38;5;124m\"\u001b[39m\u001b[38;5;124menter the number2:\u001b[39m\u001b[38;5;124m\"\u001b[39m))\n\u001b[0;32m      3\u001b[0m n3\u001b[38;5;241m=\u001b[39m\u001b[38;5;28meval\u001b[39m(\u001b[38;5;28minput\u001b[39m(\u001b[38;5;124m\"\u001b[39m\u001b[38;5;124menter the number3:\u001b[39m\u001b[38;5;124m\"\u001b[39m))\n\u001b[1;32m----> 4\u001b[0m avg\u001b[38;5;241m=\u001b[39m(num1\u001b[38;5;241m+\u001b[39mnum2\u001b[38;5;241m+\u001b[39mnum3)\u001b[38;5;241m/\u001b[39m\u001b[38;5;241m3\u001b[39m\n\u001b[0;32m      5\u001b[0m \u001b[38;5;28mprint\u001b[39m(\u001b[38;5;124m\"\u001b[39m\u001b[38;5;124mthe average of \u001b[39m\u001b[38;5;132;01m{}\u001b[39;00m\u001b[38;5;124m ,\u001b[39m\u001b[38;5;132;01m{}\u001b[39;00m\u001b[38;5;124m and \u001b[39m\u001b[38;5;132;01m{}\u001b[39;00m\u001b[38;5;124m is \u001b[39m\u001b[38;5;132;01m{}\u001b[39;00m\u001b[38;5;124m\"\u001b[39m\u001b[38;5;241m.\u001b[39mformat(num1,num2,num3,avg))\n",
      "\u001b[1;31mNameError\u001b[0m: name 'num1' is not defined"
     ]
    }
   ],
   "source": [
    "n1=eval(input(\"enter the number1:\"))\n",
    "n2=eval(input(\"enter the number2:\"))\n",
    "n3=eval(input(\"enter the number3:\"))\n",
    "avg=(num1+num2+num3)/3\n",
    "print(\"the average of {} ,{} and {} is {}\".format(num1,num2,num3,avg))\n",
    "              "
   ]
  },
  {
   "cell_type": "code",
   "execution_count": 13,
   "id": "3b4bdc69",
   "metadata": {},
   "outputs": [
    {
     "name": "stdout",
     "output_type": "stream",
     "text": [
      "enter the number1:34\n",
      "enter the number2:56\n",
      "enter the number3:46\n",
      "name 'num1' is not defined\n"
     ]
    }
   ],
   "source": [
    "def avg1():\n",
    "    try:\n",
    "        n1=eval(input(\"enter the number1:\"))\n",
    "        n2=eval(input(\"enter the number2:\"))\n",
    "        n3=eval(input(\"enter the number3:\"))\n",
    "        average=(num1+num2+num3)/3\n",
    "        print(\"the average of {} ,{} and {} is {}\".format(num1,num2,num3,average))\n",
    "        \n",
    "    except Exception as e:\n",
    "        print(e)\n",
    "avg1()"
   ]
  },
  {
   "cell_type": "code",
   "execution_count": null,
   "id": "659a2452",
   "metadata": {},
   "outputs": [],
   "source": [
    "# wap ask the user enter bill amount\n",
    "#     ask the user enter tip amount\n",
    "#   calculate total bill"
   ]
  },
  {
   "cell_type": "code",
   "execution_count": 17,
   "id": "9f4f84de",
   "metadata": {},
   "outputs": [
    {
     "name": "stdout",
     "output_type": "stream",
     "text": [
      "enter the bill amount:7000\n",
      "enter the tip amount:900\n",
      "the total bill amount is 7900\n"
     ]
    }
   ],
   "source": [
    "def bill():\n",
    "    try:\n",
    "        bill=eval(input(\"enter the bill amount:\"))\n",
    "        tip=eval(input(\"enter the tip amount:\"))\n",
    "        total_bill=bill+tip\n",
    "        print(\"the total bill amount is {}\".format(total_bill))\n",
    "    except Exception as e:\n",
    "        print(e)\n",
    "bill()        \n"
   ]
  },
  {
   "cell_type": "code",
   "execution_count": null,
   "id": "452692df",
   "metadata": {},
   "outputs": [],
   "source": [
    "# wap ask the user get a random number between 1 to 100\n",
    "# print it is even or odd number\n",
    "# implement using function"
   ]
  },
  {
   "cell_type": "code",
   "execution_count": 2,
   "id": "b1c6eb61",
   "metadata": {},
   "outputs": [
    {
     "name": "stdout",
     "output_type": "stream",
     "text": [
      "it is a odd number 19\n"
     ]
    }
   ],
   "source": [
    "import random\n",
    "def odd_even():\n",
    "    num1=random.randint(1,100)\n",
    "    if num1%2==0:\n",
    "        print(\"it is a even number\",num1)\n",
    "    else:\n",
    "        print(\"it is a odd number\",num1)\n",
    "odd_even()        \n",
    "    "
   ]
  },
  {
   "cell_type": "code",
   "execution_count": 3,
   "id": "536f119b",
   "metadata": {},
   "outputs": [
    {
     "name": "stdout",
     "output_type": "stream",
     "text": [
      "hello\n",
      "python\n",
      "{} is a odd number 83\n"
     ]
    }
   ],
   "source": [
    "import random\n",
    "print('hello')\n",
    "print(\"python\")\n",
    "def even_odd():\n",
    "    num1=random.randint(1,100)\n",
    "    if num1%2==0:\n",
    "        print(\"{} is a even number\",num1)\n",
    "    else:\n",
    "        print(\"{} is a odd number\",num1)\n",
    "        \n",
    "even_odd()        \n",
    "    "
   ]
  },
  {
   "cell_type": "code",
   "execution_count": 18,
   "id": "c3262165",
   "metadata": {},
   "outputs": [
    {
     "name": "stdout",
     "output_type": "stream",
     "text": [
      "addition: 50\n",
      "mul function starts\n",
      "mul: 300\n",
      "mul is done\n",
      "substaction function starts\n",
      "substaction: -10\n",
      "substaction is done\n"
     ]
    }
   ],
   "source": [
    "def addition():\n",
    "    n1=20\n",
    "    n2=30\n",
    "    print('addition:',n1+n2)\n",
    "addition()    \n",
    "print(\"mul function starts\")\n",
    "def mul():\n",
    "    n1=10\n",
    "    n2=30\n",
    "    print('mul:',n1*n2)\n",
    "    print(\"mul is done\")\n",
    "mul()    \n",
    "print(\"substaction function starts\")\n",
    "def sub():\n",
    "    n1=20\n",
    "    n2=30\n",
    "    print(\"substaction:\",n1-n2)\n",
    "    print(\"substaction is done\")\n",
    "sub()    "
   ]
  },
  {
   "cell_type": "code",
   "execution_count": 19,
   "id": "786f1bc4",
   "metadata": {},
   "outputs": [
    {
     "name": "stdout",
     "output_type": "stream",
     "text": [
      "the addition of 20 and 30 is 50\n"
     ]
    }
   ],
   "source": [
    "def addition(n1,n2):   # arguments\n",
    "    add=n1+n2\n",
    "    print(\"the addition of {} and {} is {}\".format(n1,n2,add))\n",
    "    \n",
    "addition(20,30)  # n1=20 n2=30   "
   ]
  },
  {
   "cell_type": "code",
   "execution_count": 20,
   "id": "b3cd4c22",
   "metadata": {},
   "outputs": [
    {
     "ename": "TypeError",
     "evalue": "addition() missing 1 required positional argument: 'n2'",
     "output_type": "error",
     "traceback": [
      "\u001b[1;31m---------------------------------------------------------------------------\u001b[0m",
      "\u001b[1;31mTypeError\u001b[0m                                 Traceback (most recent call last)",
      "Cell \u001b[1;32mIn[20], line 5\u001b[0m\n\u001b[0;32m      2\u001b[0m     add\u001b[38;5;241m=\u001b[39mn1\u001b[38;5;241m+\u001b[39mn2\n\u001b[0;32m      3\u001b[0m     \u001b[38;5;28mprint\u001b[39m(\u001b[38;5;124m\"\u001b[39m\u001b[38;5;124mthe addition of \u001b[39m\u001b[38;5;132;01m{}\u001b[39;00m\u001b[38;5;124m and \u001b[39m\u001b[38;5;132;01m{}\u001b[39;00m\u001b[38;5;124m is \u001b[39m\u001b[38;5;132;01m{}\u001b[39;00m\u001b[38;5;124m\"\u001b[39m\u001b[38;5;241m.\u001b[39mformat(n1,n2,add))\n\u001b[1;32m----> 5\u001b[0m addition(\u001b[38;5;241m200\u001b[39m)\n",
      "\u001b[1;31mTypeError\u001b[0m: addition() missing 1 required positional argument: 'n2'"
     ]
    }
   ],
   "source": [
    "def addition(n1,n2):   # arguments\n",
    "    add=n1+n2\n",
    "    print(\"the addition of {} and {} is {}\".format(n1,n2,add))\n",
    "    \n",
    "addition(200)  # n1=200  "
   ]
  },
  {
   "cell_type": "code",
   "execution_count": 21,
   "id": "dae1ee33",
   "metadata": {},
   "outputs": [
    {
     "ename": "NameError",
     "evalue": "name 'n111' is not defined",
     "output_type": "error",
     "traceback": [
      "\u001b[1;31m---------------------------------------------------------------------------\u001b[0m",
      "\u001b[1;31mNameError\u001b[0m                                 Traceback (most recent call last)",
      "Cell \u001b[1;32mIn[21], line 5\u001b[0m\n\u001b[0;32m      2\u001b[0m     add\u001b[38;5;241m=\u001b[39mn111\u001b[38;5;241m+\u001b[39mn222\n\u001b[0;32m      3\u001b[0m     \u001b[38;5;28mprint\u001b[39m(\u001b[38;5;124m\"\u001b[39m\u001b[38;5;124mthe addition of \u001b[39m\u001b[38;5;132;01m{}\u001b[39;00m\u001b[38;5;124m and \u001b[39m\u001b[38;5;132;01m{}\u001b[39;00m\u001b[38;5;124m is \u001b[39m\u001b[38;5;132;01m{}\u001b[39;00m\u001b[38;5;124m\"\u001b[39m\u001b[38;5;241m.\u001b[39mformat(n1,n2,add))\n\u001b[1;32m----> 5\u001b[0m addition11()\n",
      "Cell \u001b[1;32mIn[21], line 2\u001b[0m, in \u001b[0;36maddition11\u001b[1;34m()\u001b[0m\n\u001b[0;32m      1\u001b[0m \u001b[38;5;28;01mdef\u001b[39;00m \u001b[38;5;21maddition11\u001b[39m():   \u001b[38;5;66;03m# arguments\u001b[39;00m\n\u001b[1;32m----> 2\u001b[0m     add\u001b[38;5;241m=\u001b[39mn111\u001b[38;5;241m+\u001b[39mn222\n\u001b[0;32m      3\u001b[0m     \u001b[38;5;28mprint\u001b[39m(\u001b[38;5;124m\"\u001b[39m\u001b[38;5;124mthe addition of \u001b[39m\u001b[38;5;132;01m{}\u001b[39;00m\u001b[38;5;124m and \u001b[39m\u001b[38;5;132;01m{}\u001b[39;00m\u001b[38;5;124m is \u001b[39m\u001b[38;5;132;01m{}\u001b[39;00m\u001b[38;5;124m\"\u001b[39m\u001b[38;5;241m.\u001b[39mformat(n1,n2,add))\n",
      "\u001b[1;31mNameError\u001b[0m: name 'n111' is not defined"
     ]
    }
   ],
   "source": [
    "def addition11():   # arguments\n",
    "    add=n111+n222\n",
    "    print(\"the addition of {} and {} is {}\".format(n1,n2,add))\n",
    "    \n",
    "addition11()  # name error   "
   ]
  },
  {
   "cell_type": "code",
   "execution_count": 22,
   "id": "e65f3d09",
   "metadata": {},
   "outputs": [
    {
     "ename": "TypeError",
     "evalue": "addition() takes 0 positional arguments but 2 were given",
     "output_type": "error",
     "traceback": [
      "\u001b[1;31m---------------------------------------------------------------------------\u001b[0m",
      "\u001b[1;31mTypeError\u001b[0m                                 Traceback (most recent call last)",
      "Cell \u001b[1;32mIn[22], line 5\u001b[0m\n\u001b[0;32m      2\u001b[0m     add\u001b[38;5;241m=\u001b[39mn1\u001b[38;5;241m+\u001b[39mn2\n\u001b[0;32m      3\u001b[0m     \u001b[38;5;28mprint\u001b[39m(\u001b[38;5;124m\"\u001b[39m\u001b[38;5;124mthe addition of \u001b[39m\u001b[38;5;132;01m{}\u001b[39;00m\u001b[38;5;124m and \u001b[39m\u001b[38;5;132;01m{}\u001b[39;00m\u001b[38;5;124m is \u001b[39m\u001b[38;5;132;01m{}\u001b[39;00m\u001b[38;5;124m\"\u001b[39m\u001b[38;5;241m.\u001b[39mformat(n1,n2,add))\n\u001b[1;32m----> 5\u001b[0m addition(\u001b[38;5;241m20\u001b[39m,\u001b[38;5;241m30\u001b[39m)\n",
      "\u001b[1;31mTypeError\u001b[0m: addition() takes 0 positional arguments but 2 were given"
     ]
    }
   ],
   "source": [
    "def addition():   # arguments error\n",
    "    add=n1+n2\n",
    "    print(\"the addition of {} and {} is {}\".format(n1,n2,add))\n",
    "    \n",
    "addition(20,30)  # n1=20 n2=30   "
   ]
  },
  {
   "cell_type": "code",
   "execution_count": 24,
   "id": "05726abc",
   "metadata": {},
   "outputs": [
    {
     "name": "stdout",
     "output_type": "stream",
     "text": [
      "num1 20\n",
      "num2 30\n",
      "num3 40\n",
      "the avarage of 20 ,30 and 40 is 30.0\n"
     ]
    }
   ],
   "source": [
    "#  implemente below code using with arguments\n",
    "def avg1(num1,num2,num3):\n",
    "    try:\n",
    "        print(\"num1\",num1)\n",
    "        print(\"num2\",num2)\n",
    "        print(\"num3\",num3)\n",
    "        avg=(num1+num2+num3)/3\n",
    "        print(\"the avarage of {} ,{} and {} is {}\".format(num1,num2,num3,avg))\n",
    "    except Exception as e:\n",
    "        print(e)\n",
    "avg1(20,30,40)\n",
    "\n"
   ]
  },
  {
   "cell_type": "code",
   "execution_count": null,
   "id": "2e1ec9a3",
   "metadata": {},
   "outputs": [],
   "source": []
  }
 ],
 "metadata": {
  "kernelspec": {
   "display_name": "Python 3 (ipykernel)",
   "language": "python",
   "name": "python3"
  },
  "language_info": {
   "codemirror_mode": {
    "name": "ipython",
    "version": 3
   },
   "file_extension": ".py",
   "mimetype": "text/x-python",
   "name": "python",
   "nbconvert_exporter": "python",
   "pygments_lexer": "ipython3",
   "version": "3.11.5"
  }
 },
 "nbformat": 4,
 "nbformat_minor": 5
}
