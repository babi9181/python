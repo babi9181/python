{
 "cells": [
  {
   "cell_type": "code",
   "execution_count": 1,
   "id": "fae3a73d",
   "metadata": {},
   "outputs": [
    {
     "name": "stdout",
     "output_type": "stream",
     "text": [
      "enter a number1:100\n",
      "enter a number2:0\n"
     ]
    },
    {
     "ename": "NameError",
     "evalue": "name 'add' is not defined",
     "output_type": "error",
     "traceback": [
      "\u001b[1;31m---------------------------------------------------------------------------\u001b[0m",
      "\u001b[1;31mNameError\u001b[0m                                 Traceback (most recent call last)",
      "Cell \u001b[1;32mIn[1], line 4\u001b[0m\n\u001b[0;32m      2\u001b[0m num1\u001b[38;5;241m=\u001b[39m\u001b[38;5;28meval\u001b[39m(\u001b[38;5;28minput\u001b[39m(\u001b[38;5;124m\"\u001b[39m\u001b[38;5;124menter a number1:\u001b[39m\u001b[38;5;124m\"\u001b[39m))\n\u001b[0;32m      3\u001b[0m num2\u001b[38;5;241m=\u001b[39m\u001b[38;5;28meval\u001b[39m(\u001b[38;5;28minput\u001b[39m(\u001b[38;5;124m\"\u001b[39m\u001b[38;5;124menter a number2:\u001b[39m\u001b[38;5;124m\"\u001b[39m))\n\u001b[1;32m----> 4\u001b[0m \u001b[38;5;28mprint\u001b[39m(add)\n",
      "\u001b[1;31mNameError\u001b[0m: name 'add' is not defined"
     ]
    }
   ],
   "source": [
    "#error-2:    #sytex error\n",
    "num1=eval(input(\"enter a number1:\"))\n",
    "num2=eval(input(\"enter a number2:\"))\n",
    "print(add)"
   ]
  },
  {
   "cell_type": "code",
   "execution_count": 2,
   "id": "1cd2acd3",
   "metadata": {},
   "outputs": [
    {
     "name": "stdout",
     "output_type": "stream",
     "text": [
      "enter a number1:20\n",
      "enter a number2:10\n"
     ]
    },
    {
     "ename": "TypeError",
     "evalue": "unsupported operand type(s) for /: 'str' and 'int'",
     "output_type": "error",
     "traceback": [
      "\u001b[1;31m---------------------------------------------------------------------------\u001b[0m",
      "\u001b[1;31mTypeError\u001b[0m                                 Traceback (most recent call last)",
      "Cell \u001b[1;32mIn[2], line 3\u001b[0m\n\u001b[0;32m      1\u001b[0m num1\u001b[38;5;241m=\u001b[39m\u001b[38;5;28minput\u001b[39m(\u001b[38;5;124m\"\u001b[39m\u001b[38;5;124menter a number1:\u001b[39m\u001b[38;5;124m\"\u001b[39m) \u001b[38;5;66;03m#sring\u001b[39;00m\n\u001b[0;32m      2\u001b[0m num2\u001b[38;5;241m=\u001b[39m\u001b[38;5;28meval\u001b[39m(\u001b[38;5;28minput\u001b[39m(\u001b[38;5;124m\"\u001b[39m\u001b[38;5;124menter a number2:\u001b[39m\u001b[38;5;124m\"\u001b[39m))\u001b[38;5;66;03m# int\u001b[39;00m\n\u001b[1;32m----> 3\u001b[0m add\u001b[38;5;241m=\u001b[39m(num1\u001b[38;5;241m/\u001b[39mnum2)\n\u001b[0;32m      4\u001b[0m \u001b[38;5;28mprint\u001b[39m(add)\n",
      "\u001b[1;31mTypeError\u001b[0m: unsupported operand type(s) for /: 'str' and 'int'"
     ]
    }
   ],
   "source": [
    "num1=input(\"enter a number1:\") #sring\n",
    "num2=eval(input(\"enter a number2:\"))# int\n",
    "add=(num1/num2)\n",
    "print(add)"
   ]
  },
  {
   "cell_type": "code",
   "execution_count": 3,
   "id": "87685930",
   "metadata": {},
   "outputs": [
    {
     "name": "stdout",
     "output_type": "stream",
     "text": [
      "enter a number1:100\n",
      "enter a number2:200\n"
     ]
    },
    {
     "ename": "NameError",
     "evalue": "name 'Print' is not defined",
     "output_type": "error",
     "traceback": [
      "\u001b[1;31m---------------------------------------------------------------------------\u001b[0m",
      "\u001b[1;31mNameError\u001b[0m                                 Traceback (most recent call last)",
      "Cell \u001b[1;32mIn[3], line 4\u001b[0m\n\u001b[0;32m      2\u001b[0m num2\u001b[38;5;241m=\u001b[39m\u001b[38;5;28meval\u001b[39m(\u001b[38;5;28minput\u001b[39m(\u001b[38;5;124m\"\u001b[39m\u001b[38;5;124menter a number2:\u001b[39m\u001b[38;5;124m\"\u001b[39m))\n\u001b[0;32m      3\u001b[0m add\u001b[38;5;241m=\u001b[39mnum1\u001b[38;5;241m/\u001b[39mnum2\n\u001b[1;32m----> 4\u001b[0m Print(add)\n",
      "\u001b[1;31mNameError\u001b[0m: name 'Print' is not defined"
     ]
    }
   ],
   "source": [
    "num1=eval(input(\"enter a number1:\"))\n",
    "num2=eval(input(\"enter a number2:\"))\n",
    "add=num1/num2\n",
    "Print(add)"
   ]
  },
  {
   "cell_type": "markdown",
   "id": "cf4dd0ee",
   "metadata": {},
   "source": [
    "#possibile errors:\n",
    ".Name error\n",
    ".sytex error:\"(was never closed\n",
    ".zero division error:division by zero\n",
    ".type error :unsupported"
   ]
  },
  {
   "cell_type": "markdown",
   "id": "1e7c9c6f",
   "metadata": {},
   "source": [
    "# try except\n",
    "\n",
    "- there are two blocks\n",
    "\n",
    "- one try block\n",
    "\n",
    "- another is exception block\n",
    "\n",
    "- your code will be there in try block\n",
    "\n",
    "- error capture will happens in except block\n",
    "\n",
    "- indentation :space\n",
    "\n",
    "- red :space/indentation not maintained properly\n",
    "\n",
    "- indentation has min 4 charecters\n",
    "\n",
    "- :is there,the indentation will be there"
   ]
  },
  {
   "cell_type": "code",
   "execution_count": 4,
   "id": "251a30ee",
   "metadata": {},
   "outputs": [
    {
     "ename": "SyntaxError",
     "evalue": "incomplete input (1801543802.py, line 6)",
     "output_type": "error",
     "traceback": [
      "\u001b[1;36m  Cell \u001b[1;32mIn[4], line 6\u001b[1;36m\u001b[0m\n\u001b[1;33m    print(add)\u001b[0m\n\u001b[1;37m              ^\u001b[0m\n\u001b[1;31mSyntaxError\u001b[0m\u001b[1;31m:\u001b[0m incomplete input\n"
     ]
    }
   ],
   "source": [
    "try:\n",
    "    num1=10\n",
    "    num2=20\n",
    "    num3=20\n",
    "    add=num1+num2+num3\n",
    "    print(add)"
   ]
  },
  {
   "cell_type": "code",
   "execution_count": 5,
   "id": "06e5d6ac",
   "metadata": {},
   "outputs": [
    {
     "ename": "SyntaxError",
     "evalue": "invalid syntax (3137334466.py, line 8)",
     "output_type": "error",
     "traceback": [
      "\u001b[1;36m  Cell \u001b[1;32mIn[5], line 8\u001b[1;36m\u001b[0m\n\u001b[1;33m    except:\u001b[0m\n\u001b[1;37m    ^\u001b[0m\n\u001b[1;31mSyntaxError\u001b[0m\u001b[1;31m:\u001b[0m invalid syntax\n"
     ]
    }
   ],
   "source": [
    "try:\n",
    "    num1=10\n",
    "    num2=0\n",
    "    num3=20\n",
    "    add=num1/num2  # 10/0 === > zero\n",
    "    print(add)\n",
    "    \n",
    "    except:\n",
    "        print(\"error is there,check code\")"
   ]
  },
  {
   "cell_type": "code",
   "execution_count": 6,
   "id": "6e5b0003",
   "metadata": {},
   "outputs": [
    {
     "name": "stdout",
     "output_type": "stream",
     "text": [
      "enter number1:20\n",
      "enter number2:30\n",
      "enter number3:40\n",
      "the average of 20 ,30 and 40 is 30.0\n"
     ]
    }
   ],
   "source": [
    "# wap ask the user enter 3 numbers and find average\n",
    "num1=eval(input(\"enter number1:\"))\n",
    "num2=eval(input(\"enter number2:\"))\n",
    "num3=eval(input(\"enter number3:\"))\n",
    "average=(num1+num2+num3)/3\n",
    "print(\"the average of {} ,{} and {} is {}\".format(num1,num2,num3,average))"
   ]
  },
  {
   "cell_type": "code",
   "execution_count": 7,
   "id": "69555571",
   "metadata": {},
   "outputs": [
    {
     "name": "stdout",
     "output_type": "stream",
     "text": [
      "enter number1:10\n",
      "enter number2:20\n",
      "enter number3:30\n",
      "the average of 10 ,20 and 30 is 20.0\n"
     ]
    }
   ],
   "source": [
    "try:\n",
    "    num1=eval(input(\"enter number1:\"))\n",
    "    num2=eval(input(\"enter number2:\"))\n",
    "    num3=eval(input(\"enter number3:\"))\n",
    "    average=(num1+num2+num3)/3\n",
    "    print(\"the average of {} ,{} and {} is {}\".format(num1,num2,num3,average))\n",
    "    \n",
    "except Exception as e:\n",
    "    print(e)"
   ]
  },
  {
   "cell_type": "code",
   "execution_count": 8,
   "id": "42f9d9fb",
   "metadata": {},
   "outputs": [
    {
     "name": "stdout",
     "output_type": "stream",
     "text": [
      "enter number1:20\n",
      "enter number2:30\n",
      "enter number3:40\n",
      "division by zero\n"
     ]
    }
   ],
   "source": [
    "try:\n",
    "    num1=eval(input(\"enter number1:\"))\n",
    "    num2=eval(input(\"enter number2:\"))\n",
    "    num3=eval(input(\"enter number3:\"))\n",
    "    average=(num1+num2+num3)/0\n",
    "    print(\"the average of {} ,{} and {} is {}\".format(num1,num2,num3,average))\n",
    "    \n",
    "except Exception as e:\n",
    "    print(e)"
   ]
  },
  {
   "cell_type": "code",
   "execution_count": 9,
   "id": "8afbe952",
   "metadata": {},
   "outputs": [
    {
     "name": "stdout",
     "output_type": "stream",
     "text": [
      "enter number1:10\n",
      "enter number2:20\n",
      "enter number3:30\n",
      "name 'num33' is not defined\n"
     ]
    }
   ],
   "source": [
    "try:\n",
    "    num1=eval(input(\"enter number1:\"))\n",
    "    num2=eval(input(\"enter number2:\"))\n",
    "    num3=eval(input(\"enter number3:\"))\n",
    "    average=(num1+num2+num33)/3\n",
    "    print(\"the average of {} ,{} and {} is {}\".format(num1,num2,num3,average))\n",
    "    \n",
    "except Exception as e:\n",
    "    print(e)"
   ]
  },
  {
   "cell_type": "code",
   "execution_count": null,
   "id": "df524ba7",
   "metadata": {},
   "outputs": [],
   "source": [
    "# wap ask the user enter a number and find the squre of the number"
   ]
  },
  {
   "cell_type": "code",
   "execution_count": 10,
   "id": "855247a8",
   "metadata": {},
   "outputs": [
    {
     "name": "stdout",
     "output_type": "stream",
     "text": [
      "enter the number10\n",
      "the squre of number 10 is 100\n"
     ]
    }
   ],
   "source": [
    "try:\n",
    "    value1=eval(input(\"enter the number\"))\n",
    "    squre=value1*value1\n",
    "    print(\"the squre of number {} is {}\".format(value1,squre))\n",
    "    \n",
    "except Exception as e:\n",
    "    print(e)"
   ]
  },
  {
   "cell_type": "code",
   "execution_count": 11,
   "id": "7f82ff6b",
   "metadata": {},
   "outputs": [
    {
     "data": {
      "text/plain": [
       "(None, None, None)"
      ]
     },
     "execution_count": 11,
     "metadata": {},
     "output_type": "execute_result"
    }
   ],
   "source": [
    "import sys \n",
    "sys.exc_info()"
   ]
  },
  {
   "cell_type": "code",
   "execution_count": 12,
   "id": "98d52509",
   "metadata": {},
   "outputs": [
    {
     "name": "stdout",
     "output_type": "stream",
     "text": [
      "enter the number10\n",
      "the squre of number 10 is 100\n"
     ]
    }
   ],
   "source": [
    "try:\n",
    "    value1=eval(input(\"enter the number\"))\n",
    "    squre=value1*value1\n",
    "    print(\"the squre of number {} is {}\".format(value1,squre))\n",
    "    \n",
    "except Exception as e:\n",
    "    print(e)\n",
    "    print('hello')"
   ]
  },
  {
   "cell_type": "code",
   "execution_count": 13,
   "id": "330212bc",
   "metadata": {},
   "outputs": [
    {
     "name": "stdout",
     "output_type": "stream",
     "text": [
      "enter the number10\n",
      "name 'value111' is not defined\n",
      "hyy\n"
     ]
    }
   ],
   "source": [
    "try:\n",
    "    value1=eval(input(\"enter the number\"))\n",
    "    squre=value1*value1\n",
    "    print(\"the squre of number {} is {}\".format(value111,squre))\n",
    "    \n",
    "except Exception as e:\n",
    "    print(e)\n",
    "    print('hyy')"
   ]
  },
  {
   "cell_type": "code",
   "execution_count": 14,
   "id": "c45f095d",
   "metadata": {},
   "outputs": [
    {
     "name": "stdout",
     "output_type": "stream",
     "text": [
      "enter the number10\n",
      "hyy\n",
      "name 'value111' is not defined\n",
      "hello\n"
     ]
    }
   ],
   "source": [
    "try:\n",
    "    value1=eval(input(\"enter the number\"))\n",
    "    squre=value1*value1\n",
    "    print(\"the squre of number {} is {}\".format(value111,squre))\n",
    "    \n",
    "except Exception as e:\n",
    "    print('hyy')\n",
    "    print(e)\n",
    "    print('hello')"
   ]
  },
  {
   "cell_type": "code",
   "execution_count": 15,
   "id": "b0e2db94",
   "metadata": {},
   "outputs": [
    {
     "name": "stdout",
     "output_type": "stream",
     "text": [
      "enter the number10\n",
      "hyy\n",
      "name 'value111' is not defined\n",
      "hello\n",
      "python\n",
      "1\n",
      "2\n"
     ]
    }
   ],
   "source": [
    "try:\n",
    "    value1=eval(input(\"enter the number\"))\n",
    "    squre=value1*value1\n",
    "    print(\"the squre of number {} is {}\".format(value111,squre)) # error\n",
    "    \n",
    "except Exception as e:\n",
    "    print('hyy')\n",
    "    print(e)\n",
    "    print('hello')\n",
    "\n",
    "    \n",
    "print('python')\n",
    "print(1)\n",
    "print(2)\n",
    "    "
   ]
  },
  {
   "cell_type": "code",
   "execution_count": null,
   "id": "89b7eb99",
   "metadata": {},
   "outputs": [],
   "source": []
  },
  {
   "cell_type": "markdown",
   "id": "fbf76bc6",
   "metadata": {},
   "source": [
    "- if your code is with out error ,try block will execute\n",
    "\n",
    "- if your code has errors , it will redirect to except block\n",
    "\n",
    "- what ever you written inside except block that will run\n",
    "\n",
    "- try and exception is together\n",
    "\n",
    "- ones try and exception code are complete, it try to look any other lines of code are there"
   ]
  },
  {
   "cell_type": "code",
   "execution_count": 16,
   "id": "ee6acdf0",
   "metadata": {},
   "outputs": [
    {
     "name": "stdout",
     "output_type": "stream",
     "text": [
      "===================\n",
      "8\n",
      "*******************\n",
      "enter the number20\n",
      "hyy\n",
      "name 'value111' is not defined\n",
      "hello\n",
      "python\n",
      "1\n",
      "2\n"
     ]
    }
   ],
   "source": [
    "print(\"===================\")\n",
    "print(3+5)\n",
    "print('*******************')\n",
    "\n",
    "try:\n",
    "    value1=eval(input(\"enter the number\"))\n",
    "    squre=value1*value1\n",
    "    print(\"the squre of number {} is {}\".format(value111,squre)) # error\n",
    "    \n",
    "except Exception as e:\n",
    "    print('hyy')\n",
    "    print(e)\n",
    "    print('hello')\n",
    "\n",
    "    \n",
    "print('python')\n",
    "print(1)\n",
    "print(2)\n",
    "    "
   ]
  },
  {
   "cell_type": "code",
   "execution_count": 17,
   "id": "bb896632",
   "metadata": {},
   "outputs": [
    {
     "name": "stdout",
     "output_type": "stream",
     "text": [
      "100\n"
     ]
    }
   ],
   "source": [
    "print(100)"
   ]
  },
  {
   "cell_type": "code",
   "execution_count": null,
   "id": "ab1e6942",
   "metadata": {},
   "outputs": [],
   "source": []
  }
 ],
 "metadata": {
  "kernelspec": {
   "display_name": "Python 3 (ipykernel)",
   "language": "python",
   "name": "python3"
  },
  "language_info": {
   "codemirror_mode": {
    "name": "ipython",
    "version": 3
   },
   "file_extension": ".py",
   "mimetype": "text/x-python",
   "name": "python",
   "nbconvert_exporter": "python",
   "pygments_lexer": "ipython3",
   "version": "3.11.5"
  }
 },
 "nbformat": 4,
 "nbformat_minor": 5
}
